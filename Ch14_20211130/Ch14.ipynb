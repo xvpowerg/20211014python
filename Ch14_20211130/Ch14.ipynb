{
 "cells": [
  {
   "cell_type": "markdown",
   "id": "6378ad15",
   "metadata": {},
   "source": [
    "## 人數統計"
   ]
  },
  {
   "cell_type": "code",
   "execution_count": 13,
   "id": "e2179773",
   "metadata": {},
   "outputs": [
    {
     "name": "stdout",
     "output_type": "stream",
     "text": [
      "民國106年1月總人數:8397.0\n",
      "民國106年2月總人數:8393.0\n",
      "民國106年3月總人數:8389.0\n",
      "民國106年4月總人數:8376.0\n",
      "民國106年5月總人數:8378.0\n",
      "民國106年6月總人數:8395.0\n",
      "民國106年7月總人數:8411.0\n",
      "民國106年8月總人數:8409.0\n",
      "民國106年9月總人數:8406.0\n",
      "民國106年10月總人數:8413.0\n",
      "民國106年11月總人數:8408.0\n",
      "民國106年12月總人數:8408.0\n",
      "民國107年1月總人數:8414.0\n",
      "民國107年2月總人數:8421.0\n",
      "民國107年3月總人數:8411.0\n",
      "民國107年4月總人數:8392.0\n",
      "民國107年5月總人數:8404.0\n",
      "8421\n",
      "8376\n",
      "8406.0\n",
      "8401.470588235294\n"
     ]
    }
   ],
   "source": [
    "import numpy as np\n",
    "list = [8397,8393,8389,8376,8378,8395,8411,8409,8406,8413,8408,8408,8414,8421,8411,8392,8404]\n",
    "npArray = np.array(list)\n",
    "month = 1\n",
    "year = 106\n",
    "for v in npArray:\n",
    "    print(f'民國{year}年{month}月總人數:{v:.1f}')\n",
    "    if month == 12:\n",
    "       month = 0  \n",
    "       year+=1\n",
    "    month+=1\n",
    "print(npArray.max())\n",
    "print(npArray.min())\n",
    "print(np.median(npArray))\n",
    "print(np.mean(npArray))"
   ]
  },
  {
   "cell_type": "markdown",
   "id": "8c0c8d83",
   "metadata": {},
   "source": [
    "## 陣列刪除資料\n",
    "+ 這個動作方法會依照指定的軸 (維度) 與指定的索引的陣列刪除資料。\n",
    "+ 如果沒有提到軸 (維度)，陣列會以一維方式刪除指定位置資料。\n",
    "+ Delete( ) 函數需要以下參數：\n",
    "   + arr：欲刪除資料的陣列。\n",
    "   + index：刪除資料位置的索引值編號。\n",
    "   + axis：指定的軸(維度)，如果沒有給這參數，則會變成一維。"
   ]
  },
  {
   "cell_type": "code",
   "execution_count": 3,
   "id": "fa13646c",
   "metadata": {},
   "outputs": [
    {
     "name": "stdout",
     "output_type": "stream",
     "text": [
      "[[1 2 3]\n",
      " [4 5 6]\n",
      " [7 8 9]]\n",
      "\n",
      "[1 2 3 5 6 7 8 9]\n",
      "[1 2 4 5 6 7 8 9]\n",
      "\n"
     ]
    }
   ],
   "source": [
    "import numpy as np\n",
    "a = np.array([[1,2,3],[4,5,6],[7,8,9]])\n",
    "print(a)\n",
    "print( )\n",
    "b=np.delete(a,3)\n",
    "print(b)\n",
    "b=np.delete(a,2)\n",
    "print(b)\n",
    "print( )"
   ]
  },
  {
   "cell_type": "code",
   "execution_count": 5,
   "id": "1a6ca16b",
   "metadata": {},
   "outputs": [
    {
     "name": "stdout",
     "output_type": "stream",
     "text": [
      "[[1 2 3]\n",
      " [4 5 6]\n",
      " [7 8 9]]\n",
      "\n",
      "[[1 2 3]\n",
      " [7 8 9]]\n",
      "\n"
     ]
    }
   ],
   "source": [
    "import numpy as np\n",
    "a = np.array([[1,2,3],\n",
    "              [4,5,6],\n",
    "              [7,8,9]])\n",
    "print(a)\n",
    "print( )\n",
    "c=np.delete(a,1,axis = 0)\n",
    "print(c)\n",
    "print( )"
   ]
  },
  {
   "cell_type": "code",
   "execution_count": 9,
   "id": "bc0bc228",
   "metadata": {},
   "outputs": [
    {
     "name": "stdout",
     "output_type": "stream",
     "text": [
      "[[1 2 3]\n",
      " [4 5 6]\n",
      " [7 8 9]]\n",
      "\n",
      "[[1 3]\n",
      " [4 6]\n",
      " [7 9]]\n",
      "\n"
     ]
    }
   ],
   "source": [
    "import numpy as np\n",
    "a = np.array([[1,2,3],\n",
    "              [4,5,6],\n",
    "              [7,8,9]])\n",
    "print(a)\n",
    "print( )\n",
    "c=np.delete(a,1,axis = 1)\n",
    "print(c)\n",
    "print( )"
   ]
  },
  {
   "cell_type": "markdown",
   "id": "322c0721",
   "metadata": {},
   "source": [
    "## 讀存檔案\n",
    "+ 可使用 np.loadtxt( ) 方法進行檔案的讀取。\n",
    "+ 若不需要讀入第一列，可使用 skiprows=1 來忽略第一列。\n",
    "+ 若我們的資料是利用 ‘,’ 當作資料與資料之間的分格符號，可使用 delimiter=‘ , ’ 設定，預設為空白。\n",
    "+ 若設定 unpack=True 代表可以將 Column 分別切出來 (預設為False)。\n",
    "+ 但是，當我們欲要讀的檔案，裡面有遺失值的時候，loadtxt 這個動作將會產生錯誤。\u000b",
    "loadtxt( ) 必須是在每一 row 都有相同數量的 value 下，才可以使用。\n",
    "  + 建議改用 genfromtxt( ) 方法 ，它可以針對遺失值進行處理。\n",
    "  + 參數加上 filling_values 可以把原本缺失的資料補上指定的資料。\n",
    "+ 可利用 savetxt( ) 將資料存進檔案裡面保存。\n",
    "+ genfromtxt 可透過 skip_header=1  參數忽略第一列。\n",
    "+ 碰到遺失值的處理：\n",
    "  + loadtxt 碰到遺失值會產生錯誤。\n",
    "  + genfromtxt 碰到遺失值會以 nan 來表示。\n",
    "+ genfromtxt 進行存取時：\n",
    "  + 資料預設為浮點數(科學記數法)，所以建議儲存的時候以 fmt 進行格式設定。\n",
    "  + 開啟時若資料為整數，請加入 dtype 設定為 int。"
   ]
  },
  {
   "cell_type": "code",
   "execution_count": 20,
   "id": "b2137f3b",
   "metadata": {},
   "outputs": [
    {
     "name": "stdout",
     "output_type": "stream",
     "text": [
      "[[0.2 0.1]\n",
      " [0.4 0.5]\n",
      " [0.1 0.6]\n",
      " [0.1 0.3]\n",
      " [0.7 0.3]]\n",
      "value1: [0.2 0.4 0.1 0.1 0.7]\n",
      "value2: [0.1 0.5 0.6 0.3 0.3]\n",
      "[0.4 0.1]\n"
     ]
    }
   ],
   "source": [
    "import numpy as np\n",
    "x = np.loadtxt('data1.csv',skiprows=1,delimiter=',')\n",
    "print(x)\n",
    "y,z = np.loadtxt('data1.csv',skiprows=1,unpack=True,delimiter=',')# 把cloum割出來\n",
    "print(\"value1:\",y)\n",
    "print(\"value2:\",z)\n",
    "q = y[z >= 0.5]\n",
    "print(q)"
   ]
  },
  {
   "cell_type": "markdown",
   "id": "58a922ab",
   "metadata": {},
   "source": [
    "## 碰到遺失值的處理"
   ]
  },
  {
   "cell_type": "code",
   "execution_count": 21,
   "id": "0aa0b940",
   "metadata": {},
   "outputs": [
    {
     "ename": "ValueError",
     "evalue": "could not convert string to float: ''",
     "output_type": "error",
     "traceback": [
      "\u001b[1;31m---------------------------------------------------------------------------\u001b[0m",
      "\u001b[1;31mValueError\u001b[0m                                Traceback (most recent call last)",
      "\u001b[1;32m~\\AppData\\Local\\Temp/ipykernel_7732/1331652216.py\u001b[0m in \u001b[0;36m<module>\u001b[1;34m\u001b[0m\n\u001b[0;32m      1\u001b[0m \u001b[1;32mimport\u001b[0m \u001b[0mnumpy\u001b[0m \u001b[1;32mas\u001b[0m \u001b[0mnp\u001b[0m\u001b[1;33m\u001b[0m\u001b[1;33m\u001b[0m\u001b[0m\n\u001b[1;32m----> 2\u001b[1;33m \u001b[0mx\u001b[0m \u001b[1;33m=\u001b[0m \u001b[0mnp\u001b[0m\u001b[1;33m.\u001b[0m\u001b[0mloadtxt\u001b[0m\u001b[1;33m(\u001b[0m\u001b[1;34m'data2.csv'\u001b[0m\u001b[1;33m,\u001b[0m\u001b[0mskiprows\u001b[0m\u001b[1;33m=\u001b[0m\u001b[1;36m1\u001b[0m\u001b[1;33m,\u001b[0m \u001b[0mdelimiter\u001b[0m\u001b[1;33m=\u001b[0m\u001b[1;34m','\u001b[0m\u001b[1;33m)\u001b[0m\u001b[1;33m\u001b[0m\u001b[1;33m\u001b[0m\u001b[0m\n\u001b[0m\u001b[0;32m      3\u001b[0m \u001b[0mprint\u001b[0m\u001b[1;33m(\u001b[0m\u001b[0mx\u001b[0m\u001b[1;33m)\u001b[0m\u001b[1;33m\u001b[0m\u001b[1;33m\u001b[0m\u001b[0m\n\u001b[0;32m      4\u001b[0m \u001b[0my\u001b[0m\u001b[1;33m,\u001b[0m \u001b[0mz\u001b[0m \u001b[1;33m=\u001b[0m \u001b[0mnp\u001b[0m\u001b[1;33m.\u001b[0m\u001b[0mloadtxt\u001b[0m\u001b[1;33m(\u001b[0m\u001b[1;34m'data2.csv'\u001b[0m\u001b[1;33m,\u001b[0m\u001b[0mskiprows\u001b[0m\u001b[1;33m=\u001b[0m\u001b[1;36m1\u001b[0m\u001b[1;33m,\u001b[0m\u001b[0munpack\u001b[0m\u001b[1;33m=\u001b[0m\u001b[1;32mTrue\u001b[0m\u001b[1;33m,\u001b[0m \u001b[0mdelimiter\u001b[0m\u001b[1;33m=\u001b[0m\u001b[1;34m','\u001b[0m\u001b[1;33m)\u001b[0m\u001b[1;33m\u001b[0m\u001b[1;33m\u001b[0m\u001b[0m\n\u001b[0;32m      5\u001b[0m \u001b[0mprint\u001b[0m\u001b[1;33m(\u001b[0m\u001b[1;34m\"Value1=\"\u001b[0m\u001b[1;33m,\u001b[0m\u001b[0my\u001b[0m\u001b[1;33m)\u001b[0m\u001b[1;33m\u001b[0m\u001b[1;33m\u001b[0m\u001b[0m\n",
      "\u001b[1;32m~\\anaconda3\\lib\\site-packages\\numpy\\lib\\npyio.py\u001b[0m in \u001b[0;36mloadtxt\u001b[1;34m(fname, dtype, comments, delimiter, converters, skiprows, usecols, unpack, ndmin, encoding, max_rows, like)\u001b[0m\n\u001b[0;32m   1144\u001b[0m         \u001b[1;31m# converting the data\u001b[0m\u001b[1;33m\u001b[0m\u001b[1;33m\u001b[0m\u001b[1;33m\u001b[0m\u001b[0m\n\u001b[0;32m   1145\u001b[0m         \u001b[0mX\u001b[0m \u001b[1;33m=\u001b[0m \u001b[1;32mNone\u001b[0m\u001b[1;33m\u001b[0m\u001b[1;33m\u001b[0m\u001b[0m\n\u001b[1;32m-> 1146\u001b[1;33m         \u001b[1;32mfor\u001b[0m \u001b[0mx\u001b[0m \u001b[1;32min\u001b[0m \u001b[0mread_data\u001b[0m\u001b[1;33m(\u001b[0m\u001b[0m_loadtxt_chunksize\u001b[0m\u001b[1;33m)\u001b[0m\u001b[1;33m:\u001b[0m\u001b[1;33m\u001b[0m\u001b[1;33m\u001b[0m\u001b[0m\n\u001b[0m\u001b[0;32m   1147\u001b[0m             \u001b[1;32mif\u001b[0m \u001b[0mX\u001b[0m \u001b[1;32mis\u001b[0m \u001b[1;32mNone\u001b[0m\u001b[1;33m:\u001b[0m\u001b[1;33m\u001b[0m\u001b[1;33m\u001b[0m\u001b[0m\n\u001b[0;32m   1148\u001b[0m                 \u001b[0mX\u001b[0m \u001b[1;33m=\u001b[0m \u001b[0mnp\u001b[0m\u001b[1;33m.\u001b[0m\u001b[0marray\u001b[0m\u001b[1;33m(\u001b[0m\u001b[0mx\u001b[0m\u001b[1;33m,\u001b[0m \u001b[0mdtype\u001b[0m\u001b[1;33m)\u001b[0m\u001b[1;33m\u001b[0m\u001b[1;33m\u001b[0m\u001b[0m\n",
      "\u001b[1;32m~\\anaconda3\\lib\\site-packages\\numpy\\lib\\npyio.py\u001b[0m in \u001b[0;36mread_data\u001b[1;34m(chunk_size)\u001b[0m\n\u001b[0;32m    995\u001b[0m \u001b[1;33m\u001b[0m\u001b[0m\n\u001b[0;32m    996\u001b[0m             \u001b[1;31m# Convert each value according to its column and store\u001b[0m\u001b[1;33m\u001b[0m\u001b[1;33m\u001b[0m\u001b[1;33m\u001b[0m\u001b[0m\n\u001b[1;32m--> 997\u001b[1;33m             \u001b[0mitems\u001b[0m \u001b[1;33m=\u001b[0m \u001b[1;33m[\u001b[0m\u001b[0mconv\u001b[0m\u001b[1;33m(\u001b[0m\u001b[0mval\u001b[0m\u001b[1;33m)\u001b[0m \u001b[1;32mfor\u001b[0m \u001b[1;33m(\u001b[0m\u001b[0mconv\u001b[0m\u001b[1;33m,\u001b[0m \u001b[0mval\u001b[0m\u001b[1;33m)\u001b[0m \u001b[1;32min\u001b[0m \u001b[0mzip\u001b[0m\u001b[1;33m(\u001b[0m\u001b[0mconverters\u001b[0m\u001b[1;33m,\u001b[0m \u001b[0mvals\u001b[0m\u001b[1;33m)\u001b[0m\u001b[1;33m]\u001b[0m\u001b[1;33m\u001b[0m\u001b[1;33m\u001b[0m\u001b[0m\n\u001b[0m\u001b[0;32m    998\u001b[0m \u001b[1;33m\u001b[0m\u001b[0m\n\u001b[0;32m    999\u001b[0m             \u001b[1;31m# Then pack it according to the dtype's nesting\u001b[0m\u001b[1;33m\u001b[0m\u001b[1;33m\u001b[0m\u001b[1;33m\u001b[0m\u001b[0m\n",
      "\u001b[1;32m~\\anaconda3\\lib\\site-packages\\numpy\\lib\\npyio.py\u001b[0m in \u001b[0;36m<listcomp>\u001b[1;34m(.0)\u001b[0m\n\u001b[0;32m    995\u001b[0m \u001b[1;33m\u001b[0m\u001b[0m\n\u001b[0;32m    996\u001b[0m             \u001b[1;31m# Convert each value according to its column and store\u001b[0m\u001b[1;33m\u001b[0m\u001b[1;33m\u001b[0m\u001b[1;33m\u001b[0m\u001b[0m\n\u001b[1;32m--> 997\u001b[1;33m             \u001b[0mitems\u001b[0m \u001b[1;33m=\u001b[0m \u001b[1;33m[\u001b[0m\u001b[0mconv\u001b[0m\u001b[1;33m(\u001b[0m\u001b[0mval\u001b[0m\u001b[1;33m)\u001b[0m \u001b[1;32mfor\u001b[0m \u001b[1;33m(\u001b[0m\u001b[0mconv\u001b[0m\u001b[1;33m,\u001b[0m \u001b[0mval\u001b[0m\u001b[1;33m)\u001b[0m \u001b[1;32min\u001b[0m \u001b[0mzip\u001b[0m\u001b[1;33m(\u001b[0m\u001b[0mconverters\u001b[0m\u001b[1;33m,\u001b[0m \u001b[0mvals\u001b[0m\u001b[1;33m)\u001b[0m\u001b[1;33m]\u001b[0m\u001b[1;33m\u001b[0m\u001b[1;33m\u001b[0m\u001b[0m\n\u001b[0m\u001b[0;32m    998\u001b[0m \u001b[1;33m\u001b[0m\u001b[0m\n\u001b[0;32m    999\u001b[0m             \u001b[1;31m# Then pack it according to the dtype's nesting\u001b[0m\u001b[1;33m\u001b[0m\u001b[1;33m\u001b[0m\u001b[1;33m\u001b[0m\u001b[0m\n",
      "\u001b[1;32m~\\anaconda3\\lib\\site-packages\\numpy\\lib\\npyio.py\u001b[0m in \u001b[0;36mfloatconv\u001b[1;34m(x)\u001b[0m\n\u001b[0;32m    732\u001b[0m         \u001b[1;32mif\u001b[0m \u001b[1;34m'0x'\u001b[0m \u001b[1;32min\u001b[0m \u001b[0mx\u001b[0m\u001b[1;33m:\u001b[0m\u001b[1;33m\u001b[0m\u001b[1;33m\u001b[0m\u001b[0m\n\u001b[0;32m    733\u001b[0m             \u001b[1;32mreturn\u001b[0m \u001b[0mfloat\u001b[0m\u001b[1;33m.\u001b[0m\u001b[0mfromhex\u001b[0m\u001b[1;33m(\u001b[0m\u001b[0mx\u001b[0m\u001b[1;33m)\u001b[0m\u001b[1;33m\u001b[0m\u001b[1;33m\u001b[0m\u001b[0m\n\u001b[1;32m--> 734\u001b[1;33m         \u001b[1;32mreturn\u001b[0m \u001b[0mfloat\u001b[0m\u001b[1;33m(\u001b[0m\u001b[0mx\u001b[0m\u001b[1;33m)\u001b[0m\u001b[1;33m\u001b[0m\u001b[1;33m\u001b[0m\u001b[0m\n\u001b[0m\u001b[0;32m    735\u001b[0m \u001b[1;33m\u001b[0m\u001b[0m\n\u001b[0;32m    736\u001b[0m     \u001b[0mtyp\u001b[0m \u001b[1;33m=\u001b[0m \u001b[0mdtype\u001b[0m\u001b[1;33m.\u001b[0m\u001b[0mtype\u001b[0m\u001b[1;33m\u001b[0m\u001b[1;33m\u001b[0m\u001b[0m\n",
      "\u001b[1;31mValueError\u001b[0m: could not convert string to float: ''"
     ]
    }
   ],
   "source": [
    "import numpy as np\n",
    "x = np.loadtxt('data2.csv',skiprows=1, delimiter=',')\n",
    "print(x)\n",
    "y, z = np.loadtxt('data2.csv',skiprows=1,unpack=True, delimiter=',')\n",
    "print(\"Value1=\",y)\n",
    "print(\"Value2=\",z)"
   ]
  },
  {
   "cell_type": "code",
   "execution_count": 27,
   "id": "613502bf",
   "metadata": {},
   "outputs": [
    {
     "name": "stdout",
     "output_type": "stream",
     "text": [
      "[[0.2 0.1]\n",
      " [0.4 nan]\n",
      " [0.1 0.6]\n",
      " [0.1 0.3]\n",
      " [nan 0.3]]\n",
      "[[0.2   0.1  ]\n",
      " [0.4   0.001]\n",
      " [0.1   0.6  ]\n",
      " [0.1   0.3  ]\n",
      " [0.001 0.3  ]]\n"
     ]
    }
   ],
   "source": [
    "import numpy as np\n",
    "a = np.genfromtxt('data2.csv',delimiter=',',skip_header=1)\n",
    "print(a)\n",
    "#help(np.savetxt) #查看文件\n",
    "np.savetxt('data1a.csv', a, delimiter=',',fmt='%1.4f') #存檔\n",
    "# filling_values 設定缺少數值要填入的內容\n",
    "b = np.genfromtxt('data2.csv',delimiter=\",\",skip_header=1,filling_values=0.001)\n",
    "print(b)\n",
    "np.savetxt('data1b.csv',b,delimiter=',')"
   ]
  },
  {
   "cell_type": "markdown",
   "id": "f71faf6b",
   "metadata": {},
   "source": [
    "## 範圍與百分位數\n",
    "+ np.ptp( ) 計算最大與最小值的差（最大 -(減) 最小）。\n",
    "+ np.percentile( ) 方法代表百分位數，用於統計數據的度量指標，需要三個參數：\n",
    "  + array：陣列。\n",
    "  + percent：計算的百分位數，介於 0 到 100 之間。\n",
    "  + axis：進行計算的軸。\n",
    "+ 百分位數是一種位置量數，有助於瞭解資料在最小值與最大值之間的分布情況。\n",
    "+ p- 百分位數表示：\n",
    "  + 至少有 p-百分比 (p%) 的觀察值小於或者等於他。\n",
    "  + 至少有 (100-p)% 的觀察值大於或等於他。\n",
    "+ 計算方式：\n",
    "  + 將資料由小到大排序。\n",
    "  + 計算 i=(p%*樣本數) 之位置。\n",
    "  + 於 i 位置：\n",
    "    + a. 若不是整數，無條件進位取比 i 大的下一個整數位置的值。\n",
    "    + b. 若為整數，則由 i 與 i+1 兩個位置上的值取平均。"
   ]
  },
  {
   "cell_type": "markdown",
   "id": "f2a1ca11",
   "metadata": {},
   "source": [
    "## np.ptp( ) 計算最大與最小值的差（最大 -(減) 最小）。"
   ]
  },
  {
   "cell_type": "code",
   "execution_count": 28,
   "id": "6faa532c",
   "metadata": {},
   "outputs": [
    {
     "name": "stdout",
     "output_type": "stream",
     "text": [
      "[[ 0 30 45]\n",
      " [60 75 90]]\n",
      "\n",
      "---------------\n",
      "90\n",
      "[60 45 45]\n",
      "---------------\n",
      "[45 30]\n",
      "---------------\n"
     ]
    }
   ],
   "source": [
    "import numpy as np\n",
    "a = np.array([[0, 30,45],\n",
    "              [60,75,90]])\n",
    "print(a)\n",
    "print()\n",
    "print(\"---------------\")\n",
    "print(np.ptp(a))# 90-0\n",
    "b=np.ptp(a, axis = 0)# [60-0,75-30,90-45]\n",
    "print(b)\n",
    "print(\"---------------\")\n",
    "b=np.ptp(a, axis = 1)#[45 -0,90-60]\n",
    "print(b)\n",
    "print(\"---------------\")"
   ]
  },
  {
   "cell_type": "markdown",
   "id": "e8f16c67",
   "metadata": {},
   "source": [
    "## np.percentile\n",
    "+ np.percentile( ) 方法代表百分位數，用於統計數據的度量指標，需要三個參數：\n",
    "  + array：陣列。\n",
    "  + percent：計算的百分位數，介於 0 到 100 之間。\n",
    "  + axis：進行計算的軸。\n",
    "+ 百分位數是一種位置量數，有助於瞭解資料在最小值與最大值之間的分布情況。\n",
    "+ p- 百分位數表示：\n",
    "  + 至少有 p-百分比 (p%) 的觀察值小於或者等於他。\n",
    "  + 至少有 (100-p)% 的觀察值大於或等於他。\n",
    "+ 計算方式：\n",
    "  + 將資料由小到大排序。\n",
    "  + 計算 i=(p%*樣本數) 之位置。\n",
    "  + 於 i 位置：\n",
    "    + a. 若不是整數，無條件進位取比 i 大的下一個整數位置的值。\n",
    "    + b. 若為整數，則由 i 與 i+1 兩個位置上的值取平均。"
   ]
  },
  {
   "cell_type": "code",
   "execution_count": 29,
   "id": "7343131d",
   "metadata": {},
   "outputs": [
    {
     "name": "stdout",
     "output_type": "stream",
     "text": [
      "The percentile is: 8.0\n",
      "The percentile is: 4.25\n",
      "The percentile is: [8. 6. 5.]\n",
      "The percentile is: [9. 4.]\n"
     ]
    }
   ],
   "source": [
    "import numpy as np\n",
    "\n",
    "arry = np.array([4,6,10,12,8])\n",
    "#                           1 2 3  4 5 \n",
    "# 注意percentile會在內部排序 4 6 8 10 12\n",
    "# n是長度\n",
    "# 位置=1+(n-1)*p n是元素 p是百分比 \n",
    "#以下案例是:n=5 p=50\n",
    "\"\"\"\n",
    "1+(5-1)*0.5 = 3\n",
    "正好落在 index為3的位置 答案是8\n",
    "\"\"\"\n",
    "b = np.percentile(arry, 50) \n",
    "print(\"The percentile is:\",b)\n",
    "\n",
    "a = np.array([[11, 8, 9], [5, 4, 1]])\n",
    "#以下案例是:n=5 p=25\n",
    "# 1 2 3 4 5 6\n",
    "# 1 4 5 8 9 11\n",
    "\"\"\"\n",
    "先算出位置:\n",
    "1+(6-1)X0.25 = 2.25\n",
    "因為落在2.25所以index為2與3之間的數值\n",
    "2.25的小數部分取出 0.25 所以下列公式乘上0.25\n",
    "4 + (5-4) * 0.25  = 4.25\n",
    "\"\"\"\n",
    "b = np.percentile(a, 25)\n",
    "print(\"The percentile is:\",b) \n",
    "\"\"\"\n",
    "[11,8,9]\n",
    "[5,4,1]\n",
    "先算出位置:\n",
    "因為axis=0 所以是垂直計算\n",
    "1+(2-1) * 0.5 = 1.5 \n",
    "計算出的index是1.5\n",
    "1.5正好落在1與2之間 取出index:1與index:2的數做計算\n",
    "1.5的小數部分取出 0.5 所以乘上0.5\n",
    "(11-5) * 0.5 + 5 = 8\n",
    "\"\"\"\n",
    "b = np.percentile(a, 50,axis=0)\n",
    "print(\"The percentile is:\",b)\n",
    "\"\"\"\n",
    "[11,8,9]\n",
    "[5,4,1]\n",
    "\n",
    "8 9 11\n",
    "1 4  5 \n",
    "\n",
    "先算出位置:\n",
    "因為axis=1 所以是水平計算\n",
    "1+(3-1) x 0.5 = 2 \n",
    "正好 index:2 所以9\n",
    "\n",
    "先算出位置:\n",
    "因為axis=1 所以是水平計算\n",
    "1+(3-1) x 0.5 = 2\n",
    "正好 index:2 所以4\n",
    " \n",
    "\n",
    "\"\"\"\n",
    "\n",
    "b = np.percentile(a, 50,axis=1)\n",
    "print(\"The percentile is:\",b)"
   ]
  },
  {
   "cell_type": "markdown",
   "id": "4620a5ef",
   "metadata": {},
   "source": [
    "## 變異數與標準差\n",
    "+ 變異數代表所有資料到平均數的距離之平方。\n",
    "+ 標準差代表變異數開平方根，也就是可依此表示資料的分散程度。\n",
    "+ var( ) 代表由陣列取得變異數的方法。\n",
    "+ std( ) 代表由陣列取得標準差的方法。"
   ]
  },
  {
   "cell_type": "code",
   "execution_count": 32,
   "id": "caaedd0d",
   "metadata": {},
   "outputs": [
    {
     "name": "stdout",
     "output_type": "stream",
     "text": [
      "[1 2 3 4]\n",
      "========MEAN========\n",
      "2.5\n",
      "========VAR========\n",
      "1.25\n",
      "1.25\n",
      "========STD========\n",
      "1.118033988749895\n",
      "1.118033988749895\n"
     ]
    }
   ],
   "source": [
    "import math\n",
    "import numpy as np\n",
    "a = np.array([1,2,3,4])\n",
    "print(a)\n",
    "# 1+2+3+4 = 10\n",
    "# 10/4=2.5 平均值為2.5\n",
    "mean = a.mean()\n",
    "print(\"========MEAN========\")\n",
    "print(mean)\n",
    "var = ((a - mean)**2).mean()#numpy 作法\n",
    "#(1-2.5)^2 + (2-2.5)^2 + (3-2.5)^2 + (4-2.5)^2 /4\n",
    "#var = ((1-2.5)**2 + (2-2.5) **2 + (3-2.5)**2 + (4-2.5)**2) /4 #python的寫法\n",
    "print(\"========VAR========\")\n",
    "print(var)#變異數\n",
    "b = np.var(a)#變異數\n",
    "print(b)\n",
    "print(\"========STD========\")\n",
    "print(math.sqrt(var))#標準差\n",
    "b=np.std(a)#標準差\n",
    "print(b)\n"
   ]
  },
  {
   "cell_type": "markdown",
   "id": "076ea72f",
   "metadata": {},
   "source": [
    "## 累加與累差\n",
    "+ np.cumsum( ) 方法進行指定軸資料的累加。\n",
    "+ 參數：\n",
    "  + array：陣列\n",
    "  + axis：軸，沒有指定軸則會平坦化後進行累加\n",
    "+ 維持原有的資料數量，且在計算結果上進行下一個計算。\n",
    "+ np.diff( ) 方法進行指定軸資料的累差。\n",
    "+ 參數：\n",
    "  + array：陣列\n",
    "  + axis：軸，沒有指定軸預設 axis 為 1\n",
    "+ 以原資料進行資料內容刪除，若 axis 為 0 則減少一個 row，若 axis 為 1 減少一個 column。\n"
   ]
  },
  {
   "cell_type": "markdown",
   "id": "ceae474f",
   "metadata": {},
   "source": [
    "### 累加"
   ]
  },
  {
   "cell_type": "code",
   "execution_count": 33,
   "id": "26717b78",
   "metadata": {},
   "outputs": [
    {
     "name": "stdout",
     "output_type": "stream",
     "text": [
      "[[ 1  2  3]\n",
      " [13  6  9]\n",
      " [12 24 36]]\n",
      "[  1   3   6  19  25  34  46  70 106]\n",
      "---------------\n",
      "[[ 1  2  3]\n",
      " [14  8 12]\n",
      " [26 32 48]]\n",
      "---------------\n",
      "[[ 1  3  6]\n",
      " [13 19 28]\n",
      " [12 36 72]]\n",
      "---------------\n"
     ]
    }
   ],
   "source": [
    "import numpy as np\n",
    "a = np.array([[1, 2, 3], \n",
    "              [13, 6, 9], \n",
    "              [12, 24, 36]])\n",
    "print(a)\n",
    "print(np.cumsum(a))\n",
    "print(\"---------------\")\n",
    "print(np.cumsum(a,axis=0))\n",
    "print(\"---------------\")\n",
    "print(np.cumsum(a,axis=1))\n",
    "print(\"---------------\")"
   ]
  },
  {
   "cell_type": "markdown",
   "id": "3c9d61a1",
   "metadata": {},
   "source": [
    "### 累差"
   ]
  },
  {
   "cell_type": "code",
   "execution_count": 35,
   "id": "cd3ce1e1",
   "metadata": {},
   "outputs": [
    {
     "name": "stdout",
     "output_type": "stream",
     "text": [
      "[[ 1  2  3]\n",
      " [13  6  9]]\n",
      "[[ 1  1]\n",
      " [-7  3]]\n",
      "---------------\n",
      "[[12  4  6]]\n",
      "---------------\n",
      "[[ 1  1]\n",
      " [-7  3]]\n",
      "---------------\n"
     ]
    }
   ],
   "source": [
    "import numpy as np\n",
    "a = np.array([[1, 2, 3], \n",
    "              [13, 6, 9]])\n",
    "print(a)\n",
    "print(np.diff(a))#預設axis=1\n",
    "print(\"---------------\")\n",
    "print(np.diff(a,axis=0))#[13-1,6-2,9-3]\n",
    "print(\"---------------\")\n",
    "print(np.diff(a,axis=1))#[2-1,3-2]\n",
    "                        #[6-13,9-6]\n",
    "print(\"---------------\")"
   ]
  },
  {
   "cell_type": "markdown",
   "id": "8fe76ff6",
   "metadata": {},
   "source": [
    "## 讀取檔案-有遺失值與儲存\n",
    "\n",
    "[dtype](https://www.tutorialspoint.com/numpy/numpy_data_types.htm)"
   ]
  },
  {
   "cell_type": "code",
   "execution_count": 44,
   "id": "314b8fa6",
   "metadata": {},
   "outputs": [
    {
     "name": "stdout",
     "output_type": "stream",
     "text": [
      "[[ 106    1 8397  364  209  291  398  516  524  630  633  608  615  713\n",
      "   648  584  509  308  304  298  171   58   15    1]\n",
      " [ 106    2 8393  359  210  293  394  513  524  624  636  599  630  709\n",
      "   649  584  515  303  302  300  174   59   15    1]\n",
      " [ 106    3 8389  353  219  283  397  509  530  617  635  602  636  707\n",
      "   643  585  517  304  307  297  174   59   14    1]\n",
      " [ 106    4 8376  349  211  277  395  511  532  614  641  603  635  699\n",
      "   647  586  519  304  305  297  175   61   14    1]\n",
      " [ 106    5 8378  352  218  273  395  512  526  610  642  602  638  687\n",
      "   652  594  518  305  307  298  172   61   15    1]\n",
      " [ 106    6 8395  352  225  271  393  516  529  612  642  603  629  693\n",
      "   656  597  516  308  306  297  174   59   16    1]\n",
      " [ 106    7 8411  363  220  276  387  518  529  611  650  602  619  699\n",
      "   652  606  521  305  308  294  174   60   16    1]\n",
      " [ 106    8 8409  362  222  277  380  515  533  605  649  608  615  705\n",
      "   646  607  529  301  309  295  177   57   16    1]\n",
      " [ 106    9 8406  359  223  271  371  527  528  601  645  606  621  705\n",
      "   651  606  531  305  302  302  176   59   16    1]]\n",
      "uint16\n"
     ]
    }
   ],
   "source": [
    "import numpy as np\n",
    "a = np.genfromtxt('data4.csv',dtype='uint16',delimiter=',',skip_header=1,encoding='utf-8')\n",
    "print(a)\n",
    "print(a.dtype)"
   ]
  },
  {
   "cell_type": "markdown",
   "id": "2c567ec1",
   "metadata": {},
   "source": [
    "# Numpy查找資料與Copy"
   ]
  },
  {
   "cell_type": "markdown",
   "id": "1ab95d78",
   "metadata": {},
   "source": [
    "## 查找資料條件與回傳\n",
    "+ np.where( ) 方法將會返回輸入陣列中滿足設定的條件之元素索引：\n",
    "  + np.where(陣列查找資料條件)\n",
    "  + 傳回值是符合條件的欄位索引值\n",
    "+ np.extract( ) 方法將會返回滿足任何條件的元素：\n",
    "  + np.extract(陣列查找資料條件,陣列)\n",
    "  + 傳回值是符合條件的欄位內容"
   ]
  },
  {
   "cell_type": "markdown",
   "id": "0c0ab1fa",
   "metadata": {},
   "source": [
    "## where 與 extract"
   ]
  },
  {
   "cell_type": "code",
   "execution_count": 57,
   "id": "bc8b5049",
   "metadata": {},
   "outputs": [
    {
     "name": "stdout",
     "output_type": "stream",
     "text": [
      "[False  True  True  True  True  True]\n",
      "===================\n",
      "(array([1, 2, 3, 4, 5], dtype=int64),)\n",
      "[30 45 60 75 90]\n",
      "[30 45 60 75 90]\n",
      "===================\n",
      "[ True  True False  True False  True]\n",
      "===================\n",
      "(array([0, 1, 3, 5], dtype=int64),)\n",
      "[ 0 30 60 90]\n",
      "[ 0 30 60 90]\n"
     ]
    }
   ],
   "source": [
    "import numpy as np\n",
    "a = np.array([0,30,45,60,75,90])\n",
    "print(a > 15)\n",
    "print(\"===================\")\n",
    "b = np.where(a > 15)\n",
    "print(b)\n",
    "print (a[b])\n",
    "print (a[a > 15])\n",
    "print(\"===================\")\n",
    "condition = (np.mod(a,2) == 0)\n",
    "print(condition)\n",
    "print(\"===================\")\n",
    "b = np.where(condition) # 回傳符合條件的index\n",
    "print(b)\n",
    "print (a[b])\n",
    "print(np.extract(condition, a))"
   ]
  },
  {
   "cell_type": "markdown",
   "id": "f0632017",
   "metadata": {},
   "source": [
    "## 陣列複製\n",
    "+ 陣列指派拷貝：若以指派的方式將陣列交給另外一個，這兩個陣列的記憶體位址會是相同，兩個的資料變化與形狀變化會是相同。\n",
    "+ 陣列淺層拷貝：若以 view( ) 方式將陣列交給另外一個，將形狀複製到另外一個陣列，這兩個陣列的記憶體位址不同，兩個陣列形狀變化不會相同，但兩個的資料變化相同。\n",
    "+ 陣列深層拷貝：若以 copy( ) 方式將陣列交給另外一個，則會將形狀與資料複製到另外一個陣列，這兩個陣列的記憶體位址不同，兩個陣列形狀變化不會相同，兩個的資料變化也不同。\n"
   ]
  },
  {
   "cell_type": "markdown",
   "id": "dff78f2f",
   "metadata": {},
   "source": [
    "### 無copy的情況"
   ]
  },
  {
   "cell_type": "code",
   "execution_count": 58,
   "id": "cf0535da",
   "metadata": {},
   "outputs": [
    {
     "name": "stdout",
     "output_type": "stream",
     "text": [
      "[0 1 2 3 4 5]\n",
      "========================\n",
      "2455472284944\n",
      "========================\n",
      "[0 1 2 3 4 5]\n",
      "========================\n",
      "2455472284944\n",
      "========================\n",
      "[[0 1]\n",
      " [2 3]\n",
      " [4 5]]\n",
      "========================\n",
      "[[0 1]\n",
      " [2 3]\n",
      " [4 5]]\n",
      "========================\n",
      "[[100   1]\n",
      " [  2   3]\n",
      " [  4   5]]\n"
     ]
    }
   ],
   "source": [
    "import numpy as np\n",
    "a = np.arange(6)\n",
    "print(a)\n",
    "print(\"========================\")\n",
    "print(id(a))\n",
    "b = a\n",
    "print(\"========================\")\n",
    "print(b)\n",
    "print(\"========================\")\n",
    "print(id(b))\n",
    "print(\"========================\")\n",
    "b.shape = 3,2\n",
    "print(b)\n",
    "print(\"========================\")\n",
    "print(a)\n",
    "b[0,0] = 100\n",
    "print(\"========================\")\n",
    "print(a)"
   ]
  },
  {
   "cell_type": "markdown",
   "id": "a0602274",
   "metadata": {},
   "source": [
    "### View"
   ]
  },
  {
   "cell_type": "code",
   "execution_count": 60,
   "id": "f41eb21a",
   "metadata": {},
   "outputs": [
    {
     "name": "stdout",
     "output_type": "stream",
     "text": [
      "[0 1 2 3 4 5]\n",
      "2455472285520\n",
      "========================\n",
      "[0 1 2 3 4 5]\n",
      "2455472286384\n",
      "========================\n",
      "[[0 1]\n",
      " [2 3]\n",
      " [4 5]]\n",
      "[0 1 2 3 4 5]\n",
      "========================\n",
      "[100   1   2   3   4   5]\n"
     ]
    }
   ],
   "source": [
    "import numpy as np\n",
    "a = np.arange(6)\n",
    "print(a)\n",
    "print(id(a))\n",
    "print(\"========================\")\n",
    "b = a.view( )\n",
    "print(b)\n",
    "print(id(b))\n",
    "print(\"========================\")\n",
    "b.shape = 3,2\n",
    "print(b) # b shape變\n",
    "print(a) # a shape不變\n",
    "print(\"========================\")\n",
    "b[0,0] = 100 # b改了 a會變\n",
    "print(a) # "
   ]
  },
  {
   "cell_type": "markdown",
   "id": "2f23315c",
   "metadata": {},
   "source": [
    "## 陣列複製"
   ]
  },
  {
   "cell_type": "code",
   "execution_count": 62,
   "id": "857b66c4",
   "metadata": {},
   "outputs": [
    {
     "name": "stdout",
     "output_type": "stream",
     "text": [
      "[0 1 2 3 4 5]\n",
      "2455472284752\n",
      "========================\n",
      "[0 1 2 3 4 5]\n",
      "2455472285712\n",
      "========================\n",
      "[[0 1]\n",
      " [2 3]\n",
      " [4 5]]\n",
      "[0 1 2 3 4 5]\n",
      "========================\n",
      "[[100   1]\n",
      " [  2   3]\n",
      " [  4   5]]\n",
      "[0 1 2 3 4 5]\n"
     ]
    }
   ],
   "source": [
    "import numpy as np\n",
    "a = np.arange(6)\n",
    "print(a)\n",
    "print(id(a))\n",
    "print(\"========================\")\n",
    "b = a.copy( )\n",
    "print(b)\n",
    "print(id(b))\n",
    "print(\"========================\")\n",
    "b.shape = 3,2\n",
    "print(b)\n",
    "print(a)\n",
    "print(\"========================\")\n",
    "b[0,0] = 100\n",
    "print(b)\n",
    "print(a) "
   ]
  },
  {
   "cell_type": "markdown",
   "id": "b25b7e1a",
   "metadata": {},
   "source": [
    "## 繪製圖表\n",
    "+ 請先引用 matplotlib 套件：\n",
    "  + import matplotlib.pyplot as plt\n",
    "+ 只有繪製折線圖可使用 plt.plot( ) 方法繪製。\n",
    "+ 若 plot( ) 方法內只有一個參數，預設為 y 軸資料，x 軸為預設整數值。\n",
    "+ 若 plot( ) 方法內有兩個參數，代表 x 軸與 y 軸座標，若為四個參數，代表兩條曲線。\n",
    "+ 最後顯示出圖片請加上 .show( ) 方法。"
   ]
  },
  {
   "attachments": {
    "image-2.png": {
     "image/png": "[encoded data removed]"
    }
   },
   "cell_type": "markdown",
   "id": "30d39acf",
   "metadata": {},
   "source": [
    "## 圖表基本區塊!\n",
    "![image-2.png](attachment:image-2.png)"
   ]
  },
  {
   "cell_type": "markdown",
   "id": "7a364bd9",
   "metadata": {},
   "source": [
    "### figure 可加入參數\n",
    "+ plt.figure( ) 方法會建立一個圖像，該代碼後的所有圖像會繪製到這個圖像中，一個項目中可以添加多個  figure，常用參數如下：\n",
    " + num：設置圖像的序號，不設置該參數，自動默認編號。\n",
    " + figsize：設置圖像大小。\n",
    " + facecolor：圖像前景色。"
   ]
  },
  {
   "cell_type": "code",
   "execution_count": 63,
   "id": "0937ca2f",
   "metadata": {},
   "outputs": [
    {
     "data": {
      "image/png": "[encoded data removed]",
      "text/plain": [
       "<Figure size 576x360 with 1 Axes>"
      ]
     },
     "metadata": {
      "needs_background": "light"
     },
     "output_type": "display_data"
    }
   ],
   "source": [
    "import matplotlib.pyplot as plt\n",
    "data = [-1, -4.3, 15, 21, 31]\n",
    "plt.figure(num=3, figsize=(8, 5))\n",
    "plt.plot(data) \n",
    "plt.show( )"
   ]
  },
  {
   "cell_type": "code",
   "execution_count": 64,
   "id": "8b048f85",
   "metadata": {},
   "outputs": [
    {
     "data": {
      "image/png": "[encoded data removed]",
      "text/plain": [
       "<Figure size 432x288 with 1 Axes>"
      ]
     },
     "metadata": {
      "needs_background": "light"
     },
     "output_type": "display_data"
    }
   ],
   "source": [
    "import  matplotlib.pyplot  as  plt\n",
    "x1 = range(0, 22, 3)\n",
    "y1 = [25.6, 23.2, 18.5, 28.3, 26.5, 30.5, 32.6, 33.1]\n",
    "plt.plot(x1, y1)\n",
    "plt.show( )"
   ]
  },
  {
   "cell_type": "code",
   "execution_count": null,
   "id": "818715a3",
   "metadata": {},
   "outputs": [],
   "source": []
  }
 ],
 "metadata": {
  "kernelspec": {
   "display_name": "Python 3 (ipykernel)",
   "language": "python",
   "name": "python3"
  },
  "language_info": {
   "codemirror_mode": {
    "name": "ipython",
    "version": 3
   },
   "file_extension": ".py",
   "mimetype": "text/x-python",
   "name": "python",
   "nbconvert_exporter": "python",
   "pygments_lexer": "ipython3",
   "version": "3.8.11"
  }
 },
 "nbformat": 4,
 "nbformat_minor": 5
}
