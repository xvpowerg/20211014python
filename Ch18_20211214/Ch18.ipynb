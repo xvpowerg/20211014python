{
 "cells": [
  {
   "cell_type": "markdown",
   "id": "b99f41ab",
   "metadata": {},
   "source": [
    "## 檔案讀取查詢\n",
    "### 作業1 輸入郵遞區號查地址"
   ]
  },
  {
   "cell_type": "code",
   "execution_count": null,
   "id": "9e6c7f5e",
   "metadata": {},
   "outputs": [],
   "source": [
    "import csv\n",
    "inValue = input(\"請輸入郵遞區號:\")\n",
    "with open(\"HW16__Data.csv\",'r',encoding=\"utf-8\") as data:\n",
    "    csvList = csv.reader(data)\n",
    "    for data in csvList :\n",
    "        if data[2] == inValue:\n",
    "           print(data)"
   ]
  },
  {
   "cell_type": "markdown",
   "id": "f2668626",
   "metadata": {},
   "source": [
    "## 作業：開啟檔案計算各種資訊\n",
    "+ 請開啟 HW15__Data.csv，開啟時加入參數 usecols=(x, y) ，代表使用 index=x 與 index=y 的 column。\n",
    "請列出收盤價與成交量。\n",
    "+ 加權平均代表以成交量作為權重。"
   ]
  },
  {
   "cell_type": "code",
   "execution_count": 1,
   "id": "7e1504bf",
   "metadata": {},
   "outputs": [
    {
     "name": "stdout",
     "output_type": "stream",
     "text": [
      "收盤價： [104.08 110.26  96.8  ...  26.87  26.37  26.5 ]\n",
      "------\n",
      "成交量: [70749800. 54967000. 79260700. ...  5444000.  2346400.  2981600.]\n",
      "收盤價最大值 199.83\n",
      "收盤價最小值 12.94\n",
      "收盤價平均數 46.79861864824865\n",
      "收盤價中位數 38.13\n",
      "收盤價加權平均 63.11373661448603\n"
     ]
    }
   ],
   "source": [
    "import numpy as np\n",
    "x,y=np.loadtxt('HW15__Data.csv',delimiter=',',skiprows=1,usecols=(4,5),unpack=True)\n",
    "print(\"收盤價：\",x)\n",
    "print('------')\n",
    "print(\"成交量:\",y)\n",
    "print(\"收盤價最大值\",np.max(x))\n",
    "print(\"收盤價最小值\",np.min(x))\n",
    "print(\"收盤價平均數\",np.mean(x))\n",
    "print(\"收盤價中位數\",np.median(x))\n",
    "print(\"收盤價加權平均\",np.average(x,weights=y))"
   ]
  },
  {
   "cell_type": "markdown",
   "id": "28e3c360",
   "metadata": {},
   "source": [
    "## 重複值偵測\n",
    "+ 可利用 duplicated( ) 方法檢查 dataframe 內的 row 是否有完整重複值資料。\n",
    "+ 若 duplicated( ) 方法內加入欄位名稱代表檢查某欄位是否有重複資料。\n",
    "+ drop_duplicates( ) 方法將會丟棄重複值：\n",
    "  + 預設保留第一個。\n",
    "  + 若加入 keep=‘first’ 將得到相同結果。\n",
    "  + 若加入 keep=‘last’ 將保留最後一個。\n",
    "  + 若加入 keep=False 代表不保留。\n",
    "+ 站在 row 的角度，若有多個重複的資料，那 row 也會執行多個重複值的檢查與刪除。\n",
    "+ 站在 column 角度，若要進行重複值的檢查與刪除，必須告訴他column 名稱，若是兩個欄位以上，請加入 subset=[‘欄位1’,‘欄位2’]。\n"
   ]
  },
  {
   "cell_type": "code",
   "execution_count": 2,
   "id": "e295f4f3",
   "metadata": {},
   "outputs": [
    {
     "name": "stdout",
     "output_type": "stream",
     "text": [
      "    A   B  C  D\n",
      "0   2   3  5  5\n",
      "1   5   5  5  5\n",
      "2   5   5  5  5\n",
      "3  13  23  5  5\n",
      "------0----\n",
      "0    False\n",
      "1    False\n",
      "2     True\n",
      "3    False\n",
      "dtype: bool\n",
      "-------1---------\n",
      "0    False\n",
      "1    False\n",
      "2     True\n",
      "3    False\n",
      "dtype: bool\n",
      "-------2---------\n",
      "0    False\n",
      "1     True\n",
      "2     True\n",
      "3     True\n",
      "dtype: bool\n",
      "-------3---------\n"
     ]
    }
   ],
   "source": [
    "import pandas as pd\n",
    "import  numpy as np\n",
    "from io import  StringIO\n",
    "csv_data='''\n",
    "A,B,C,D\n",
    "2,3,5,5\n",
    "5,5,5,5\n",
    "5,5,5,5\n",
    "13,23,5,5\n",
    "'''\n",
    "df=pd.read_csv(StringIO(csv_data))\n",
    "print(df)\n",
    "print(\"------0----\")\n",
    "print(df.duplicated()) #因為index 2的row 5 5 5 與 index 1的row 5 5 5 一模一樣所以重複\n",
    "print(\"-------1---------\")\n",
    "print(df.duplicated('A')) # 單獨查A欄的數值是否重複\n",
    "print(\"-------2---------\")\n",
    "print(df.duplicated('D'))\n",
    "print(\"-------3---------\")"
   ]
  },
  {
   "cell_type": "markdown",
   "id": "15c71a74",
   "metadata": {},
   "source": [
    "### 丟棄重複值的資料"
   ]
  },
  {
   "cell_type": "code",
   "execution_count": 3,
   "id": "7440abdf",
   "metadata": {},
   "outputs": [
    {
     "name": "stdout",
     "output_type": "stream",
     "text": [
      "    A   B  C  D\n",
      "0   2   3  5  5\n",
      "1   5   5  5  5\n",
      "2   5   5  5  5\n",
      "3  13  23  5  5\n",
      "==================\n",
      "    A   B  C  D\n",
      "0   2   3  5  5\n",
      "1   5   5  5  5\n",
      "3  13  23  5  5\n",
      "==================\n",
      "    A   B  C  D\n",
      "0   2   3  5  5\n",
      "2   5   5  5  5\n",
      "3  13  23  5  5\n",
      "==================\n",
      "    A   B  C  D\n",
      "0   2   3  5  5\n",
      "3  13  23  5  5\n",
      "==================\n"
     ]
    }
   ],
   "source": [
    "import pandas as pd\n",
    "import  numpy as np\n",
    "from io import  StringIO\n",
    "csv_data='''\n",
    "A,B,C,D\n",
    "2,3,5,5\n",
    "5,5,5,5\n",
    "5,5,5,5\n",
    "13,23,5,5\n",
    "'''\n",
    "df=pd.read_csv(StringIO(csv_data))\n",
    "print(df)\n",
    "print(\"==================\")\n",
    "print(df.drop_duplicates())#保留第一個重複的\n",
    "print(\"==================\")\n",
    "print(df.drop_duplicates(keep='last')) #保留最後一個重複的\n",
    "print(\"==================\")\n",
    "print(df.drop_duplicates(keep=False)) #不保留\n",
    "print(\"==================\")"
   ]
  },
  {
   "cell_type": "code",
   "execution_count": 4,
   "id": "e827f2bf",
   "metadata": {},
   "outputs": [
    {
     "name": "stdout",
     "output_type": "stream",
     "text": [
      "    A   B  C  D\n",
      "0   2   3  5  5\n",
      "1   5   5  5  5\n",
      "2   5   5  5  5\n",
      "3  13  23  5  5\n",
      "======\n",
      "   A  B  C  D\n",
      "0  2  3  5  5\n",
      "======\n",
      "    A   B  C  D\n",
      "3  13  23  5  5\n",
      "======\n",
      "Empty DataFrame\n",
      "Columns: [A, B, C, D]\n",
      "Index: []\n",
      "======\n",
      "    A   B  C  D\n",
      "0   2   3  5  5\n",
      "3  13  23  5  5\n",
      "======\n",
      "    A   B  C  D\n",
      "0   2   3  5  5\n",
      "1   5   5  5  5\n",
      "3  13  23  5  5\n"
     ]
    }
   ],
   "source": [
    "# import pandas as pd\n",
    "import  numpy as np\n",
    "from io import  StringIO\n",
    "csv_data='''\n",
    "A,B,C,D\n",
    "2,3,5,5\n",
    "5,5,5,5\n",
    "5,5,5,5\n",
    "13,23,5,5\n",
    "'''\n",
    "df=pd.read_csv(StringIO(csv_data))\n",
    "print(df)\n",
    "print(\"======\")\n",
    "print(df.drop_duplicates(subset=['C','D'])) #因為C D 重頭到尾都重複 所以 只留index :0的資料\n",
    "print(\"======\")\n",
    "print(df.drop_duplicates(subset=['C','D'],keep='last'))#因為C D 重頭到尾都重複 keep 為 last 所以 只留index :3\n",
    "print(\"======\")\n",
    "print(df.drop_duplicates(subset=['C','D'],keep=False))#因為C D 重頭到尾都重複 keep 為 False都不留 所以空\n",
    "print(\"======\")\n",
    "print(df.drop_duplicates(subset=['A','D'],keep=False))\n",
    "print(\"======\")\n",
    "print(df.drop_duplicates(subset=['B']))"
   ]
  },
  {
   "cell_type": "markdown",
   "id": "5fa090b7",
   "metadata": {},
   "source": [
    "## Column 的索引值名稱變更"
   ]
  },
  {
   "cell_type": "code",
   "execution_count": 5,
   "id": "8a7360c3",
   "metadata": {},
   "outputs": [
    {
     "name": "stdout",
     "output_type": "stream",
     "text": [
      "   Score1  Score2\n",
      "A      85      59\n",
      "B      25      59\n",
      "C      80      51\n",
      "==================\n",
      "   成績1  Score2\n",
      "A   85      59\n",
      "B   25      59\n",
      "C   80      51\n",
      "==================\n",
      "    成績1  Score2\n",
      "A+   85      59\n",
      "B    25      59\n",
      "C    80      51\n"
     ]
    }
   ],
   "source": [
    "import pandas as pd\n",
    "df = pd.DataFrame([[85,59],[25,59],[80,51]],index=['A','B','C'],columns=['Score1','Score2'])\n",
    "print(df)\n",
    "df = df.rename(columns={\"Score1\":\"成績1\"})\n",
    "print(\"==================\")\n",
    "print(df)\n",
    "df = df.rename(index={\"A\":\"A+\"})\n",
    "print(\"==================\")\n",
    "print(df)"
   ]
  },
  {
   "cell_type": "markdown",
   "id": "69ff9b5c",
   "metadata": {},
   "source": [
    "## 資料分析轉換\n",
    "+ Series 的 map 方法可以接受一個函數或含有 map 關係的字典型資訊。\n",
    "+ 使用 map 是一種實現元素轉換以及其他資訊清理工作的方式。 \n",
    "+ 可以搭配 Series 或 dict、匿名函數與一般函數作業。"
   ]
  },
  {
   "cell_type": "code",
   "execution_count": 6,
   "id": "a2a614cf",
   "metadata": {},
   "outputs": [
    {
     "name": "stdout",
     "output_type": "stream",
     "text": [
      "0    0\n",
      "1    1\n",
      "2    2\n",
      "3    3\n",
      "4    4\n",
      "5    5\n",
      "6    6\n",
      "7    7\n",
      "8    8\n",
      "9    9\n",
      "dtype: int64\n",
      "--------------\n",
      "0    10\n",
      "1    11\n",
      "2    12\n",
      "3    13\n",
      "4    14\n",
      "5    15\n",
      "6    16\n",
      "7    17\n",
      "8    18\n",
      "9    19\n",
      "dtype: int64\n",
      "--------------\n",
      "0    0\n",
      "1   -1\n",
      "2   -2\n",
      "3   -3\n",
      "4   -4\n",
      "5   -5\n",
      "6   -6\n",
      "7   -7\n",
      "8   -8\n",
      "9   -9\n",
      "dtype: int64\n",
      "--------------\n"
     ]
    }
   ],
   "source": [
    "import pandas as pd\n",
    "s1 = pd.Series(range(10))\n",
    "s2=s1.map(lambda x:x+10)\n",
    "s3=s1.map(lambda x:x*-1)\n",
    "print(s1)\n",
    "print(\"--------------\")\n",
    "print(s2)\n",
    "print(\"--------------\")\n",
    "print(s3)\n",
    "print(\"--------------\")"
   ]
  },
  {
   "cell_type": "code",
   "execution_count": 8,
   "id": "f154bf37",
   "metadata": {},
   "outputs": [
    {
     "name": "stdout",
     "output_type": "stream",
     "text": [
      "one      1\n",
      "two      2\n",
      "three    3\n",
      "dtype: int64\n",
      "--------------\n",
      "1    foo\n",
      "2    bar\n",
      "3    baz\n",
      "dtype: object\n",
      "--------------\n",
      "one      foo\n",
      "two      bar\n",
      "three    baz\n",
      "dtype: object\n",
      "--------------\n",
      "one      A\n",
      "two      B\n",
      "three    C\n",
      "dtype: object\n",
      "--------------\n",
      "{1: 'A', 2: 'B', 3: 'C'}\n",
      "--------------\n"
     ]
    }
   ],
   "source": [
    "import pandas as pd\n",
    "x = pd.Series([1,2,3], index=['one', 'two', 'three'])\n",
    "y = pd.Series(['foo', 'bar', 'baz'], index=[1,2,3])#可以把index當作key\n",
    "x1=x.map(y) #y的index對上 x的value 決定要換置的數值 在x內 value是1 index:one 在y內value是foo index是1\n",
    "# y的index跟 x的value對上了 把x的value換成y的value \n",
    "z = {1: 'A', 2: 'B', 3: 'C'}\n",
    "x2=x.map(z) # dict內容 key為1 對上 x的value為1的正好取代 x　的value變為A\n",
    "print(x)\n",
    "print(\"--------------\")\n",
    "print(y)\n",
    "print(\"--------------\")\n",
    "print(x1)\n",
    "print(\"--------------\")\n",
    "print(x2)\n",
    "print(\"--------------\")\n",
    "print(z)\n",
    "print(\"--------------\")"
   ]
  },
  {
   "cell_type": "code",
   "execution_count": 9,
   "id": "e25e4657",
   "metadata": {},
   "outputs": [
    {
     "name": "stdout",
     "output_type": "stream",
     "text": [
      "          food  ounces\n",
      "0        bacon     4.0\n",
      "1  pulled pork     3.0\n",
      "2        bacon    12.0\n",
      "3     Pastrami     6.0\n",
      "4  Corned beef     7.5\n",
      "5        Bacon     8.0\n",
      "6     pastrami     3.0\n",
      "7    honey ham     5.0\n",
      "8     nova lox     6.0\n",
      "=========================\n",
      "<class 'pandas.core.series.Series'>\n",
      "=========================\n",
      "=========================\n",
      "          food  ounces  animal\n",
      "0        bacon     4.0     pig\n",
      "1  pulled pork     3.0     pig\n",
      "2        bacon    12.0     pig\n",
      "3     Pastrami     6.0     cow\n",
      "4  Corned beef     7.5     cow\n",
      "5        Bacon     8.0     pig\n",
      "6     pastrami     3.0     cow\n",
      "7    honey ham     5.0     pig\n",
      "8     nova lox     6.0  salmon\n"
     ]
    }
   ],
   "source": [
    "import pandas as pd\n",
    "data = pd.DataFrame({'food':['bacon','pulled pork','bacon','Pastrami',\n",
    "            'Corned beef','Bacon','pastrami','honey ham','nova lox'],\n",
    "                  'ounces':[4,3,12,6,7.5,8,3,5,6]})\n",
    "print(data)\n",
    "print(\"=========================\")\n",
    "print(type(data['food']))\n",
    "print(\"=========================\")\n",
    "meat_to_animal = {\n",
    "    'bacon':'pig', 'pulled pork':'pig',\n",
    "    'pastrami':'cow','corned beef':'cow',\n",
    "    'honey ham':'pig', 'nova lox':'salmon' }\n",
    "data['animal'] = data['food'].map(str.lower).map(meat_to_animal) # 建立一組新的animal欄位 將修改後的數值寫入\n",
    "# 假設有一組需求 須建立food 對映 animal的關係\n",
    "print(\"=========================\")\n",
    "print(data)"
   ]
  },
  {
   "cell_type": "code",
   "execution_count": 14,
   "id": "59ad780c",
   "metadata": {},
   "outputs": [
    {
     "name": "stdout",
     "output_type": "stream",
     "text": [
      "------S1--------\n",
      "2018-09-25    0\n",
      "2018-09-26    1\n",
      "2018-09-27    2\n",
      "2018-09-28    3\n",
      "2018-09-29    4\n",
      "2018-09-30    5\n",
      "2018-10-01    6\n",
      "2018-10-02    7\n",
      "2018-10-03    8\n",
      "2018-10-04    9\n",
      "Freq: D, dtype: int64\n",
      "-----S2---------\n",
      "Int64Index([25, 26, 27, 28, 29, 30, 1, 2, 3, 4], dtype='int64')\n",
      "------S3--------\n",
      "Int64Index([1, 2, 3, 4, 5, 6, 0, 1, 2, 3], dtype='int64')\n",
      "------s4--------\n",
      "2018-09-25    10\n",
      "2018-09-26    11\n",
      "2018-09-27    12\n",
      "2018-09-28    13\n",
      "2018-09-29    14\n",
      "2018-09-30    15\n",
      "2018-10-01    16\n",
      "2018-10-02    17\n",
      "2018-10-03    18\n",
      "2018-10-04    19\n",
      "Freq: D, dtype: int64\n",
      "------s5--------\n",
      "2018-09-25     True\n",
      "2018-09-26     True\n",
      "2018-09-27     True\n",
      "2018-09-28     True\n",
      "2018-09-29     True\n",
      "2018-09-30    False\n",
      "2018-10-01    False\n",
      "2018-10-02    False\n",
      "2018-10-03    False\n",
      "2018-10-04    False\n",
      "Freq: D, dtype: bool\n",
      "------s6--------\n",
      "2018-09-25    0\n",
      "2018-09-26    1\n",
      "2018-09-27    2\n",
      "2018-09-28    3\n",
      "2018-09-29    4\n",
      "2018-09-30    5\n",
      "2018-10-01    6\n",
      "2018-10-02    7\n",
      "2018-10-03    8\n",
      "2018-10-04    9\n",
      "Freq: D, dtype: int64\n",
      "--------------\n",
      "25    0\n",
      "26    1\n",
      "27    2\n",
      "28    3\n",
      "29    4\n",
      "30    5\n",
      "1     6\n",
      "2     7\n",
      "3     8\n",
      "4     9\n",
      "dtype: int64\n",
      "--------------\n"
     ]
    }
   ],
   "source": [
    "import pandas as pd\n",
    "indexdate = pd.date_range('2018-09-25', periods=10)\n",
    "print(\"------S1--------\")\n",
    "s1 = pd.Series(list(range(10)), index=indexdate)\n",
    "s2=s1.index.map(lambda x: x.day) # 改變index為day\n",
    "s3=s1.index.map(lambda x: x.weekday) # 改變index為星期幾 0是周一\n",
    "s4=s1.map(lambda x: x+10) # 把value + 10\n",
    "def f(x):\n",
    "    if x < 5:\n",
    "        return True\n",
    "    else:\n",
    "        return False\n",
    "s5=s1.map(f)\n",
    "s6 = pd.Series(list(range(10)), index=indexdate)\n",
    "print(s1)\n",
    "print(\"-----S2---------\")\n",
    "print(s2)\n",
    "print(\"------S3--------\")\n",
    "print(s3)\n",
    "print(\"------s4--------\")\n",
    "print(s4)\n",
    "print(\"------s5--------\")\n",
    "print(s5)\n",
    "print(\"------s6--------\")\n",
    "print(s6)\n",
    "print(\"--------------\")\n",
    "s6.index = s2 #將index換成day\n",
    "print(s6)\n",
    "print(\"--------------\")"
   ]
  },
  {
   "attachments": {
    "image.png": {
     "image/png": "[encoded data removed]"
    }
   },
   "cell_type": "markdown",
   "id": "704220b0",
   "metadata": {},
   "source": [
    "# 分組\n",
    "+ 可針對資料進行分組，然後對每組資料進行統計分析。\n",
    "+ 分組運算過程：split → apply → combine\n",
    "  + 拆解 split：依據規則進行拆解分組。\n",
    "  + 應用 apply：每個分組運行計算規則處理。\n",
    "  + 合併 combine：把每個分組的計算結果合併起來。\n",
    "+ 可針對資料進行分組，然後對每組資料進行統計分析。\n",
    "+ 分組運算過程：split → apply → combine\n",
    "![image.png](attachment:image.png)\n",
    "+ 可使用 groupby( ) 進行分組，而這動作並沒有進行實際運算，只是包含分組的資訊。\n",
    "+ 物體可有多種切割方式：\n",
    "  + df1.groupby('key')\n",
    "  + df1.groupby(['key1','key2'])\n",
    "  + df1.groupby(key,axis=1)"
   ]
  },
  {
   "cell_type": "markdown",
   "id": "a9cd591e",
   "metadata": {},
   "source": [
    "## Apply"
   ]
  },
  {
   "cell_type": "code",
   "execution_count": 15,
   "id": "35af108a",
   "metadata": {},
   "outputs": [
    {
     "name": "stdout",
     "output_type": "stream",
     "text": [
      "          food  ounces\n",
      "0        bacon     4.0\n",
      "1  pulled pork     3.0\n",
      "2        bacon    12.0\n",
      "3     Pastrami     6.0\n",
      "4  Corned beef     7.5\n",
      "5        Bacon     8.0\n",
      "6     pastrami     3.0\n",
      "7    honey ham     5.0\n",
      "8     nova lox     6.0\n",
      "=========================\n",
      "=========================\n",
      "          food  ounces      food-ounces\n",
      "0        bacon     4.0        bacon-4.0\n",
      "1  pulled pork     3.0  pulled pork-3.0\n",
      "2        bacon    12.0       bacon-12.0\n",
      "3     Pastrami     6.0     Pastrami-6.0\n",
      "4  Corned beef     7.5  Corned beef-7.5\n",
      "5        Bacon     8.0        Bacon-8.0\n",
      "6     pastrami     3.0     pastrami-3.0\n",
      "7    honey ham     5.0    honey ham-5.0\n",
      "8     nova lox     6.0     nova lox-6.0\n"
     ]
    }
   ],
   "source": [
    "import pandas as pd\n",
    "def test(dataf):\n",
    "    print(dataf)\n",
    "data = pd.DataFrame({'food':['bacon','pulled pork','bacon','Pastrami',\n",
    "            'Corned beef','Bacon','pastrami','honey ham','nova lox'],\n",
    "                  'ounces':[4,3,12,6,7.5,8,3,5,6]})\n",
    "print(data)\n",
    "print(\"=========================\")\n",
    "data['food-ounces']=data.apply(lambda dataf:f\"{dataf['food']}-{dataf['ounces']}\",axis=1 )\n",
    "print(\"=========================\")\n",
    "print(data)"
   ]
  },
  {
   "cell_type": "markdown",
   "id": "9f2fb765",
   "metadata": {},
   "source": [
    "### 群組資料原型"
   ]
  },
  {
   "cell_type": "code",
   "execution_count": 16,
   "id": "52084e23",
   "metadata": {},
   "outputs": [
    {
     "name": "stdout",
     "output_type": "stream",
     "text": [
      "  key1   key2  data1  data2\n",
      "0    a    one      2      8\n",
      "1    b    one      3      1\n",
      "2    a    two      4      2\n",
      "3    b  three      5      3\n",
      "4    a    two      6      5\n",
      "5    b    two      7      6\n",
      "6    a    one      8      7\n",
      "7    a  three      1      6\n",
      "-------------------\n"
     ]
    }
   ],
   "source": [
    "import pandas as pd\n",
    "import numpy as np\n",
    "a = {'key1' : ['a', 'b', 'a', 'b', 'a', 'b', 'a', 'a'],\n",
    "     'key2' : ['one', 'one', 'two', 'three', 'two', 'two', 'one', 'three'],\n",
    "     'data1': [2,3,4,5,6,7,8,1],\n",
    "     'data2':[8,1,2,3,5,6,7,6]}\n",
    "df1 = pd.DataFrame(a)\n",
    "print(df1)\n",
    "print(\"-------------------\")"
   ]
  },
  {
   "cell_type": "markdown",
   "id": "f5ce2e44",
   "metadata": {},
   "source": [
    "### 開始群組"
   ]
  },
  {
   "cell_type": "code",
   "execution_count": 17,
   "id": "697f96d1",
   "metadata": {},
   "outputs": [
    {
     "name": "stdout",
     "output_type": "stream",
     "text": [
      "  key1   key2  data1  data2\n",
      "0    a    one      2      8\n",
      "1    b    one      3      1\n",
      "2    a    two      4      2\n",
      "3    b  three      5      3\n",
      "4    a    two      6      5\n",
      "5    b    two      7      6\n",
      "6    a    one      8      7\n",
      "7    a  three      1      6\n",
      "-------------------\n",
      "<class 'pandas.core.groupby.generic.DataFrameGroupBy'>\n",
      "<class 'pandas.core.groupby.generic.SeriesGroupBy'>\n",
      "<pandas.core.groupby.generic.SeriesGroupBy object at 0x0000016EA693CC40>\n"
     ]
    }
   ],
   "source": [
    "import pandas025\n",
    "df2=pandas025.df1\n",
    "print(type(df2.groupby('key1')))\n",
    "print(type(df2['data1'].groupby(df2['key1'])))\n",
    "print((df2['data1'].groupby(df2['key1'])))"
   ]
  },
  {
   "cell_type": "markdown",
   "id": "f80c4a2d",
   "metadata": {},
   "source": [
    "## 分組後的資料\n",
    "+ 可針對分組後的資料進行分組計算，例如 mean( )。\n",
    "+ 分組後將會傳回一組 tuple 資料，包含 group_name 與group_data，就可以做後續的運用。\n",
    "+ get_group( ) 可得到指定的該組資訊。"
   ]
  },
  {
   "cell_type": "code",
   "execution_count": 18,
   "id": "6627c938",
   "metadata": {},
   "outputs": [
    {
     "name": "stdout",
     "output_type": "stream",
     "text": [
      "================\n",
      "key1  key2 \n",
      "a     one      2\n",
      "      three    1\n",
      "      two      2\n",
      "b     one      1\n",
      "      three    1\n",
      "      two      1\n",
      "dtype: int64\n",
      "================\n",
      "            data1  data2\n",
      "key2  key1              \n",
      "one   a       5.0    7.5\n",
      "      b       3.0    1.0\n",
      "three a       1.0    6.0\n",
      "      b       5.0    3.0\n",
      "two   a       5.0    3.5\n",
      "      b       7.0    6.0\n",
      "================\n",
      "      data1      data2     \n",
      "key1      a    b     a    b\n",
      "key2                       \n",
      "one     5.0  3.0   7.5  1.0\n",
      "three   1.0  5.0   6.0  3.0\n",
      "two     5.0  7.0   3.5  6.0\n",
      "================\n"
     ]
    }
   ],
   "source": [
    "import pandas025\n",
    "df2=pandas025.df1\n",
    "grouped2 = df2.groupby(['key1', 'key2'])\n",
    "print(\"================\")\n",
    "print(grouped2.size( ))\n",
    "print(\"================\")\n",
    "grouped3 =df2.groupby(['key2', 'key1']) #先用key2 群組 再用key1群組\n",
    "print(grouped3.mean( )) #求出群組後的均值\n",
    "print(\"================\")\n",
    "print(grouped3.mean( ).unstack()) #row 索引轉到colum\n",
    "print(\"================\")"
   ]
  },
  {
   "cell_type": "markdown",
   "id": "91dcf84f",
   "metadata": {},
   "source": [
    "### stack 與 unstack\n",
    "+ stack\n",
    "   + colum index轉為row index\n",
    "+ unstack\n",
    "  + row index轉為colum index"
   ]
  },
  {
   "cell_type": "code",
   "execution_count": 19,
   "id": "5f4c8fc8",
   "metadata": {},
   "outputs": [
    {
     "name": "stdout",
     "output_type": "stream",
     "text": [
      "          colum1  colum2\n",
      "rowIndex                \n",
      "A             10      75\n",
      "B             15      83\n",
      "C             18      92\n",
      "D             25      63\n",
      "============================\n",
      "rowIndex        \n",
      "A         colum1    10\n",
      "          colum2    75\n",
      "B         colum1    15\n",
      "          colum2    83\n",
      "C         colum1    18\n",
      "          colum2    92\n",
      "D         colum1    25\n",
      "          colum2    63\n",
      "dtype: int64\n",
      "============================\n",
      "          colum1  colum2\n",
      "rowIndex                \n",
      "A             10      75\n",
      "B             15      83\n",
      "C             18      92\n",
      "D             25      63\n"
     ]
    }
   ],
   "source": [
    "import pandas as pd\n",
    "data = {\"A\":10,\"B\":15,\"C\":18,\"D\":25}\n",
    "data2 = {\"A\":75,\"B\":83,\"C\":92,\"D\":63}\n",
    "s1 = pd.Series(data)\n",
    "s2 = pd.Series(data2)\n",
    "df = pd.DataFrame({\"colum1\":s1,\"colum2\":s2},index=pd.Index([\"A\",\"B\",\"C\",\"D\"],name=\"rowIndex\"))\n",
    "print(df)\n",
    "print(\"============================\")\n",
    "dfs = df.stack()# colum index轉為row index\n",
    "print(dfs)\n",
    "print(\"============================\")\n",
    "print(dfs.unstack())# row index轉為colum index"
   ]
  },
  {
   "cell_type": "markdown",
   "id": "4a3d6dbb",
   "metadata": {},
   "source": [
    "## pandas025a的內容"
   ]
  },
  {
   "cell_type": "code",
   "execution_count": 20,
   "id": "de26df0a",
   "metadata": {},
   "outputs": [
    {
     "name": "stdout",
     "output_type": "stream",
     "text": [
      "==========df2=================\n",
      "  key1   key2  data1  data2\n",
      "0    a    one      2      8\n",
      "1    b    one      3      1\n",
      "2    a    two      4      2\n",
      "3    b  three      5      3\n",
      "4    a    two      6      5\n",
      "5    b    two      7      6\n",
      "6    a    one      8      7\n",
      "7    a  three      1      6\n",
      "===========================\n",
      "0    1\n",
      "1    1\n",
      "2    1\n",
      "3    2\n",
      "4    1\n",
      "5    1\n",
      "7    1\n",
      "dtype: int64\n",
      "=========key1==================\n",
      "0    a\n",
      "1    b\n",
      "2    a\n",
      "3    b\n",
      "4    a\n",
      "5    b\n",
      "6    a\n",
      "7    a\n",
      "Name: key1, dtype: object\n",
      "==========key2=================\n",
      "0      one\n",
      "1      one\n",
      "2      two\n",
      "3    three\n",
      "4      two\n",
      "5      two\n",
      "6      one\n",
      "7    three\n",
      "Name: key2, dtype: object\n",
      "==========groupby key2 key1=================\n",
      "key2   key1\n",
      "one    a       2\n",
      "       b       1\n",
      "three  a       1\n",
      "       b       1\n",
      "two    a       2\n",
      "       b       1\n",
      "dtype: int64\n",
      "============groupby('key1')mean===============\n",
      "      data1     data2\n",
      "key1                 \n",
      "a       4.2  5.600000\n",
      "b       5.0  3.333333\n",
      "===========================\n",
      "key1\n",
      "a    4.2\n",
      "b    5.0\n",
      "Name: data1, dtype: float64\n",
      "===========================\n",
      "5.0\n"
     ]
    }
   ],
   "source": [
    "import pandas025\n",
    "df2=pandas025.df1\n",
    "print(\"==========df2=================\")\n",
    "print(df2)\n",
    "self_def_key = [0, 1, 2, 3, 3, 4, 5, 7]\n",
    "print(\"===========================\")\n",
    "print(df2.groupby(self_def_key).size()) #群組自訂的Kye\n",
    "print(\"=========key1==================\")\n",
    "print(df2['key1'])\n",
    "print(\"==========key2=================\")\n",
    "print(df2['key2'])\n",
    "print(\"==========groupby key2 key1=================\")\n",
    "print(df2.groupby([df2['key2'],df2['key1']]).size())\n",
    "#print(df2.groupby(['key2','key1']).size())print(\"===========================\")\n",
    "print(\"============groupby('key1')mean===============\")\n",
    "grouped1 = df2.groupby('key1')\n",
    "print(grouped1.mean()) #整組Dataframe 都群組key1 求平均值\n",
    "print(\"===========================\")\n",
    "grouped2 = df2['data1'].groupby(df2['key1']) #針對data1 groupby key1\n",
    "print(grouped2.mean())\n",
    "print(\"===========================\")\n",
    "print(grouped2.mean()[1])"
   ]
  },
  {
   "cell_type": "code",
   "execution_count": 24,
   "id": "81bc0de4",
   "metadata": {},
   "outputs": [
    {
     "name": "stdout",
     "output_type": "stream",
     "text": [
      "-------start--------\n",
      "[('a',   key1   key2  data1  data2\n",
      "0    a    one      2      8\n",
      "2    a    two      4      2\n",
      "4    a    two      6      5\n",
      "6    a    one      8      7\n",
      "7    a  three      1      6), ('b',   key1   key2  data1  data2\n",
      "1    b    one      3      1\n",
      "3    b  three      5      3\n",
      "5    b    two      7      6)]\n",
      "---------------\n",
      "group_name: a\n",
      "  key1   key2  data1  data2\n",
      "0    a    one      2      8\n",
      "2    a    two      4      2\n",
      "4    a    two      6      5\n",
      "6    a    one      8      7\n",
      "7    a  three      1      6\n",
      "group_name: b\n",
      "  key1   key2  data1  data2\n",
      "1    b    one      3      1\n",
      "3    b  three      5      3\n",
      "5    b    two      7      6\n",
      "---------------\n",
      "group_name2: a\n",
      "0    2\n",
      "2    4\n",
      "4    6\n",
      "6    8\n",
      "7    1\n",
      "Name: data1, dtype: int64\n",
      "group_name2: b\n",
      "1    3\n",
      "3    5\n",
      "5    7\n",
      "Name: data1, dtype: int64\n",
      "---------------\n"
     ]
    }
   ],
   "source": [
    "import pandas025a\n",
    "print(\"-------start--------\")\n",
    "#\n",
    "\"\"\"\n",
    "DataFrameGroupBy 轉成list後可清楚了他是一組list包含了tuple \n",
    "tuple內包含group_name 與 group_data\n",
    "\"\"\"\n",
    "print(list(pandas025a.grouped1)) \n",
    "print(\"---------------\")\n",
    "for group_name, group_data in pandas025a.grouped1: #透過以下方式可分別取出群組資料 grouped1使用key1做群組\n",
    "    print(\"group_name:\",group_name)\n",
    "    print(group_data)\n",
    "print(\"---------------\")    \n",
    "for group_name, group_data in pandas025a.grouped2: ## data1  使用key做群組\n",
    "    print(\"group_name2:\",group_name)\n",
    "    print(group_data)\n",
    "print(\"---------------\")        "
   ]
  },
  {
   "cell_type": "code",
   "execution_count": 25,
   "id": "3c814402",
   "metadata": {},
   "outputs": [
    {
     "name": "stdout",
     "output_type": "stream",
     "text": [
      "      Team  Rank  Year  Points\n",
      "0   Riders     1  2014     876\n",
      "1   Riders     2  2015     789\n",
      "2   Devils     2  2014     863\n",
      "3   Devils     3  2015     673\n",
      "4    Kings     3  2014     741\n",
      "5    kings     4  2015     812\n",
      "6    Kings     1  2016     756\n",
      "7    Kings     1  2017     788\n",
      "8   Riders     2  2016     694\n",
      "9   Royals     4  2014     701\n",
      "10  Royals     1  2015     804\n",
      "11  Riders     2  2017     690\n",
      "--------------------\n"
     ]
    }
   ],
   "source": [
    "# pandas027資料來源\n",
    "import pandas as pd\n",
    "ipl_data = {'Team': ['Riders', 'Riders', 'Devils', 'Devils', 'Kings',\n",
    "         'kings', 'Kings', 'Kings', 'Riders', 'Royals', 'Royals', 'Riders'],\n",
    "         'Rank': [1, 2, 2, 3, 3,4 ,1 ,1,2 , 4,1,2],\n",
    "         'Year': [2014,2015,2014,2015,2014,2015,2016,2017,2016,2014,2015,2017],\n",
    "         'Points':[876,789,863,673,741,812,756,788,694,701,804,690]}\n",
    "df = pd.DataFrame(ipl_data)\n",
    "print(df)\n",
    "print(\"--------------------\")"
   ]
  },
  {
   "cell_type": "code",
   "execution_count": 27,
   "id": "f3b7c629",
   "metadata": {},
   "outputs": [
    {
     "name": "stdout",
     "output_type": "stream",
     "text": [
      "<class 'pandas.core.groupby.generic.DataFrameGroupBy'>\n",
      "2014\n",
      "     Team  Rank  Year  Points\n",
      "0  Riders     1  2014     876\n",
      "2  Devils     2  2014     863\n",
      "4   Kings     3  2014     741\n",
      "9  Royals     4  2014     701\n",
      "2015\n",
      "      Team  Rank  Year  Points\n",
      "1   Riders     2  2015     789\n",
      "3   Devils     3  2015     673\n",
      "5    kings     4  2015     812\n",
      "10  Royals     1  2015     804\n",
      "2016\n",
      "     Team  Rank  Year  Points\n",
      "6   Kings     1  2016     756\n",
      "8  Riders     2  2016     694\n",
      "2017\n",
      "      Team  Rank  Year  Points\n",
      "7    Kings     1  2017     788\n",
      "11  Riders     2  2017     690\n",
      "------------------\n",
      "     Team  Rank  Year  Points\n",
      "0  Riders     1  2014     876\n",
      "2  Devils     2  2014     863\n",
      "4   Kings     3  2014     741\n",
      "9  Royals     4  2014     701\n"
     ]
    }
   ],
   "source": [
    "import pandas027\n",
    "grouped = pandas027.df.groupby('Year')\n",
    "print(type(grouped))\n",
    "for name,group in grouped:\n",
    "    print(name)\n",
    "    print(group)\n",
    "print(\"------------------\")\n",
    "print(grouped.get_group(2014))\n"
   ]
  },
  {
   "cell_type": "markdown",
   "id": "b757e07f",
   "metadata": {},
   "source": [
    "## 資料轉換與設定\n",
    "+ 分組後的資料可轉為 list 或 dictionary：\n",
    "  + list( ) 轉換為 list。\n",
    "  + 轉為 list 之後再以 dict( ) 方法轉為 dictionary。\n",
    "+ 亦可以透過索引級別設定分組。"
   ]
  },
  {
   "cell_type": "code",
   "execution_count": 28,
   "id": "8f39af5a",
   "metadata": {},
   "outputs": [
    {
     "name": "stdout",
     "output_type": "stream",
     "text": [
      "-------start---------\n",
      "[('a',   key1   key2  data1  data2\n",
      "0    a    one      2      8\n",
      "2    a    two      4      2\n",
      "4    a    two      6      5\n",
      "6    a    one      8      7\n",
      "7    a  three      1      6), ('b',   key1   key2  data1  data2\n",
      "1    b    one      3      1\n",
      "3    b  three      5      3\n",
      "5    b    two      7      6)]\n",
      "--------\n",
      "{'a':   key1   key2  data1  data2\n",
      "0    a    one      2      8\n",
      "2    a    two      4      2\n",
      "4    a    two      6      5\n",
      "6    a    one      8      7\n",
      "7    a  three      1      6, 'b':   key1   key2  data1  data2\n",
      "1    b    one      3      1\n",
      "3    b  three      5      3\n",
      "5    b    two      7      6}\n",
      "--------\n"
     ]
    }
   ],
   "source": [
    "import pandas025a\n",
    "print(\"-------start---------\")\n",
    "print(list(pandas025a.grouped1)) #list內有一組tuple ('分組kye',DataFrame)\n",
    "print(\"--------\")\n",
    "print(dict(list(pandas025a.grouped1)))\n",
    "print(\"--------\")"
   ]
  },
  {
   "attachments": {
    "image.png": {
     "image/png": "[encoded data removed]"
    }
   },
   "cell_type": "markdown",
   "id": "acf24835",
   "metadata": {},
   "source": [
    "### 自訂索引標籤方式分組\n",
    "+ 當axis=0時，代表每一縱行去做運算\n",
    "+ 當axis=1時，代表每一橫列去做運算\n",
    "![image.png](attachment:image.png)"
   ]
  },
  {
   "cell_type": "code",
   "execution_count": 29,
   "id": "b6f612d3",
   "metadata": {},
   "outputs": [
    {
     "name": "stdout",
     "output_type": "stream",
     "text": [
      "   a    b    c    d  e\n",
      "A  4  7.0  3.0  7.0  6\n",
      "B  9  NaN  NaN  NaN  6\n",
      "C  2  3.0  6.0  1.0  6\n",
      "D  8  7.0  2.0  8.0  8\n",
      "E  7  1.0  4.0  7.0  2\n",
      "-----------------\n",
      "size\n",
      "C         1\n",
      "Java      2\n",
      "Python    2\n",
      "dtype: int64\n",
      "count\n",
      "   C  Java  Python\n",
      "A  1     2       2\n",
      "B  0     1       1\n",
      "C  1     2       2\n",
      "D  1     2       2\n",
      "E  1     2       2\n",
      "sum\n",
      "     C  Java  Python\n",
      "A  7.0   9.0    11.0\n",
      "B  0.0   6.0     9.0\n",
      "C  1.0  12.0     5.0\n",
      "D  8.0  10.0    15.0\n",
      "E  7.0   6.0     8.0\n"
     ]
    }
   ],
   "source": [
    "import pandas as pd\n",
    "import numpy as np\n",
    "df3 = pd.DataFrame(np.random.randint(1, 10, (5,5)), columns=['a', 'b', 'c', 'd', 'e'], index=['A', 'B', 'C', 'D', 'E'])\n",
    "df3.iloc()[1, 1:4] = np.NaN\n",
    "print(df3)\n",
    "print(\"-----------------\") \n",
    "mapping_dict = {'a':'Python', 'b':'Python', 'c':'Java', 'd':'C', 'e':'Java'}\n",
    "#df3.columns = df3.columns.map(lambda x:mapping_dict[x])\n",
    "#print(\"-----------------\") \n",
    "#print(df3)\n",
    "print(\"size\")\n",
    "print(df3.groupby(mapping_dict, axis=1).size())\n",
    "print(\"count\")\n",
    "print(df3.groupby(mapping_dict, axis=1).count())\n",
    "print(\"sum\")\n",
    "print(df3.groupby(mapping_dict, axis=1).sum())\n"
   ]
  },
  {
   "cell_type": "markdown",
   "id": "e445628a",
   "metadata": {},
   "source": [
    "### count vs size"
   ]
  },
  {
   "cell_type": "code",
   "execution_count": 34,
   "id": "c86c7943",
   "metadata": {},
   "outputs": [
    {
     "name": "stdout",
     "output_type": "stream",
     "text": [
      "      Name      City  Val\n",
      "0    Alice   Seattle  4.0\n",
      "1      Bob   Seattle  3.0\n",
      "2  Mallory  Portland  3.0\n",
      "3  Mallory   Seattle  NaN\n",
      "4      Bob   Seattle  NaN\n",
      "5  Mallory  Portland  4.0\n",
      "=======================\n",
      "      Name      City  Val\n",
      "0    Alice   Seattle    1\n",
      "1      Bob   Seattle    1\n",
      "2  Mallory  Portland    2\n",
      "3  Mallory   Seattle    0\n",
      "=======================\n",
      "      Name      City  size\n",
      "0    Alice   Seattle     1\n",
      "1      Bob   Seattle     2\n",
      "2  Mallory  Portland     2\n",
      "3  Mallory   Seattle     1\n"
     ]
    }
   ],
   "source": [
    "df = pd.DataFrame({\"Name\":[\"Alice\", \"Bob\", \"Mallory\", \"Mallory\", \"Bob\" , \"Mallory\"],\n",
    "                 \"City\":[\"Seattle\", \"Seattle\", \"Portland\", \"Seattle\", \"Seattle\", \"Portland\"],\n",
    "                \"Val\":[4,3,3,np.nan,np.nan,4]})\n",
    "print(df)\n",
    "print(\"=======================\")\n",
    "# as_index=False 可使得index為自動流水號\n",
    "dfg = df.groupby([\"Name\", \"City\"],as_index=False).count()#不包含nan 這樣組合且欄位內容存在的幾次\n",
    "print(dfg)      \n",
    "print(\"=======================\")\n",
    "dfg = df.groupby([\"Name\", \"City\"],as_index=False).size()#包含nan 這樣的組合出現幾次\n",
    "print(dfg)    "
   ]
  },
  {
   "cell_type": "markdown",
   "id": "0083c185",
   "metadata": {},
   "source": [
    "### axis=0 求值"
   ]
  },
  {
   "cell_type": "code",
   "execution_count": 36,
   "id": "315a17a1",
   "metadata": {},
   "outputs": [
    {
     "name": "stdout",
     "output_type": "stream",
     "text": [
      "The Employee DataFrame is:\n",
      "    Name  Age  Weight(KG)  Height(meters)  Salary($)\n",
      "0    Jon   30          75            1.70     3300.0\n",
      "1    Jon   33          75            1.70     3500.0\n",
      "2   Mike   35          80            1.85     4000.0\n",
      "3   Luna   30          70            1.75     3050.0\n",
      "4    Sam   30          73             NaN        NaN\n",
      "5  Aliza   31          70            1.75     3700.0 \n",
      "\n",
      "The DataFrame with mean values of each column is:\n",
      "       Age  Weight(KG)  Height(meters)  Salary($)\n",
      "Name                                             \n",
      "Aliza   31          70            1.75     3700.0\n",
      "Jon     63         150            3.40     6800.0\n",
      "Luna    30          70            1.75     3050.0\n",
      "Mike    35          80            1.85     4000.0\n",
      "Sam     30          73            0.00        0.0\n",
      "========================\n",
      "       Age  Weight(KG)  Height(meters)  Salary($)\n",
      "Name                                             \n",
      "Aliza    1           1               1          1\n",
      "Jon      2           2               2          2\n",
      "Luna     1           1               1          1\n",
      "Mike     1           1               1          1\n",
      "Sam      1           1               0          0\n",
      "========================\n",
      "Name\n",
      "Aliza    1\n",
      "Jon      2\n",
      "Luna     1\n",
      "Mike     1\n",
      "Sam      1\n",
      "dtype: int64\n"
     ]
    }
   ],
   "source": [
    "import pandas as pd\n",
    "import numpy as np\n",
    "empl_df = pd.DataFrame({\n",
    "    'Name': [\"Jon\", \"Jon\", \"Mike\", \"Luna\", \"Sam\", \"Aliza\"],\n",
    "    'Age': [30, 33, 35, 30, 30, 31],\n",
    "    'Weight(KG)': [75, 75, 80, 70, 73, 70],\n",
    "    'Height(meters)': [1.7, 1.7, 1.85, 1.75, np.nan, 1.75],\n",
    "    'Salary($)': [3300, 3500, 4000, 3050, np.nan, 3700]\n",
    "})\n",
    "print(\"The Employee DataFrame is:\")\n",
    "print(empl_df,\"\\n\")\n",
    "\n",
    "print(\"The DataFrame with mean values of each column is:\")\n",
    "print(empl_df.groupby('Name',axis=0).sum())\n",
    "print(\"========================\")\n",
    "print(empl_df.groupby('Name',axis=0).count())\n",
    "print(\"========================\")\n",
    "print(empl_df.groupby('Name',axis=0).size())"
   ]
  },
  {
   "cell_type": "code",
   "execution_count": null,
   "id": "1ca2ef1d",
   "metadata": {},
   "outputs": [],
   "source": []
  }
 ],
 "metadata": {
  "kernelspec": {
   "display_name": "Python 3 (ipykernel)",
   "language": "python",
   "name": "python3"
  },
  "language_info": {
   "codemirror_mode": {
    "name": "ipython",
    "version": 3
   },
   "file_extension": ".py",
   "mimetype": "text/x-python",
   "name": "python",
   "nbconvert_exporter": "python",
   "pygments_lexer": "ipython3",
   "version": "3.8.11"
  }
 },
 "nbformat": 4,
 "nbformat_minor": 5
}
