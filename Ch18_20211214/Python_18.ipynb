{
 "cells": [
  {
   "cell_type": "code",
   "execution_count": null,
   "metadata": {},
   "outputs": [],
   "source": [
    "#homework 17\n",
    "import pandas as pd\n",
    "money1=pd.read_csv(\"HW17__Data.csv\")\n",
    "total=len(money1['經常性薪資'])\n",
    "print(\"行業筆數為:\",total)\n",
    "a=sum(money1['經常性薪資'])\n",
    "print(\"經常性薪資的平均值為:%.2f\"%(float(a)/total))\n",
    "a=sum(money1['專業人員-經常性薪資'])\n",
    "print(\"專業人員-經常性薪資的平均值為:%.2f\"%(float(a)/total))\n",
    "a=sum(money1['技術員及助理專業人員-經常性薪資'])\n",
    "print(\"技術員及助理專業人員-經常性薪資的平均值為:%.2f\"%(float(a)/total))\n",
    "a=sum(money1['事務支援人員-經常性薪資'])\n",
    "print(\"事務支援人員-經常性薪資的平均值為:%.2f\"%(float(a)/total))\n",
    "a=sum(money1['服務及銷售工作人員-經常性薪資'])\n",
    "print(\"服務及銷售工作人員-經常性薪資的平均值為:%.2f\"%(float(a)/total))\n",
    "a=sum(money1['技藝_機械設備操作及組裝人員-經常性薪資'])\n",
    "print(\"技藝_機械設備操作及組裝人員-經常性薪資的平均值為:%.2f\"%(float(a)/total))\n",
    "a=sum(money1['基層技術工及勞力工-經常性薪資'])\n",
    "print(\"基層技術工及勞力工-經常性薪資的平均值為:%.2f\"%(float(a)/total))\n"
   ]
  },
  {
   "cell_type": "code",
   "execution_count": null,
   "metadata": {},
   "outputs": [],
   "source": [
    "#pandas023.py\n",
    "\n",
    "import pandas as pd\n",
    "s1 = pd.Series(range(10))\n",
    "s2=s1.map(lambda x:x+10)\n",
    "s3=s1.map(lambda x:x*-1)\n",
    "print(s1)\n",
    "print(\"--------------\")\n",
    "print(s2)\n",
    "print(\"--------------\")\n",
    "print(s3)\n",
    "print(\"--------------\")"
   ]
  },
  {
   "cell_type": "code",
   "execution_count": null,
   "metadata": {},
   "outputs": [],
   "source": [
    "#pandas023a.py\n",
    "\n",
    "import pandas as pd\n",
    "x = pd.Series([1,2,3], index=['one', 'two', 'three'])\n",
    "y = pd.Series(['foo', 'bar', 'baz'], index=[1,2,3])\n",
    "x1=x.map(y)\n",
    "z = {1: 'A', 2: 'B', 3: 'C'}\n",
    "x2=x.map(z)\n",
    "print(x)\n",
    "print(\"--------------\")\n",
    "print(y)\n",
    "print(\"--------------\")\n",
    "print(x1)\n",
    "print(\"--------------\")\n",
    "print(x2)\n",
    "print(\"--------------\")\n",
    "print(z)\n",
    "print(\"--------------\")"
   ]
  },
  {
   "cell_type": "code",
   "execution_count": null,
   "metadata": {},
   "outputs": [],
   "source": [
    "#pandas023b.py\n",
    "\n",
    "import pandas as pd\n",
    "data = pd.DataFrame({'food':['bacon','pulled pork','bacon','Pastrami',\n",
    "            'Corned beef','Bacon','pastrami','honey ham','nova lox'],\n",
    "                  'ounces':[4,3,12,6,7.5,8,3,5,6]})\n",
    "meat_to_animal = {    'bacon':'pig', 'pulled pork':'pig', 'pastrami':'cow',\n",
    "                  'corned beef':'cow','honey ham':'pig', 'nova lox':'salmon'    }\n",
    "print(data)\n",
    "print(\"--------------\")\n",
    "data['animal'] = data['food'].map(str.lower).map(meat_to_animal)\n",
    "print(data)\n",
    "print(\"--------------\")\n",
    "data['food'].map(lambda x: meat_to_animal[x.lower( )])\n",
    "print(data)\n",
    "print(\"--------------\")"
   ]
  },
  {
   "cell_type": "code",
   "execution_count": null,
   "metadata": {},
   "outputs": [],
   "source": [
    "#pandas023c.py\n",
    "\n",
    "import pandas as pd\n",
    "indexdate = pd.date_range('2018-09-25', periods=10)\n",
    "s1 = pd.Series(list(range(10)), index=indexdate)\n",
    "s2=s1.index.map(lambda x: x.day)\n",
    "s3=s1.index.map(lambda x: x.weekday)\n",
    "s4=s1.map(lambda x: x+10)\n",
    "def f(x):\n",
    "    if x < 5:\n",
    "        return True\n",
    "    else:\n",
    "        return False\n",
    "s5=s1.map(f)\n",
    "print(s1)\n",
    "print(\"--------------\")\n",
    "print(s2)\n",
    "print(\"--------------\")\n",
    "print(s3)\n",
    "print(\"--------------\")\n",
    "print(s4)\n",
    "print(\"--------------\")\n",
    "print(s5)\n",
    "print(\"--------------\")"
   ]
  },
  {
   "cell_type": "code",
   "execution_count": null,
   "metadata": {},
   "outputs": [],
   "source": [
    "#pandas025.py\n",
    "\n",
    "import pandas as pd\n",
    "import numpy as np\n",
    "a = {'key1' : ['a', 'b', 'a', 'b', 'a', 'b', 'a', 'a'],\n",
    "     'key2' : ['one', 'one', 'two', 'three', 'two', 'two', 'one', 'three'],\n",
    "     'data1': [2,3,4,5,6,7,8,1],\n",
    "     'data2':[8,1,2,3,5,6,7,6]}\n",
    "df1 = pd.DataFrame(a)\n",
    "print(df1)\n",
    "print(\"-------------------\")"
   ]
  },
  {
   "cell_type": "code",
   "execution_count": null,
   "metadata": {},
   "outputs": [],
   "source": [
    "#pandas025x.py\n",
    "\n",
    "import pandas025\n",
    "df2=pandas025.df1\n",
    "print(type(df2.groupby('key1')))\n",
    "print(type(df2['data1'].groupby(df2['key1'])))\n",
    "print((df2['data1'].groupby(df2['key1'])))"
   ]
  },
  {
   "cell_type": "code",
   "execution_count": null,
   "metadata": {},
   "outputs": [],
   "source": [
    "#pandas025b.py\n",
    "\n",
    "import pandas025\n",
    "df2=pandas025.df1\n",
    "grouped2 = df2.groupby(['key1', 'key2'])\n",
    "print(grouped2.size( ))\n",
    "grouped3 =df2.groupby(['key2', 'key1'])\n",
    "print(grouped3.mean( ))\n",
    "print(grouped3.mean( ).unstack( ))"
   ]
  },
  {
   "cell_type": "code",
   "execution_count": null,
   "metadata": {},
   "outputs": [],
   "source": [
    "#pandas025c.py\n",
    "\n",
    "import pandas025a\n",
    "print(\"-------start--------\")\n",
    "for group_name, group_data in pandas025a.grouped1:\n",
    "    print(group_name)\n",
    "    print(group_data)\n",
    "for group_name, group_data in pandas025a.grouped2:\n",
    "    print(group_name)\n",
    "    print(group_data)"
   ]
  },
  {
   "cell_type": "code",
   "execution_count": null,
   "metadata": {},
   "outputs": [],
   "source": [
    "#pandas027.py\n",
    "\n",
    "import pandas as pd\n",
    "ipl_data = {'Team': ['Riders', 'Riders', 'Devils', 'Devils', 'Kings',\n",
    "         'kings', 'Kings', 'Kings', 'Riders', 'Royals', 'Royals', 'Riders'],\n",
    "         'Rank': [1, 2, 2, 3, 3,4 ,1 ,1,2 , 4,1,2],\n",
    "         'Year': [2014,2015,2014,2015,2014,2015,2016,2017,2016,2014,2015,2017],\n",
    "         'Points':[876,789,863,673,741,812,756,788,694,701,804,690]}\n",
    "df = pd.DataFrame(ipl_data)\n",
    "print(df)\n",
    "print(\"--------------------\")"
   ]
  },
  {
   "cell_type": "code",
   "execution_count": null,
   "metadata": {},
   "outputs": [],
   "source": [
    "#pandas027a.py\n",
    "\n",
    "import pandas027\n",
    "grouped = pandas027.df.groupby('Year')\n",
    "for name,group in grouped:\n",
    "    print(name)\n",
    "    print(group)\n",
    "print(\"------------------\")\n",
    "print(grouped.get_group(2014))"
   ]
  },
  {
   "cell_type": "code",
   "execution_count": null,
   "metadata": {},
   "outputs": [],
   "source": [
    "#pandas025d.py\n",
    "\n",
    "import pandas025a\n",
    "print(\"-------start---------\")\n",
    "print(list(pandas025a.grouped1))\n",
    "print(\"--------\")\n",
    "print(dict(list(pandas025a.grouped1)))\n",
    "print(\"--------\")"
   ]
  },
  {
   "cell_type": "code",
   "execution_count": null,
   "metadata": {},
   "outputs": [],
   "source": [
    "#pandas026a.py\n",
    "\n",
    "import pandas as pd\n",
    "import numpy as np\n",
    "df3 = pd.DataFrame(np.random.randint(1, 10, (5,5)), \n",
    "                   columns=['a', 'b', 'c', 'd', 'e'], \n",
    "                   index=['A', 'B', 'C', 'D', 'E'])\n",
    "df3.ix[1, 1:4] = np.NaN\n",
    "print(df3)\n",
    "print(\"-----------------\") \n",
    "mapping_dict = {'a':'Python', 'b':'Python', 'c':'Java', 'd':'C', 'e':'Java'}\n",
    "print(\"size\")\n",
    "print(df3.groupby(mapping_dict, axis=1).size( ))\n",
    "print(\"count\")\n",
    "print(df3.groupby(mapping_dict, axis=1).count( ))\n",
    "print(\"sum\")\n",
    "print(df3.groupby(mapping_dict, axis=1).sum( ))"
   ]
  },
  {
   "cell_type": "code",
   "execution_count": null,
   "metadata": {},
   "outputs": [],
   "source": [
    "#pandas026b.py\n",
    "\n",
    "import pandas as pd\n",
    "import numpy as np\n",
    "a = pd.MultiIndex.from_arrays(\n",
    "    [['Python', 'Java', 'Python', 'Java', 'Python'], ['A', 'A', 'B', 'C', 'B']],\n",
    "    names=['language', 'index'])\n",
    "df4 = pd.DataFrame(np.random.randint(1, 10, (5, 5)), columns=a)\n",
    "print(df4)\n",
    "print(\"-----------------\")\n",
    "print(df4.groupby(level='language', axis=1).sum( ))\n",
    "print(\"-----------------\")\n",
    "print(df4.groupby(level='index', axis=1).sum( ))"
   ]
  },
  {
   "cell_type": "code",
   "execution_count": null,
   "metadata": {},
   "outputs": [],
   "source": [
    "#pandas028.py\n",
    "\n",
    "import pandas as pd\n",
    "df = pd.read_csv('salesv3.csv',encoding=\"utf-8\")\n",
    "df[\"date\"] = pd.to_datetime(df['date'])\n",
    "print(df.head( ))\n",
    "print(\"-------------\")"
   ]
  },
  {
   "cell_type": "code",
   "execution_count": null,
   "metadata": {},
   "outputs": [],
   "source": [
    "#pandas028a.py\n",
    "\n",
    "import pandas028\n",
    "a=pandas028.df.set_index('date').resample('M')[\"ext price\"].sum( )\n",
    "print(a)\n",
    "print(\"-------------\")\n",
    "b=pandas028.df.set_index('date').groupby('name')[\"ext price\"].resample(\"M\").sum( )\n",
    "print(b)"
   ]
  },
  {
   "cell_type": "code",
   "execution_count": null,
   "metadata": {},
   "outputs": [],
   "source": [
    "#pandas028b.py\n",
    "\n",
    "import pandas028\n",
    "a=pandas028.df.groupby(['name', pandas028.pd.Grouper(key='date', freq='M')])['ext price'].sum( )\n",
    "print(a)\n",
    "print(\"-------------\")\n",
    "b=pandas028.df.groupby(['name', pandas028.pd.Grouper(key='date', freq='A-DEC')])['ext price'].sum( )\n",
    "print(b)"
   ]
  },
  {
   "cell_type": "code",
   "execution_count": null,
   "metadata": {},
   "outputs": [],
   "source": [
    "#pandas028c.py\n",
    "\n",
    "import pandas028\n",
    "a=pandas028.df[[\"ext price\", \"quantity\"]].sum( )\n",
    "b=pandas028.df[\"unit price\"].mean( )\n",
    "print(a)\n",
    "print(\"-----------\")\n",
    "print(b)\n",
    "print(\"-----------\")\n",
    "c=pandas028.df[[\"ext price\", \"quantity\", \"unit price\"]].agg(['sum', 'mean'])\n",
    "print(c)\n",
    "print(\"-----------\")"
   ]
  },
  {
   "cell_type": "code",
   "execution_count": null,
   "metadata": {},
   "outputs": [],
   "source": [
    "#pandas028c-1.py\n",
    "\n",
    "import pandas028\n",
    "a=pandas028.df[[\"ext price\", \"quantity\"]].sum( )\n",
    "b=pandas028.df[\"unit price\"].mean( )\n",
    "print(a)\n",
    "print(\"-----------\")\n",
    "print(b)\n",
    "print(\"-----------\")\n",
    "# 設定浮點數顯示格式\n",
    "pandas028.pd.set_option('display.float_format', lambda x: '%.2f' % x)\n",
    "c=pandas028.df[[\"ext price\", \"quantity\", \"unit price\"]].agg(['sum', 'mean'])\n",
    "print(c)\n",
    "print(\"-----------\")"
   ]
  },
  {
   "cell_type": "code",
   "execution_count": null,
   "metadata": {},
   "outputs": [],
   "source": [
    "#pandas028d.py\n",
    "\n",
    "import pandas028\n",
    "a=pandas028.df.agg({'ext price': ['sum', 'mean'], \n",
    "                    'quantity': ['sum', 'mean'], \n",
    "                    'unit price': ['mean']})\n",
    "get_max = lambda x: x.value_counts(dropna=False).index[0]\n",
    "b=pandas028.df.agg({'ext price': ['sum', 'mean'], \n",
    "                    'quantity': ['sum', 'mean'], \n",
    "                    'unit price': ['mean'], \n",
    "                    'sku': [get_max]})\n",
    "print(a)\n",
    "print(\"-----------\")\n",
    "print(b)\n",
    "print(\"-----------\")\n",
    "get_max.__name__ = \"most frequent\"\n",
    "c=pandas028.df.agg({'ext price': ['sum', 'mean'], \n",
    "                    'quantity': ['sum', 'mean'], \n",
    "                    'unit price': ['mean'], \n",
    "                    'sku': [get_max]})\n",
    "print(c)\n",
    "print(\"-----------\")"
   ]
  },
  {
   "cell_type": "code",
   "execution_count": null,
   "metadata": {},
   "outputs": [],
   "source": [
    "#q1.py\n",
    "\n",
    "import pandas027\n",
    "import numpy as np\n",
    "grouped = pandas027.df.groupby('Team')\n",
    "print(grouped.agg(np.size))"
   ]
  },
  {
   "cell_type": "code",
   "execution_count": null,
   "metadata": {},
   "outputs": [],
   "source": [
    "#q2.py\n",
    "\n",
    "import pandas027\n",
    "import numpy as np\n",
    "grouped = pandas027.df.groupby('Team')\n",
    "print(grouped['Points'].agg([np.sum, np.mean, np.std]))"
   ]
  }
 ],
 "metadata": {
  "kernelspec": {
   "display_name": "Python 3 (ipykernel)",
   "language": "python",
   "name": "python3"
  },
  "language_info": {
   "codemirror_mode": {
    "name": "ipython",
    "version": 3
   },
   "file_extension": ".py",
   "mimetype": "text/x-python",
   "name": "python",
   "nbconvert_exporter": "python",
   "pygments_lexer": "ipython3",
   "version": "3.8.11"
  }
 },
 "nbformat": 4,
 "nbformat_minor": 2
}
