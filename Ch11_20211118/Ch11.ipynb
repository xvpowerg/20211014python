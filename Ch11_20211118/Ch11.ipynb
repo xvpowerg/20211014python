{
 "cells": [
  {
   "cell_type": "markdown",
   "id": "fe0b9d46",
   "metadata": {},
   "source": [
    "## 多重繼承\n",
    "+ 繼承多個父類別時用，隔開\n",
    "+ 注意成員搜尋的順序\n",
    "  + 從子類別開始\n",
    "  + 同一階層父類別由左至右搜尋\n",
    "  + 更上層祖父類別由左至右搜尋\n",
    "  + 直到達到頂層為止"
   ]
  },
  {
   "cell_type": "code",
   "execution_count": 4,
   "id": "33c76bb5",
   "metadata": {},
   "outputs": [
    {
     "name": "stdout",
     "output_type": "stream",
     "text": [
      "C.method4\n",
      "A.methdo3\n",
      "B.methdo2\n",
      "S.methdo1\n"
     ]
    }
   ],
   "source": [
    "class S(object):\n",
    "    def method1(self):\n",
    "        print(\"S.methdo1\")\n",
    "    def method2(self):\n",
    "        print(\"S.methdo2\")\n",
    "class A(S):\n",
    "    def method3(self):\n",
    "        print(\"A.methdo3\")\n",
    "class B(S):\n",
    "    def method2(self):\n",
    "        print(\"B.methdo2\")        \n",
    "    def method3(self):\n",
    "        print(\"B.methdo3\")    \n",
    "class C(A,B):\n",
    "    def method4(self):\n",
    "        print(\"C.method4\")    \n",
    "c = C()\n",
    "c.method4()\n",
    "c.method3()\n",
    "c.method2()\n",
    "c.method1()"
   ]
  },
  {
   "cell_type": "markdown",
   "id": "e5451e39",
   "metadata": {},
   "source": [
    "## Python類別內建屬性\n",
    "+ __class__：物件所屬類別\n",
    "+ __module__：類別/物件所屬模組字串\n",
    "+ 若沒有引用其他模組則預設為  ′__main__′ \n",
    "+ __name__：類別名稱字串\n",
    "+ __bases__：類別所有父類別，傳回 tuple\n",
    "+ __dict__：類別/物件所屬名稱空間字典(鍵值對)\n",
    "+ __doc__：類別說明字串\n",
    "  + 模組、 類別、屬性、方法、函式下使用三引號字串定義的說明文字 docstring。"
   ]
  },
  {
   "cell_type": "code",
   "execution_count": 7,
   "id": "2a28bccc",
   "metadata": {},
   "outputs": [
    {
     "name": "stdout",
     "output_type": "stream",
     "text": [
      "類別所屬類別: <class 'type'>\n",
      "類別所屬模組: __main__\n",
      "類別名稱: Student\n",
      "類別的父類別: (<class 'object'>,)\n",
      "類別空間字典: {'__module__': '__main__', '__doc__': '學生類別', 'school': 'pcschool', 'count': 0, '__init__': <function Student.__init__ at 0x000001E4DD2F2700>, 'displayCount': <function Student.displayCount at 0x000001E4DD2F2790>, '__printInfo__': <function Student.__printInfo__ at 0x000001E4DD2F2820>, '__dict__': <attribute '__dict__' of 'Student' objects>, '__weakref__': <attribute '__weakref__' of 'Student' objects>}\n",
      "類別文件字串: 學生類別\n",
      "方法文件字串: 選示學生人數\n",
      "\n",
      "物件所屬類別: <class '__main__.Student'>\n",
      "物件所屬模組: __main__\n",
      "物件空間字典: {'name': 'Sean'}\n",
      "物件文件字串: 學生類別\n",
      "方法文件字串: 選示學生人數\n"
     ]
    }
   ],
   "source": [
    "class Student():\n",
    "    '''學生類別'''\n",
    "    school=\"pcschool\"\n",
    "    count=0\n",
    "    def __init__(self, name):\n",
    "        self.name = name\n",
    "        Student.count += 1\n",
    "    def displayCount(self):\n",
    "        \"\"\"選示學生人數\"\"\"\n",
    "        print(\"學生人數:  %d\" % Student.count)\n",
    "    def __printInfo__(self):\n",
    "        return (\"姓名: \"+self.name)\n",
    "\n",
    "print(\"類別所屬類別:\", Student.__class__)\n",
    "print(\"類別所屬模組:\", Student.__module__)\n",
    "print(\"類別名稱:\", Student.__name__)\n",
    "print(\"類別的父類別:\", Student.__bases__)\n",
    "print(\"類別空間字典:\", Student.__dict__)\n",
    "print(\"類別文件字串:\", Student.__doc__)\n",
    "print(\"方法文件字串:\", Student.displayCount.__doc__)\n",
    "print()\n",
    "\n",
    "st = Student('Sean')\n",
    "print(\"物件所屬類別:\", st.__class__)\n",
    "print(\"物件所屬模組:\", st.__module__)\n",
    "print(\"物件空間字典:\", st.__dict__)\n",
    "print(\"物件文件字串:\", st.__doc__)\n",
    "print(\"方法文件字串:\", st.displayCount.__doc__)\n"
   ]
  },
  {
   "cell_type": "markdown",
   "id": "255c276d",
   "metadata": {},
   "source": [
    "## 物件生命週期方法"
   ]
  },
  {
   "cell_type": "code",
   "execution_count": 19,
   "id": "b3d4fb42",
   "metadata": {},
   "outputs": [
    {
     "name": "stdout",
     "output_type": "stream",
     "text": [
      "2082474996160 2082474996160 2082474996160 2082472593008\n",
      "2082474996160 2082474996160 2082472593008\n",
      "2082474996160 2082472593008\n",
      "Point <__main__.Point object at 0x000001E4DD2EB1C0> destroyed\n",
      "2082472593008\n",
      "Point <__main__.Point object at 0x000001E4DD0A0670> destroyed\n"
     ]
    }
   ],
   "source": [
    "class Point:\n",
    "    def __init__(self,x=0,y=0):\n",
    "        self.x = x\n",
    "        self.y = y\n",
    "    def __del__(self):\n",
    "        cn = self.__class__.__name__\n",
    "        print(cn,self,\"destroyed\")\n",
    "pt1 = Point()\n",
    "pt2 = pt1\n",
    "pt3 = pt1\n",
    "pt4 = Point()\n",
    "print(id(pt1),id(pt2),id(pt3),id(pt4))\n",
    "del pt1\n",
    "print(id(pt2),id(pt3),id(pt4))\n",
    "del pt2\n",
    "print(id(pt3),id(pt4))\n",
    "del pt3\n",
    "print(id(pt4))\n",
    "del pt4"
   ]
  },
  {
   "cell_type": "markdown",
   "id": "e0533b0c",
   "metadata": {},
   "source": [
    "## __str__ 可輸出物件的內容"
   ]
  },
  {
   "cell_type": "code",
   "execution_count": 20,
   "id": "462c359e",
   "metadata": {},
   "outputs": [
    {
     "name": "stdout",
     "output_type": "stream",
     "text": [
      "<__main__.Point object at 0x000001E4DCD8C250>\n"
     ]
    }
   ],
   "source": [
    "class Point:\n",
    "    def __init__(self,x = 0,y = 0):\n",
    "        self.x = x\n",
    "        self.y = y\n",
    "p1 = Point(2,3)        \n",
    "print(p1)"
   ]
  },
  {
   "cell_type": "code",
   "execution_count": 21,
   "id": "b8e83339",
   "metadata": {},
   "outputs": [
    {
     "name": "stdout",
     "output_type": "stream",
     "text": [
      "(2,3)\n"
     ]
    }
   ],
   "source": [
    "class Point:\n",
    "    def __init__(self,x = 0,y = 0):\n",
    "        self.x = x\n",
    "        self.y = y\n",
    "    def __str__(self):\n",
    "        return f\"({self.x},{self.y})\"\n",
    "p1 = Point(2,3)        \n",
    "print(p1)"
   ]
  },
  {
   "cell_type": "markdown",
   "id": "8fc22a3e",
   "metadata": {},
   "source": [
    "## Python類別特殊方法"
   ]
  },
  {
   "cell_type": "code",
   "execution_count": 22,
   "id": "97a4591e",
   "metadata": {},
   "outputs": [
    {
     "name": "stdout",
     "output_type": "stream",
     "text": [
      "(1,5)\n"
     ]
    }
   ],
   "source": [
    "class Point:\n",
    "    def __init__(self,x = 0,y = 0):\n",
    "        self.x = x\n",
    "        self.y = y\n",
    "    def __add__(self,other):\n",
    "        x = self.x + other.x\n",
    "        y = self.y + other.y\n",
    "        return Point(x,y)\n",
    "    def __str__(self):\n",
    "        return f\"({self.x},{self.y})\"\n",
    "p1 = Point(2,3)        \n",
    "p2 = Point(-1,2)        \n",
    "print(p1 + p2)"
   ]
  },
  {
   "cell_type": "code",
   "execution_count": 32,
   "id": "ef7a069c",
   "metadata": {},
   "outputs": [
    {
     "name": "stdout",
     "output_type": "stream",
     "text": [
      "(1,5)\n",
      "13\n",
      "False\n",
      "False\n"
     ]
    }
   ],
   "source": [
    "class Point:\n",
    "    def __init__(self,x = 0,y = 0):\n",
    "        self.x = x\n",
    "        self.y = y\n",
    "    def __add__(self,other):\n",
    "        x = self.x + other.x\n",
    "        y = self.y + other.y\n",
    "        return Point(x,y)\n",
    "    def __len__(self):\n",
    "        self_mag = (self.x ** 2) +  (self.y ** 2)\n",
    "        return self_mag\n",
    "    def __eq__(self,other):\n",
    "          p1Len = len(self)  \n",
    "          p2Len = len(other)    \n",
    "          return   p1Len == p2Len\n",
    "    def __lt__(self,other):\n",
    "          p1Len = len(self)  \n",
    "          p2Len = len(other)    \n",
    "          return   p1Len < p2Len      \n",
    "    def __str__(self):\n",
    "        return f\"({self.x},{self.y})\"\n",
    "p1 = Point(2,3)        \n",
    "p2 = Point(-1,2)        \n",
    "print(p1 + p2)\n",
    "print(len(p1))\n",
    "print(p1 == p2)\n",
    "print(p1 < p2)"
   ]
  },
  {
   "cell_type": "markdown",
   "id": "f84811c0",
   "metadata": {},
   "source": [
    "## 抽象類別\n",
    "+ 建立抽象元類別\n",
    "  + 宣告抽象類別\n",
    "    + class 抽象類別(metaclass=ABCMeta)\n",
    "       +無法建構物件的類別\n",
    "  + 為子類定義共有的API\n",
    "    + 方法前加上@abstractmethod 裝飾\n",
    "    + 不需要具體實現。\n",
    "        @abstractmethod\n",
    "        def 抽象方法(self, …)\n"
   ]
  },
  {
   "cell_type": "code",
   "execution_count": 38,
   "id": "b4b8fdff",
   "metadata": {},
   "outputs": [
    {
     "name": "stdout",
     "output_type": "stream",
     "text": [
      "Momo:喵喵\n"
     ]
    }
   ],
   "source": [
    "from abc import ABCMeta, abstractmethod\n",
    "class Animal(metaclass=ABCMeta):\n",
    "      def __init__(self,name):      \n",
    "            self.__name = name\n",
    "      @abstractmethod      \n",
    "      def bark(self):\n",
    "        pass\n",
    "      def getName(self):  \n",
    "        return self.__name\n",
    "class Dog(Animal):\n",
    "    def bark(self):\n",
    "        return self.getName()+\":喵喵\"\n",
    "dog = Dog(\"Momo\")    \n",
    "print(dog.bark())"
   ]
  },
  {
   "cell_type": "markdown",
   "id": "66c604e2",
   "metadata": {},
   "source": [
    "## 例外拋出\n",
    "+ 自行拋出的例外，例外機制也可以處理\n",
    " + 拋出例外語法\n",
    "   + raise 異常類別\n",
    "      + 自行建構的例外拋出\n",
    "   + raise 異常類別(message)\n",
    "      + 建構包含指定訊息的例外拋出!\n",
    "      \n",
    "+ 拋出例外語法\n",
    "    + raise 異常物件 / raise\n",
    "       + 重拋補捉到的例外\n",
    "    + raise 異常型別名或物件 from 異常物件\n",
    "       + 拋出一個新建例外，鏈接到所補捉到的例外"
   ]
  },
  {
   "cell_type": "code",
   "execution_count": 41,
   "id": "7920ea37",
   "metadata": {},
   "outputs": [
    {
     "name": "stdout",
     "output_type": "stream",
     "text": [
      "錯誤了!!\n"
     ]
    }
   ],
   "source": [
    "score = 150\n",
    "try:\n",
    "    if score > 100 or  score < 0:\n",
    "        raise OverflowError(\"成績錯誤!\")\n",
    "except OverflowError:\n",
    "       print(\"錯誤了!!\")\n"
   ]
  },
  {
   "cell_type": "markdown",
   "id": "97c7b8be",
   "metadata": {},
   "source": [
    "## 自訂例外類別"
   ]
  },
  {
   "cell_type": "markdown",
   "id": "c1f6d4e9",
   "metadata": {},
   "source": [
    "+ Builtin 內建例外\n",
    "  + Python預先定義的類別，位於builtins模組之中\n",
    "+ 自訂例外類別\n",
    "  + 透過繼承Exception 類別來建立自己的例外類別\n",
    "    + 自訂例外類別和其他的內建例外類別沒有區別\n",
    "    + cause, message 屬性\n",
    "    + 可自訂例外相關屬性\n",
    "    + 撰寫/覆寫方法"
   ]
  },
  {
   "cell_type": "code",
   "execution_count": 46,
   "id": "0eca89f6",
   "metadata": {},
   "outputs": [
    {
     "ename": "ValueTooSmall",
     "evalue": "不可小於2",
     "output_type": "error",
     "traceback": [
      "\u001b[1;31m---------------------------------------------------------------------------\u001b[0m",
      "\u001b[1;31mValueTooSmall\u001b[0m                             Traceback (most recent call last)",
      "\u001b[1;32m~\\AppData\\Local\\Temp/ipykernel_4824/1667742834.py\u001b[0m in \u001b[0;36m<module>\u001b[1;34m\u001b[0m\n\u001b[0;32m      4\u001b[0m \u001b[0mnumber\u001b[0m \u001b[1;33m=\u001b[0m \u001b[1;36m1\u001b[0m\u001b[1;33m\u001b[0m\u001b[1;33m\u001b[0m\u001b[0m\n\u001b[0;32m      5\u001b[0m \u001b[1;32mif\u001b[0m \u001b[0mnumber\u001b[0m \u001b[1;33m<\u001b[0m \u001b[0mminLmit\u001b[0m\u001b[1;33m:\u001b[0m\u001b[1;33m\u001b[0m\u001b[1;33m\u001b[0m\u001b[0m\n\u001b[1;32m----> 6\u001b[1;33m     \u001b[1;32mraise\u001b[0m \u001b[0mValueTooSmall\u001b[0m\u001b[1;33m(\u001b[0m\u001b[1;34mf\"不可小於{minLmit}\"\u001b[0m\u001b[1;33m)\u001b[0m\u001b[1;33m\u001b[0m\u001b[1;33m\u001b[0m\u001b[0m\n\u001b[0m",
      "\u001b[1;31mValueTooSmall\u001b[0m: 不可小於2"
     ]
    }
   ],
   "source": [
    "class ValueTooSmall(Exception):\n",
    "    pass\n",
    "minLmit = 2\n",
    "number = 1\n",
    "if number < minLmit:\n",
    "    raise ValueTooSmall(f\"不可小於{minLmit}\")"
   ]
  },
  {
   "cell_type": "markdown",
   "id": "6e789574",
   "metadata": {},
   "source": [
    "## 檔案存取\n",
    "\n",
    "file object = open(file_name [, access_mode])\n",
    "\n",
    "UTF8 編碼資料還請加入另一個參數才可避免亂碼：encoding=‘utf-8'\n",
    "file object = open(file_name [, access_mode])\n",
    "\n",
    "參數說明\n",
    "\n",
    "file_name：file_name 參數是一個字串資料，代表包含要連結的文件名稱。\n",
    "\n",
    "access_mode：access_mode 確定文件必須打開的模式，包括讀取、寫入、附加等等。稍後會列完整列表。這是可選參數，默認文件訪問模式為讀取(r)。\n",
    "\n",
    "|模式\t|可做操作|若檔案不存在|是否覆蓋|\n",
    "|----|--------|-----------|-------|\n",
    "|r\t|只能讀|報錯\t|-|\n",
    "|r+\t|可讀可寫|報錯|是|\n",
    "|w\t|只能寫|建立|是|\n",
    "|w+ |可讀可寫|建立|是|\n",
    "|a　|只能寫|建立|否，追加寫|\n",
    "|a+\t|可讀可寫|建立|否，追加寫|\n"
   ]
  },
  {
   "cell_type": "code",
   "execution_count": 4,
   "id": "f2101549",
   "metadata": {},
   "outputs": [],
   "source": [
    "text = \"\"\"python與中文AAA\n",
    "1. 我們來試試看中文儲存能力。\n",
    "2. 許這個字會有編碼衝突風險。\n",
    "3. 犇這個字必須是utf8編碼才有。\n",
    "\"\"\"\n",
    "print(text,file=open('data.txt','w',encoding='utf-8'))\n",
    "#print(text,file=open('data.txt','w'))"
   ]
  },
  {
   "cell_type": "code",
   "execution_count": 5,
   "id": "7489cab0",
   "metadata": {},
   "outputs": [
    {
     "name": "stdout",
     "output_type": "stream",
     "text": [
      "請輸入第1筆的成績:-1結束50\n",
      "請輸入第2筆的成績:-1結束60\n",
      "請輸入第3筆的成績:-1結束70\n",
      "請輸入第4筆的成績:-1結束-1\n",
      "{1: 50, 2: 60, 3: 70}\n"
     ]
    }
   ],
   "source": [
    "no = 1\n",
    "scores = dict()\n",
    "while True:\n",
    "    score = int(input(f\"請輸入第{no}筆的成績:-1結束\"))\n",
    "    if score == -1: break\n",
    "    scores[no] = score\n",
    "    no+=1\n",
    "file = open('score.txt','w',encoding='utf-8')    \n",
    "scoreStr = str(scores)\n",
    "print(scoreStr)\n",
    "file.write(scoreStr)\n",
    "file.close()"
   ]
  },
  {
   "cell_type": "markdown",
   "id": "fc5436e2",
   "metadata": {},
   "source": [
    "## 讀取"
   ]
  },
  {
   "cell_type": "code",
   "execution_count": 11,
   "id": "4aff763a",
   "metadata": {},
   "outputs": [
    {
     "name": "stdout",
     "output_type": "stream",
     "text": [
      "python與中文AAA\n",
      "1. 我們來試試看中文儲存能力。\n",
      "2. 許這個字會有編碼衝突風險。\n",
      "3. 犇這個字必須是utf8編碼才有。\n",
      "\n",
      "\n"
     ]
    }
   ],
   "source": [
    "file = open('data.txt','r',encoding='UTF-8')\n",
    "content = file.read()\n",
    "file.close()\n",
    "print(content)"
   ]
  },
  {
   "attachments": {},
   "cell_type": "markdown",
   "id": "c960433a",
   "metadata": {},
   "source": [
    "## readlines\n",
    "readlines 方法\n",
    "\n",
    "這方法將讀取整個文件所有行，保存在一個 list 內。\n",
    "\n",
    "讀取文件後可搭配使用的方法\n",
    "\n",
    "strip( )  去除字串首尾的空白。\n",
    "\n",
    "lstrip( ) 去除字串左邊的空白。\n",
    "\n",
    "rstrip( ) 去除字串右邊的空白。 \n",
    "\n",
    "startswith(‘字元’): 第一個字元。\n"
   ]
  },
  {
   "cell_type": "code",
   "execution_count": 15,
   "id": "3cf38172",
   "metadata": {},
   "outputs": [
    {
     "name": "stdout",
     "output_type": "stream",
     "text": [
      "['G', 'C', 'D', 'A']\n"
     ]
    }
   ],
   "source": [
    "file = open('data1.txt','r',encoding='UTF-8')\n",
    "result = list()\n",
    "for line in file.readlines():\n",
    "    line = line.strip()\n",
    "    if not len(line) or line.startswith(\"#\"):\n",
    "        continue\n",
    "    result.append(line)    \n",
    "open('write-file.txt','w',encoding='UTF-8').write('\\n'.join(result))    \n",
    "print(result)    "
   ]
  },
  {
   "cell_type": "markdown",
   "id": "288e7ec2",
   "metadata": {},
   "source": [
    "## CSV\n",
    "+ CSV 格式是資料庫最常用的導入和導出格式。\n",
    "+ 資料均沒有類型，一切都是字串。\n",
    "+ 沒有字體或顏色與儲存格寬度高度的設置。\n",
    "+ Python 語法必須加入 import csv。\n",
    "+ 讀取儲存格資料：\n",
    "  + reader( )：依照每一列的編號 由0開始\n",
    "  + DictReader( )\n",
    "    + 以第一列的值為每一行的名稱，第一列不是資料\n",
    "    + 也可以重新命名，但第一列必須是資料\n"
   ]
  },
  {
   "cell_type": "code",
   "execution_count": 18,
   "id": "e091b9fb",
   "metadata": {},
   "outputs": [
    {
     "name": "stdout",
     "output_type": "stream",
     "text": [
      " 104/01/03\n",
      " 104/01/17\n",
      " 104/01/30\n",
      " 104/01/31\n"
     ]
    }
   ],
   "source": [
    "import csv\n",
    "f = open(\"example1.csv\",\"r\")\n",
    "for row in csv.reader(f):\n",
    "    if  float(row[5]) > 100:\n",
    "          print(row[0])\n",
    "f.close()            "
   ]
  },
  {
   "cell_type": "code",
   "execution_count": 19,
   "id": "dcfdcd03",
   "metadata": {},
   "outputs": [
    {
     "name": "stdout",
     "output_type": "stream",
     "text": [
      "101.17\n",
      "29.59\n",
      "47.89\n",
      "85.83\n",
      "117.46\n",
      "12.61\n",
      "173.72\n",
      "109.67\n"
     ]
    }
   ],
   "source": [
    "import csv\n",
    "f = open(\"example.csv\",\"r\",encoding='utf-8')\n",
    "for row in csv.DictReader(f):\n",
    "    if float(row['漲跌點數']) > 9.34:\n",
    "        print(row['漲跌點數'])\n",
    "f.close()        "
   ]
  },
  {
   "cell_type": "code",
   "execution_count": 25,
   "id": "8872acfd",
   "metadata": {},
   "outputs": [
    {
     "name": "stdout",
     "output_type": "stream",
     "text": [
      "error\n",
      "101.17\n",
      "error\n",
      "error\n",
      "error\n",
      "error\n",
      "85.83\n",
      "error\n",
      "error\n",
      "error\n",
      "error\n",
      "117.46\n",
      "error\n",
      "173.72\n",
      "109.67\n"
     ]
    }
   ],
   "source": [
    "import csv\n",
    "f = open(\"example1.csv\",\"r\",encoding='utf-8')\n",
    "for row in csv.DictReader(f,['a','b','c','d','e','f']):#Csv 沒有欄位名稱時\n",
    "    if float(row['f']) > 71:\n",
    "        print(row['f'])\n",
    "    else:\n",
    "        print(\"error\")  \n",
    "f.close()"
   ]
  },
  {
   "cell_type": "code",
   "execution_count": null,
   "id": "8674c781",
   "metadata": {},
   "outputs": [],
   "source": []
  }
 ],
 "metadata": {
  "kernelspec": {
   "display_name": "Python 3 (ipykernel)",
   "language": "python",
   "name": "python3"
  },
  "language_info": {
   "codemirror_mode": {
    "name": "ipython",
    "version": 3
   },
   "file_extension": ".py",
   "mimetype": "text/x-python",
   "name": "python",
   "nbconvert_exporter": "python",
   "pygments_lexer": "ipython3",
   "version": "3.8.11"
  }
 },
 "nbformat": 4,
 "nbformat_minor": 5
}
