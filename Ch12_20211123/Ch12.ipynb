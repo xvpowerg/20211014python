{
 "cells": [
  {
   "cell_type": "markdown",
   "id": "f2196fb1",
   "metadata": {},
   "source": [
    "## 作業\n",
    "使用物件來建立帳號密碼管理。\n",
    "\n",
    "創建 4 個選單來進行操作。\n",
    "\n",
    "發揮想像儘量完善程式的流程。\n",
    "\n",
    "繳交至老師信箱\n"
   ]
  },
  {
   "cell_type": "code",
   "execution_count": null,
   "id": "2d2e1b29",
   "metadata": {},
   "outputs": [],
   "source": [
    "#建立一個物件類別\n",
    "class user:\n",
    "    userName = \"unknown\"\n",
    "    passwd = \"123456\"\n",
    "    #定義(建構子)物件函數 初始化物件内容\n",
    "    def __init__(self,newUserName,newPasswd):\n",
    "        self.userName = newUserName\n",
    "        self.passwd = newPasswd\n",
    "    def toString(self):\n",
    "        print(\"帳號:\",self.userName,\"密碼：\",self.passwd)\n",
    "#主要程式\n",
    "#建立一個list物件,用來存資料\n",
    "objectUser = []\n",
    "#建立一個選單list\n",
    "memu = [\"1.顯示所有帳號\",\"2.查詢/修改/删除帳號\",\"3.增加新帳號\",\"4.退出程式\"]\n",
    "flag = 1\n",
    "while(flag):\n",
    "    print(\"\\n帳號管理系統\")\n",
    "    #列出選單選項\n",
    "    for m in memu:\n",
    "        print(m)\n",
    "    #取得選單選項\n",
    "    num = input(\"請輸入要執行的項目：\")\n",
    "    num = num.split(\".\")\n",
    "    #把輸入的字串轉成整數型態\n",
    "    askForNum = int(num[0])\n",
    "    #1.顯示所有帳號\n",
    "    if(askForNum == 1):\n",
    "        for num1 in objectUser:\n",
    "            num1.toString()\n",
    "    \n",
    "    #2.查詢/修改/删除帳號\n",
    "    elif (askForNum == 2):\n",
    "        findUser = input(\"請輸入要查詢的帳戶\")\n",
    "        #去搜尋 objectUser 是否存在該帳號\n",
    "        flag2 = 0\n",
    "        for num2 in objectUser:\n",
    "            #如果帳號存在\n",
    "            if(num2.userName == findUser):\n",
    "                flag2 = 1\n",
    "                print(\"帳號己經登記了！！！\")\n",
    "                print(\"請選擇選項\\n\")\n",
    "                print(\"1.修改帳號\\n2.删除帳號\\n\")\n",
    "                aa = input(\"請選擇選項：\")\n",
    "                #如果是選 1.修改帳號\n",
    "                if(aa == \"1\"):\n",
    "                    temp2Name = input(\"請輸入新的帳號：\")\n",
    "                    temp2Passwd = input(\"請輸入新的密碼：\")\n",
    "                    num2.userName = temp2Name\n",
    "                    num2.passwd = temp2Passwd\n",
    "                    break\n",
    "                # 如果是選 2.删除帳號\n",
    "                if(aa == \"2\"):\n",
    "                    objectUser.remove(num2)\n",
    "                    break\n",
    "            #如果帳號不存在\n",
    "        if(flag2 == 0):\n",
    "            print(\"這個帳號不存在！！！\")\n",
    "    #3.增加新帳號\n",
    "    elif (askForNum == 3):\n",
    "        newUser = input(\"請輸入新的帳號：\")\n",
    "        newPass = input(\"請輸入新的密碼：\")\n",
    "        tempUser = user(newUser,newPass)\n",
    "        objectUser.append(tempUser)\n",
    "        print(\"已成功增加帳號！\")\n",
    "    #4.退出程式\n",
    "    elif (askForNum == 4):\n",
    "        flag = 0\n",
    "        print(\"己經退出程式！！！\")\n",
    "        break\n",
    "    else:\n",
    "        print(\"輸入格式不對，請重新輸入！！！\")\n"
   ]
  },
  {
   "cell_type": "markdown",
   "id": "bb010ea7",
   "metadata": {},
   "source": [
    "## 作業2"
   ]
  },
  {
   "cell_type": "code",
   "execution_count": 3,
   "id": "a4f1fad6",
   "metadata": {},
   "outputs": [
    {
     "name": "stdout",
     "output_type": "stream",
     "text": [
      "班上學生考試資訊:\n",
      "\n",
      "學生人數0人\n",
      "輸入新的學生資料 (y/n) ? n\n",
      "\n",
      "班級清單\n",
      "\n",
      "\n",
      "班級平均成績 0.00\n"
     ]
    }
   ],
   "source": [
    "class Student(object):\n",
    "    def __init__(self, name):\n",
    "        self.name, self.grades = name, []\n",
    "    def append_grade(self, grade):\n",
    "        self.grades.append(grade)\n",
    "    def average(self):\n",
    "        return sum(self.grades) / len(self.grades)\n",
    "    def letter_grade(self):\n",
    "        average = self.average()\n",
    "        for value, grade in (90, \"A\"), (80, \"B\"), (70, \"C\"), (60, \"D\"):\n",
    "            if average >= value:\n",
    "                return grade\n",
    "        else:\n",
    "            return \"F\"\n",
    "def print_report(a_class):\n",
    "    print()\n",
    "    print('班級清單')\n",
    "    print()\n",
    "    for student in a_class:\n",
    "        print(f'學生: {student.name} 成績:{student.grades} 平均成績: {student.average():.2f}  等第: { student.letter_grade()}')\n",
    "    print()\n",
    "    print(f'班級平均成績 {class_average(a_class):.2f}')\n",
    "\n",
    "def class_average(a_class):\n",
    "    if len(a_class) == 0:\n",
    "        return 0    \n",
    "    return sum(student.average() for student in a_class) / len(a_class)\n",
    "\n",
    "print('班上學生考試資訊:')\n",
    "a_class = []  # \"class\" by itself is a reserved word in Python, avoid using\n",
    "while True:\n",
    "    print()\n",
    "    print(f'學生人數{len(a_class)}人')\n",
    "    another_student = input('輸入新的學生資料 (y/n) ? ')\n",
    "    if another_student[0].lower() != 'y':\n",
    "        break\n",
    "    print()\n",
    "    student_name = input('輸入學生姓名: ')\n",
    "    a_class.append(Student(student_name))\n",
    "    print()\n",
    "    print('學生:', student_name)\n",
    "    print('-------------------')\n",
    "    number_of_tests = int(input('考試科目有幾科? : '))\n",
    "    for test_num in range(1, number_of_tests+1):\n",
    "        print(f'科目 {test_num} 分數', end='')\n",
    "        score = float(input(' : '))\n",
    "        if score < 0:\n",
    "            break\n",
    "        a_class[-1].append_grade(score) \n",
    "print_report(a_class)"
   ]
  },
  {
   "cell_type": "markdown",
   "id": "fe68963e",
   "metadata": {},
   "source": [
    "## CSV的檔案轉為List"
   ]
  },
  {
   "cell_type": "code",
   "execution_count": 4,
   "id": "e755de26",
   "metadata": {},
   "outputs": [
    {
     "name": "stdout",
     "output_type": "stream",
     "text": [
      "[['日期', '成交股數', '成交金額', '成交筆數', '發行量加權股價指數', '漲跌點數'], [' 104/01/02', '2,104,640,545', '50,472,201,894', '497,889', '6,952.21', '-119.87'], [' 104/01/03', '2,640,781,030', '64,138,886,194', '623,192', '7,053.38', '101.17'], [' 104/01/04', '2,983,756,821', '75,845,629,353', '728,417', '7,082.97', '29.59'], [' 104/01/05', '3,062,757,248', '76,850,752,698', '737,780', '7,130.86', '47.89'], [' 104/01/06', '3,314,147,435', '88,101,921,548', '823,810', '7,120.51', '-10.35'], [' 104/01/09', '2,610,433,477', '71,323,370,369', '634,137', '7,093.04', '-27.47'], [' 104/01/10', '3,595,611,551', '97,168,542,017', '869,327', '7,178.87', '85.83'], [' 104/01/11', '3,322,390,467', '88,786,671,892', '802,539', '7,188.21', '9.34'], [' 104/01/12', '2,969,248,375', '78,947,910,460', '731,328', '7,186.58', '-1.63'], [' 104/01/13', '3,497,838,901', '99,286,437,370', '819,762', '7,181.54', '-5.04'], [' 104/01/16', '3,184,795,667', '76,842,611,338', '719,725', '7,103.62', '-77.92'], [' 104/01/17', '3,720,277,205', '101,133,309,290', '899,597', '7,221.08', '117.46'], [' 104/01/18', '4,088,756,925', '113,988,641,382', '1,020,420', '7,233.69', '12.61'], [' 104/01/30', '4,540,373,544', '143,900,658,474', '1,113,727', '7,407.41', '173.72'], [' 104/01/31', '5,486,734,180', '162,361,181,834', '1,283,951', '7,517.08', '109.67']]\n"
     ]
    }
   ],
   "source": [
    "import csv\n",
    "f = open('example.csv',\"r\",encoding='utf-8')\n",
    "csv1 = csv.reader(f)\n",
    "list1 = list(csv1)\n",
    "print(list1)\n",
    "f.close()"
   ]
  },
  {
   "cell_type": "markdown",
   "id": "e7a6d4c6",
   "metadata": {},
   "source": [
    "### Write\n",
    "+ 必須加入 import csv\n",
    "+ 利用 writer( ) 可寫入資料，寫入時注意\n",
    "   + delimiter     這是代表分隔符號\n",
    "   + quotechar   這是代表包住字串的符號\n",
    "+ 使用 writerow( ) 方法進行特定的儲存格寫入"
   ]
  },
  {
   "cell_type": "code",
   "execution_count": 9,
   "id": "bc3322c8",
   "metadata": {},
   "outputs": [],
   "source": [
    "import csv\n",
    "f = open(\"example.csv\",\"r\",encoding='utf-8')\n",
    "reader = csv.reader(f)\n",
    "wCsvf = open(\"testw.csv\",\"w\",encoding='utf-8',newline='')\n",
    "writer = csv.writer(wCsvf)\n",
    "for row in reader:\n",
    "    writer.writerow(row)    \n",
    "f.close()\n",
    "wCsvf.close()"
   ]
  },
  {
   "cell_type": "code",
   "execution_count": 10,
   "id": "ffa544c6",
   "metadata": {},
   "outputs": [],
   "source": [
    "import csv\n",
    "# 加上newline 寫出時才不會斷行\n",
    "f=open('example2.csv',\"w\",encoding='utf-8',newline='')\n",
    "# quotechar 這是代表包住字串的符號 如果欄位中包含delimiter的符號就使用這個符號將它包住\n",
    "writer = csv.writer(f,  quotechar='|',delimiter=\"#\")\n",
    "list1 = ['A','B','C','D']\n",
    "list2 = [100,200,300,400]\n",
    "list3 = ['Ken','Lucy#Vivin','Join','Iris']\n",
    "writer.writerow(list1)\n",
    "writer.writerow(list2)\n",
    "writer.writerow(list3)\n",
    "f.close()"
   ]
  },
  {
   "attachments": {
    "image-2.png": {
     "image/png": "[encoded data removed]"
    },
    "image.png": {
     "image/png": "[encoded data removed]"
    }
   },
   "cell_type": "markdown",
   "id": "11d338fc",
   "metadata": {},
   "source": [
    "### JSON\n",
    "+ 以 json.dumps( ) 函數從 Python 物件轉入 轉出JSON格式字串。\n",
    "+ 以 json.dump( )函數從 Python 物件轉入 轉出JSON 檔案中。\n",
    "+ json資料於Python處理UTF8碼內容會產生亂碼，建議 dumps 時加入以下的參數才可以正確處理UTF8碼內容\n",
    "![image.png](attachment:image.png)\n",
    "![image-2.png](attachment:image-2.png)"
   ]
  },
  {
   "cell_type": "markdown",
   "id": "ea5ccdb9",
   "metadata": {},
   "source": [
    "## 物件轉JSON(序列化)"
   ]
  },
  {
   "cell_type": "code",
   "execution_count": 15,
   "id": "db49ab58",
   "metadata": {},
   "outputs": [],
   "source": [
    "import json\n",
    "json1 = {\"python\":\"課程\",'gjun':100,'java_class':True,'email':None}\n",
    "with open('data0.json','w',encoding='utf-8') as outfile:\n",
    "    json.dump(json1,outfile,ensure_ascii=False)"
   ]
  },
  {
   "cell_type": "code",
   "execution_count": 21,
   "id": "36830b7e",
   "metadata": {},
   "outputs": [
    {
     "name": "stdout",
     "output_type": "stream",
     "text": [
      "{\"people\": [{\"name\": \"Scott\", \"website\": \"stackabuse.com\", \"from\": \"Nebraska\"}, {\"name\": \"Larry\", \"website\": \"google.com\", \"from\": \"Michigan\"}]}\n"
     ]
    }
   ],
   "source": [
    "import json\n",
    "data = { }\n",
    "data['people'] = [ ]\n",
    "data['people'].append({\n",
    "    'name': 'Scott',\n",
    "    'website': 'stackabuse.com',\n",
    "    'from': 'Nebraska'\n",
    "})\n",
    "data['people'].append({\n",
    "    'name': 'Larry',\n",
    "    'website': 'google.com',\n",
    "    'from': 'Michigan'\n",
    "})\n",
    "\n",
    "with open('data.json','w',encoding='utf-8') as outfile:\n",
    "    # 加入indent 可增加閱讀性\n",
    "     json.dump(data,outfile,ensure_ascii=False,indent=5)\n",
    "#物件轉文字後 寫入JSON        \n",
    "json2 = json.dumps(data)\n",
    "print(json2)\n",
    "# file=open('score.json','w',encoding='utf-8')\n",
    "# file.write((json2)); file.close()   "
   ]
  },
  {
   "cell_type": "markdown",
   "id": "4b3dc6d8",
   "metadata": {},
   "source": [
    "### 自訂物件轉JSON"
   ]
  },
  {
   "cell_type": "code",
   "execution_count": 23,
   "id": "1dd0bd16",
   "metadata": {},
   "outputs": [
    {
     "name": "stdout",
     "output_type": "stream",
     "text": [
      "Ken:25\n",
      "{'name': 'Ken', 'age': 25}\n",
      "{\"name\": \"Ken\", \"age\": 25}\n"
     ]
    }
   ],
   "source": [
    "import json\n",
    "class Student:\n",
    "    def __init__(self,name,age):\n",
    "        self.name = name\n",
    "        self.age = age        \n",
    "    def __str__(self):\n",
    "        return f\"{self.name}:{self.age}\"\n",
    "st = Student(\"Ken\",25)        \n",
    "#print(st)\n",
    "print(st.__dict__)# 物件轉成dict\n",
    "jsonStr = json.dumps(st.__dict__,ensure_ascii=False)\n",
    "print(jsonStr)"
   ]
  },
  {
   "cell_type": "markdown",
   "id": "7791b003",
   "metadata": {},
   "source": [
    "### Json 轉為 Python物件(反序列化)\n",
    "+ 以 json.loads( ) 函數從 JSON 字串中取出資料轉入 Python。\n",
    "+ 以 json.load( ) 函數從 JSON 檔案中取出資料轉入 Python。\n"
   ]
  },
  {
   "cell_type": "code",
   "execution_count": 24,
   "id": "578a232e",
   "metadata": {},
   "outputs": [
    {
     "name": "stdout",
     "output_type": "stream",
     "text": [
      "<class 'dict'>\n",
      "{'python': 'good', 'gjun': 100, 'python-class': True, 'ICQ': None}\n"
     ]
    }
   ],
   "source": [
    "import json\n",
    "json1 = '{\"python\":\"good\",\"gjun\":100,\"python-class\":true,\"ICQ\":null}'\n",
    "json2 = json.loads(json1)\n",
    "print(type(json2))\n",
    "print(json2)\n"
   ]
  },
  {
   "cell_type": "markdown",
   "id": "e8e66542",
   "metadata": {},
   "source": [
    "### JSON轉自訂物件"
   ]
  },
  {
   "cell_type": "code",
   "execution_count": 27,
   "id": "6e3ce6b5",
   "metadata": {},
   "outputs": [
    {
     "name": "stdout",
     "output_type": "stream",
     "text": [
      "data: {'name': 'Ken', 'age': 25, 'skill': ['python', 'java']}\n",
      "<class '__main__.Student'>\n",
      "Name:Ken Age:25 Skill:['python', 'java']\n"
     ]
    }
   ],
   "source": [
    "import json\n",
    "class Student:\n",
    "    def __init__(self,data):\n",
    "      print(\"data:\",data) \n",
    "      self.__dict__ = data\n",
    "    def __str__(self):\n",
    "        return f\"Name:{self.name} Age:{self.age} Skill:{self.skill}\"\n",
    "json1 = '{\"name\":\"Ken\",\"age\":25,\"skill\":[\"python\",\"java\"]}'\n",
    "obj = json.loads(json1,object_hook=Student)#由字串讀JSON\n",
    "print(type(obj))\n",
    "print(obj)"
   ]
  },
  {
   "cell_type": "code",
   "execution_count": 28,
   "id": "8d0e25f0",
   "metadata": {},
   "outputs": [
    {
     "name": "stdout",
     "output_type": "stream",
     "text": [
      "<class 'dict'>\n",
      "people-[{'name': 'Scott', 'website': 'stackabuse.com', 'from': 'Nebraska'}, {'name': 'Larry', 'website': 'google.com', 'from': 'Michigan'}]\n"
     ]
    }
   ],
   "source": [
    "import json\n",
    "with open('data.json') as jsonfile:\n",
    "    data = json.load(jsonfile)#由檔案讀JSON\n",
    "    print(type(data))\n",
    "    for k in data:\n",
    "        print(f'{k}-{data[k]}')"
   ]
  },
  {
   "cell_type": "markdown",
   "id": "8ce9c5b6",
   "metadata": {},
   "source": [
    "## 關於檔案關閉動作\n",
    "+ 檔案開啟後須進行 close( ) 方法進行關閉動作。\n",
    "+ 若檔案沒關閉會造成：\n",
    "  + 開啟的文件物件會占用系統資源。\n",
    "  + Python 可以同時間開啟的文件數量有限制 (約 20 份文件)。\n",
    "  + 開啟文件物件的模式若為寫入 (w 或 a) 模式，一般都是暫存於緩衝區，系統閒置或文件關閉前才會進行寫入，若沒有進行 close( ) 動作可能造成文件儲存不完整。"
   ]
  },
  {
   "cell_type": "code",
   "execution_count": 31,
   "id": "a75adeda",
   "metadata": {},
   "outputs": [
    {
     "name": "stdout",
     "output_type": "stream",
     "text": [
      "success\n"
     ]
    }
   ],
   "source": [
    "import os\n",
    "class tryopenfile:\n",
    "    def openfile(self,filePath):\n",
    "        self.handle = open(filePath,'w')\n",
    "        #self.handle.close()\n",
    "    pass\n",
    "\n",
    "t = tryopenfile()\n",
    "filePath = 'test.txt'\n",
    " #建立文件物件\n",
    "t.openfile(filePath)\n",
    "#刪除文件 PermissionError: [WinError 32] 程序無法存取檔案，因為檔案正由另一個程序使用。: 'test.txt'\n",
    "os.remove(filePath)\n",
    "print('success')"
   ]
  },
  {
   "cell_type": "markdown",
   "id": "4200b156",
   "metadata": {},
   "source": [
    "## With 方式操作檔案\n",
    "+ 多個檔案存取時若前一個檔案產生 IO 例外，將會造成後面無法進行close( ) 動作。\n",
    "+ 以 with 方式操作檔案：\n",
    "  + 檔案存取仍有可能產生 IO 例外。\n",
    "  + 離開 with 區塊時檔案將會自動進行 close( ) 動作，自動關閉檔案。"
   ]
  },
  {
   "cell_type": "code",
   "execution_count": 33,
   "id": "ca3d102c",
   "metadata": {},
   "outputs": [
    {
     "name": "stdout",
     "output_type": "stream",
     "text": [
      "success\n"
     ]
    }
   ],
   "source": [
    "import os\n",
    "class tryopenfile:\n",
    "    def openfile(self, filePath):\n",
    "        with open(filePath, 'w', encoding=\"utf8\") as f:\n",
    "            f.write(\"中文3\")#離開方法前一定關閉\n",
    "    pass\n",
    "t = tryopenfile( )\n",
    "filePath = 'test.txt'\n",
    "t.openfile(filePath)\n",
    "os.remove(filePath)\n",
    "print('success')\n"
   ]
  },
  {
   "cell_type": "markdown",
   "id": "75f6e3f0",
   "metadata": {},
   "source": [
    "## Numpy\n",
    "+ 可做到的功能\n",
    "  + 快速的多維陣列操作。\n",
    "  + 可靠的科學功能函數庫。\n",
    "  + 可協助繪圖工具進行繪圖。\n",
    "+ NumPy 是幾乎每個科學 Python 應用程序或模組的核心，它提供了以向量化形式的快速 N-d 陣列類型可供操作。"
   ]
  },
  {
   "cell_type": "code",
   "execution_count": 38,
   "id": "21332f11",
   "metadata": {},
   "outputs": [
    {
     "name": "stdout",
     "output_type": "stream",
     "text": [
      "[ 4  8 11 14 18]\n",
      "[-2 -2 -1  0  0]\n",
      "<class 'numpy.ndarray'>\n"
     ]
    }
   ],
   "source": [
    "import numpy as np\n",
    "a = np.array([1,3,5,7,9])\n",
    "b = np.array([3,5,6,7,9])\n",
    "c = a + b\n",
    "print(c)\n",
    "c = a - b\n",
    "print(c)\n",
    "print(type(a))\n"
   ]
  },
  {
   "cell_type": "markdown",
   "id": "e68f904f",
   "metadata": {},
   "source": [
    "## Numpy 建立與計算"
   ]
  },
  {
   "cell_type": "markdown",
   "id": "d84d5095",
   "metadata": {},
   "source": [
    "+ ndarray.ndim\n",
    "   + 維度的數量。\n",
    "+ ndarray.shape\n",
    "   + 顯示出陣列在每個維度上的整數值。\n",
    "+ ndarray.size\n",
    "   + 陣列內元素的總數。\n",
    "+ ndarray.dtype\n",
    "   + 用來描述陣列中元素類型的對象。\n"
   ]
  },
  {
   "cell_type": "code",
   "execution_count": 47,
   "id": "62684b20",
   "metadata": {},
   "outputs": [
    {
     "name": "stdout",
     "output_type": "stream",
     "text": [
      "[[1 2 3]\n",
      " [2 3 4]]\n",
      "ndim: 2\n",
      "shape: (2, 3)\n",
      "size: 6\n",
      "dtype: uint8\n"
     ]
    }
   ],
   "source": [
    "import numpy as np\n",
    "i = [[1,2,3],\n",
    "     [2,3,4]]\n",
    "a = np.array(i,dtype=np.uint8)\n",
    "print(a)\n",
    "print(\"ndim:\",a.ndim) #維度的數量 也可稱為軸的數量\n",
    "print(\"shape:\",a.shape)#每個軸的有多少元素\n",
    "print(\"size:\",a.size)\n",
    "print(\"dtype:\",a.dtype)\n",
    "\n"
   ]
  },
  {
   "cell_type": "markdown",
   "id": "12c4721a",
   "metadata": {},
   "source": [
    "## 陣列初始化與重新規劃\n",
    "+ 針對初始化這部分提供了多種方式：\n",
    "+ 不做初始化\n",
    "   + 例如：np.empty((2,4))\n",
    "+ 全部規劃為 0\n",
    "   + 例如：np.zeros((3,4))\n",
    "+　全部規劃為 1\n",
    "  + np.ones((5,2))\n",
    "+ 全部規劃／填滿為某數，例如 6\n",
    "   + 例如： np.full((3,3),6)\n",
    "+ 建立對角矩陣，對角皆為 1，其他為 0\n",
    "   + 例如： np.eye(3)\n",
    "+ 建立對角矩陣，對角為 1,2,3,4，其他為 0\n",
    "   + 例如： np.diag([1,2,3,4])\n",
    "+ reshape((x,y)) 這個指令就可以將現有的陣列  重新規劃為 x 乘以 y 的陣列。 \n",
    "+ np.arange(起始值, 結束值, 固定間隔)：也是產生一維陣列，和 np.array( ) 的差別在於 arange 擁有較大的彈性，而且元素數值是自動化產生。\n",
    "+ np.linspace(起始值, 結束值, 起始與結束的區間內要產生幾個元素 )：只要給定陣列的區間(起始值、結束值)，就可以要求在這個區間內產生幾個元素。\n",
    "+ arange(a,b,c)\n",
    "   + 不包含 b 由 a 開始 以固定間隔 c 來取值\n",
    "+ linspace(a,b,c,)\n",
    "   + 包含 b 由 a 開始 切割成 c 個資料\n",
    "+ linspace(a,b,c,endpoint=False)\n",
    "   + 不包含 b 由 a 開始 切割成 c 個資料"
   ]
  },
  {
   "cell_type": "code",
   "execution_count": 50,
   "id": "6b60a95a",
   "metadata": {},
   "outputs": [
    {
     "name": "stdout",
     "output_type": "stream",
     "text": [
      "[[0.00000000e+000 0.00000000e+000 0.00000000e+000 0.00000000e+000]\n",
      " [0.00000000e+000 5.69163624e-321 1.05699242e-307 8.01097888e-307]]\n",
      "[[0. 0. 0. 0.]\n",
      " [0. 0. 0. 0.]\n",
      " [0. 0. 0. 0.]]\n",
      "[[1. 1.]\n",
      " [1. 1.]\n",
      " [1. 1.]\n",
      " [1. 1.]\n",
      " [1. 1.]]\n"
     ]
    }
   ],
   "source": [
    "import numpy as np\n",
    "x = np.empty((2,4))\n",
    "print(x)\n",
    "x = np.zeros((3,4))\n",
    "print(x)\n",
    "c = np.ones((5,2))\n",
    "print(c)"
   ]
  },
  {
   "cell_type": "markdown",
   "id": "9a953fe7",
   "metadata": {},
   "source": [
    "### eye diag"
   ]
  },
  {
   "cell_type": "code",
   "execution_count": 52,
   "id": "d8568f49",
   "metadata": {},
   "outputs": [
    {
     "name": "stdout",
     "output_type": "stream",
     "text": [
      "[[1. 0. 0.]\n",
      " [0. 1. 0.]\n",
      " [0. 0. 1.]]\n",
      "[[1 0 0 0]\n",
      " [0 2 0 0]\n",
      " [0 0 3 0]\n",
      " [0 0 0 4]]\n"
     ]
    }
   ],
   "source": [
    "import numpy as np\n",
    "x = np.eye(3)\n",
    "print(x)\n",
    "x = np.diag([1,2,3,4])\n",
    "print(x)"
   ]
  },
  {
   "cell_type": "markdown",
   "id": "a9f41299",
   "metadata": {},
   "source": [
    "### linspace arange"
   ]
  },
  {
   "cell_type": "code",
   "execution_count": 61,
   "id": "2fb85b57",
   "metadata": {},
   "outputs": [
    {
     "name": "stdout",
     "output_type": "stream",
     "text": [
      "[ 1.   2.8  4.6  6.4  8.2 10. ]\n",
      "==================\n",
      "[[ 1.   2.8]\n",
      " [ 4.6  6.4]\n",
      " [ 8.2 10. ]]\n",
      "==================\n",
      "[[1.  2.5]\n",
      " [4.  5.5]\n",
      " [7.  8.5]]\n",
      "==================\n",
      "[[0 1 2 3]\n",
      " [4 5 6 7]]\n",
      "[25.  25.5 26.  26.5 27.  27.5 28.  28.5 29.  29.5]\n",
      "[3.   3.25 3.5  3.75 4.   4.25 4.5  4.75 5.  ]\n"
     ]
    }
   ],
   "source": [
    "import numpy as np\n",
    "x = np.linspace(1,10,6)\n",
    "print(x)\n",
    "print(\"==================\")\n",
    "x = np.linspace(1,10,6).reshape(3,2)# (10-1)/(6-1)\n",
    "print(x)\n",
    "print(\"==================\")\n",
    "x = np.linspace(1,10,6,endpoint=False).reshape(3,2)# (10-1)/(6)\n",
    "print(x)\n",
    "print(\"==================\")\n",
    "x = np.arange(8).reshape((2,4))\n",
    "print(x)\n",
    "x = np.arange(25,30,.5)\n",
    "print(x)\n",
    "lin = np.linspace(3,5,9)# (5-3) / (9-1)\n",
    "print(lin)"
   ]
  },
  {
   "cell_type": "markdown",
   "id": "8a26be28",
   "metadata": {},
   "source": [
    "## 陣列計算"
   ]
  },
  {
   "cell_type": "code",
   "execution_count": 62,
   "id": "7d4e6bc4",
   "metadata": {},
   "outputs": [
    {
     "name": "stdout",
     "output_type": "stream",
     "text": [
      "a=> [6 7 8 9]\n",
      "b=> [0 1 2 3]\n",
      "c=> [6 6 6 6]\n",
      "d=> [0 1 4 9]\n",
      "f<=3 [False  True  True False  True]\n",
      "[5 1 1 9 1]\n"
     ]
    }
   ],
   "source": [
    "import numpy as np\n",
    "a = np.array([6,7,8,9])\n",
    "b = np.arange(4)\n",
    "c = a -b\n",
    "print(\"a=>\",a)\n",
    "print(\"b=>\",b)\n",
    "print(\"c=>\",c)\n",
    "d = b**2\n",
    "print(\"d=>\",d)\n",
    "f = np.array([5,-1,3,9,0])\n",
    "print(\"f<=3\",f<=3)\n",
    "f[f<=3] = 1\n",
    "print(f)"
   ]
  },
  {
   "cell_type": "markdown",
   "id": "27c8b750",
   "metadata": {},
   "source": [
    "### Q. 請問以下的程式執行後值是多少?(選擇題)"
   ]
  },
  {
   "cell_type": "code",
   "execution_count": 64,
   "id": "4e24ade3",
   "metadata": {},
   "outputs": [
    {
     "name": "stdout",
     "output_type": "stream",
     "text": [
      "[ 8  9 10 11]\n"
     ]
    }
   ],
   "source": [
    "import numpy as np\n",
    "a = np.array( [6, 7, 8, 9] )\n",
    "a += 2\n",
    "print(a)"
   ]
  },
  {
   "cell_type": "markdown",
   "id": "2e2a9f09",
   "metadata": {},
   "source": [
    "## 陣列指定位置取值\n",
    "+ 間隔選取 [::c]\n",
    "  + 以 1 維陣列來說明 x[a:b:c]\n",
    "  + a：選取資料的起始索引\n",
    "  + b：選取資料的結束索引 +1\n",
    "  + c：選取資料間隔，以索引值可以被此值整除的元素，不指定表示 1\n",
    "+ 倒序 [::-1]\n",
    "  + 只是單純的把順序反過來"
   ]
  },
  {
   "cell_type": "markdown",
   "id": "d046662e",
   "metadata": {},
   "source": [
    "## 陣列指定位置取值\n",
    "+ 間隔選取 [::c]\n",
    "  + 以 1 維陣列來說明 x[a:b:c]\n",
    "  + a：選取資料的起始索引\n",
    "  + b：選取資料的結束索引 +1\n",
    "  + c：選取資料間隔，以索引值可以被此值整除的元素，不指定表示 1\n",
    "+ 倒序 [::-1]\n",
    "  + 只是單純的把順序反過來"
   ]
  },
  {
   "cell_type": "code",
   "execution_count": 68,
   "id": "d2caabec",
   "metadata": {},
   "outputs": [
    {
     "name": "stdout",
     "output_type": "stream",
     "text": [
      "=====1======\n",
      "[[1 2 3]\n",
      " [3 6 9]\n",
      " [2 4 6]]\n",
      "=====2======\n",
      "[3 6 9]\n",
      "=====3======\n",
      "9\n"
     ]
    }
   ],
   "source": [
    "import numpy as np\n",
    "a = np.array([[1,2,3],\n",
    "              [3,6,9],\n",
    "              [2,4,6]])\n",
    "print(\"=====1======\")\n",
    "print(a)\n",
    "print(\"=====2======\")\n",
    "print(a[1])\n",
    "print(\"=====3======\")\n",
    "print(a[1,2])"
   ]
  },
  {
   "cell_type": "code",
   "execution_count": null,
   "id": "f6b63308",
   "metadata": {},
   "outputs": [],
   "source": []
  }
 ],
 "metadata": {
  "kernelspec": {
   "display_name": "Python 3 (ipykernel)",
   "language": "python",
   "name": "python3"
  },
  "language_info": {
   "codemirror_mode": {
    "name": "ipython",
    "version": 3
   },
   "file_extension": ".py",
   "mimetype": "text/x-python",
   "name": "python",
   "nbconvert_exporter": "python",
   "pygments_lexer": "ipython3",
   "version": "3.8.11"
  }
 },
 "nbformat": 4,
 "nbformat_minor": 5
}
