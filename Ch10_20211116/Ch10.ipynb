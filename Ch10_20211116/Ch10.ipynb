{
 "cells": [
  {
   "cell_type": "markdown",
   "id": "372df2a8",
   "metadata": {},
   "source": [
    "## 類別方法"
   ]
  },
  {
   "cell_type": "code",
   "execution_count": 17,
   "id": "c4a27e12",
   "metadata": {},
   "outputs": [
    {
     "name": "stdout",
     "output_type": "stream",
     "text": [
      "GJ\n",
      "3\n"
     ]
    }
   ],
   "source": [
    "class Student:\n",
    "    count=0\n",
    "    company='GJ'\n",
    "    phone=\"12345\"\n",
    "    def __init__(self,name):\n",
    "        self.name = name\n",
    "        Student.count += 1 \n",
    "    def getCompany():\n",
    "        return Student.company\n",
    "    @staticmethod\n",
    "    def getCount():\n",
    "        return Student.count\n",
    "    @classmethod\n",
    "    def newStudent(cls,name):\n",
    "        return cls(name)\n",
    "    \n",
    "st1 = Student(\"Ken\")    \n",
    "st2 = Student(\"Vivin\")  \n",
    "st3 = Student.newStudent('Iris')\n",
    "print(Student.getCompany())\n",
    "print(Student.getCount())"
   ]
  },
  {
   "cell_type": "markdown",
   "id": "27f0a542",
   "metadata": {},
   "source": [
    "## 成員項目檢查\n",
    "+ python 提供內建函式檢查及操作物件成員屬性：\n",
    "  + hasattr(obj, name) : 檢查物件某成員是否存在，存在回傳 true，否則傳回 false。\n",
    "  + getattr(obj, name[, default]) : 回傳物件某成員的內容\n",
    "  + setattr(obj, name, value) : 設定物件某成員的內容。成員不存在則會建立。\n",
    "  + delattr(obj, name) : 刪除一個成員。"
   ]
  },
  {
   "cell_type": "code",
   "execution_count": 28,
   "id": "cc4fda12",
   "metadata": {},
   "outputs": [
    {
     "name": "stdout",
     "output_type": "stream",
     "text": [
      "True\n",
      "False\n",
      "建立 age\n",
      "True\n"
     ]
    }
   ],
   "source": [
    "class Student:\n",
    "    def __init__(self,name):\n",
    "        self.name = name\n",
    "st1 = Student(\"Join\")    \n",
    "print(hasattr(st1,\"name\"))\n",
    "print(hasattr(st1,\"age\"))\n",
    "#st1.age= 15\n",
    "if hasattr(st1,\"age\"):\n",
    "    print(\"移除 age\")\n",
    "    delattr(st1,'age')\n",
    "else:\n",
    "    print(\"建立 age\")\n",
    "    setattr(st1,'age',10)\n",
    "    \n",
    "print(hasattr(st1,\"age\"))"
   ]
  },
  {
   "cell_type": "markdown",
   "id": "e03503ed",
   "metadata": {},
   "source": [
    "# Python 物件導向特性\n",
    "+ 封裝 encapsulation：類別 class 封裝資料狀態與操作行為\n",
    "+ 繼承 inheritance：類別繼承階級架構\n",
    "+ 多型 polymorphism\n",
    "  + 不同種類的個體擁有相同操作介面：\n",
    "     + int與str都可使用「+」運算子\n",
    "     + list 改寫（或重新實作）Sequence規定的介面\n",
    "  + 函式可因參數型別不同而有不同行為"
   ]
  },
  {
   "cell_type": "markdown",
   "id": "d1d77f07",
   "metadata": {},
   "source": [
    "## 封裝\n",
    "屬性與方法加上__為私有"
   ]
  },
  {
   "cell_type": "code",
   "execution_count": 92,
   "id": "3b89192d",
   "metadata": {
    "scrolled": true
   },
   "outputs": [
    {
     "name": "stdout",
     "output_type": "stream",
     "text": [
      "錯誤的薪資: -30000\n",
      " \n",
      "50000\n"
     ]
    }
   ],
   "source": [
    "class Employee:\n",
    "        \n",
    "    def __init__(self,name,salary=20000):\n",
    "        #self.__name = name             \n",
    "        Employee.setName(self,name)\n",
    "        \n",
    "        if Employee.setSalary(self,salary):\n",
    "             self.__salary = salary\n",
    "    \n",
    "    def __isEmpty(name):\n",
    "        if name:\n",
    "            return False\n",
    "        else:\n",
    "            return True\n",
    "    def __testSalary(salary):\n",
    "        if salary < 0:\n",
    "           print(\"錯誤的薪資:\",salary)\n",
    "           return False\n",
    "        return True\n",
    "   \n",
    "    def setName(self,name):\n",
    "        if not Employee.__isEmpty(name):\n",
    "            self.__name = name\n",
    "        elif not hasattr(self,'__name'): \n",
    "             self.__name  = \" \"\n",
    "    \n",
    "    def getName(self):\n",
    "        return self.__name\n",
    "    \n",
    "    def setSalary(self,salary):\n",
    "        if Employee.__testSalary(salary):\n",
    "            self.__salary = salary\n",
    "    \n",
    "    def getSalary(self):    \n",
    "        return self.__salary\n",
    "    \n",
    "emp = Employee(\"Iris\",50000)        \n",
    "emp.setSalary(-30000)\n",
    "\n",
    "print(emp.getName())\n",
    "print(emp.getSalary())\n",
    "#emp.__salary = -60000\n",
    "#print(emp.salary)\n",
    "   "
   ]
  },
  {
   "cell_type": "markdown",
   "id": "7ffb616f",
   "metadata": {},
   "source": [
    "## 字串空白測試"
   ]
  },
  {
   "cell_type": "code",
   "execution_count": 57,
   "id": "a25e249e",
   "metadata": {},
   "outputs": [
    {
     "name": "stdout",
     "output_type": "stream",
     "text": [
      "\n",
      "Empty\n"
     ]
    }
   ],
   "source": [
    "strName = \" \"\n",
    "print(strName.strip()) ##移除前後空格\n",
    "strName = strName.strip()\n",
    "##以下方式測試字串是否為空白\n",
    "if strName :\n",
    "    print(\"Not Empty\")    \n",
    "else:  \n",
    "    print(\"Empty\")      "
   ]
  },
  {
   "cell_type": "markdown",
   "id": "5aa02ebb",
   "metadata": {},
   "source": [
    "## property 裝飾器"
   ]
  },
  {
   "cell_type": "code",
   "execution_count": 91,
   "id": "b8324ec3",
   "metadata": {},
   "outputs": [
    {
     "name": "stdout",
     "output_type": "stream",
     "text": [
      "======加薪前=====\n",
      "員工一薪水: 50000\n",
      "員工二薪水: 20000\n",
      "======加薪後=====\n",
      "員工一薪水: 55000\n",
      "員工二薪水: 20000\n"
     ]
    }
   ],
   "source": [
    "class Employee():\n",
    "    def __checkSalary(self,salary):\n",
    "        if salary >=20000:\n",
    "            self.__salary = salary\n",
    "        else:\n",
    "            self.__salary = 20000\n",
    "            \n",
    "    def __init__(self, name, salary=20000):\n",
    "        self.__name = name\n",
    "        Employee.__checkSalary(self,salary)\n",
    "    @property   # 讀\n",
    "    def salary(self): \n",
    "        return self.__salary\n",
    "    @salary.setter   # 寫\n",
    "    def salary(self, v):        \n",
    "           Employee.__checkSalary(self,v)\n",
    "    @salary.deleter  # 刪除\n",
    "    def salary(self): \n",
    "        del self.__salary\n",
    "\n",
    "emp1 = Employee(\"Sean\", 50000)\n",
    "emp2 = Employee(\"David\")\n",
    "print('======加薪前=====')\n",
    "print('員工一薪水:', emp1.salary)\n",
    "print('員工二薪水:', emp2.salary)\n",
    "\n",
    "emp1.salary = 55000\n",
    "emp2.salary = 17000\n",
    "print('======加薪後=====')\n",
    "print('員工一薪水:', emp1.salary)\n",
    "print('員工二薪水:', emp2.salary)\n",
    "\n",
    "\n"
   ]
  },
  {
   "cell_type": "code",
   "execution_count": 99,
   "id": "0f9ef992",
   "metadata": {},
   "outputs": [
    {
     "name": "stdout",
     "output_type": "stream",
     "text": [
      "1\n",
      "2\n",
      "2\n",
      "0\n",
      "1\n"
     ]
    }
   ],
   "source": [
    "class pri:\n",
    "    __count = 0\n",
    "    def count(self):\n",
    "        self.__count += 1\n",
    "        print(self.__count)\n",
    "    def printInfo(self):    \n",
    "        print(self.__count)\n",
    "        print(pri.__count)\n",
    "c1 = pri()\n",
    "c1.count()\n",
    "c1.count()\n",
    "c1.printInfo()\n",
    "c2 = pri()\n",
    "c2.count()"
   ]
  },
  {
   "cell_type": "markdown",
   "id": "659cba3a",
   "metadata": {},
   "source": [
    "## 類別的繼承\n",
    "+ 繼承語法  \n",
    "class 子類別(父類別)：\n",
    "  + 父類別類名寫在括號裡\n",
    "  + 子類別繼承父類別的成員\n",
    "    + 子類別找不到定義的成員，會自動尋找父類別內的定義。\n",
    "    + 類別屬性、類別及實體方法、函數會被繼承下來\n",
    "    + 實體屬性在__init__()中加入，不一定會被新增\n",
    "  + 父類別的__init__( )初始化方法不會被自動使用\n",
    "  + 需要在子類別的初始化方法中指定使用才會執行\n",
    "     + super(子類別, self).__init__(…) 或\n",
    "     + super().__init__(…) \n",
    "     + 不呼叫父類別初始化方法時，不會新增父類別實體屬性   "
   ]
  },
  {
   "cell_type": "code",
   "execution_count": 111,
   "id": "4b06703e",
   "metadata": {},
   "outputs": [
    {
     "name": "stdout",
     "output_type": "stream",
     "text": [
      "Animal!\n",
      "kitty\n",
      "10\n",
      "1\n",
      "====================\n",
      "Animal!\n",
      "BoBo\n",
      "8\n",
      "5\n",
      "2\n"
     ]
    }
   ],
   "source": [
    "class Animal:\n",
    "    __count = 0\n",
    "    def __init__(self,name,age):\n",
    "        print(\"Animal!\")\n",
    "        Animal.__count+=1\n",
    "        self.__name = name\n",
    "        self.__age = age\n",
    "    def getName(self):    \n",
    "        return self.__name\n",
    "    def getAge(self): \n",
    "        return self.__age\n",
    "    def getCount():\n",
    "        return Animal.__count\n",
    "\n",
    "# 會自動呼叫 父類別的__init__\n",
    "class Cat(Animal):\n",
    "      pass\n",
    "\n",
    "# 不會自動呼叫 父類別的__init__\n",
    "class Dog(Animal):\n",
    "    def __init__(self,name,age,weight):\n",
    "        super().__init__(name,age) #呼叫父類別的__init__\n",
    "        self.__weight = weight\n",
    "    def getWeight(self):\n",
    "        return self.__weight\n",
    "    \n",
    "cat1 = Cat(\"kitty\",10)\n",
    "print(cat1.getName())\n",
    "print(cat1.getAge())\n",
    "print(Cat.getCount())\n",
    "print(\"====================\")\n",
    "dog1 = Dog(\"BoBo\",8,5)\n",
    "print(dog1.getName())\n",
    "print(dog1.getAge())\n",
    "print(dog1.getWeight())\n",
    "print(Dog.getCount())\n",
    "# a1 = Animal(\"bobo\",5)    \n",
    "# print(a1.getName(),Animal.getCount())"
   ]
  },
  {
   "cell_type": "markdown",
   "id": "34c335c6",
   "metadata": {},
   "source": [
    "## 方法覆寫"
   ]
  },
  {
   "cell_type": "code",
   "execution_count": 117,
   "id": "7ef04963",
   "metadata": {},
   "outputs": [
    {
     "name": "stdout",
     "output_type": "stream",
     "text": [
      "a\n"
     ]
    }
   ],
   "source": [
    "class Parent:\n",
    "    def myMethod(self):\n",
    "        print('a')\n",
    "class Child(Parent): \n",
    "    def myMethod(self):# 複寫(Override)父類別的方法\n",
    "        print('b')\n",
    "        super().myMethod() #呼叫父類別的方法        \n",
    "c = Child()       \n",
    "c.myMethod()"
   ]
  }
 ],
 "metadata": {
  "kernelspec": {
   "display_name": "Python 3 (ipykernel)",
   "language": "python",
   "name": "python3"
  },
  "language_info": {
   "codemirror_mode": {
    "name": "ipython",
    "version": 3
   },
   "file_extension": ".py",
   "mimetype": "text/x-python",
   "name": "python",
   "nbconvert_exporter": "python",
   "pygments_lexer": "ipython3",
   "version": "3.8.11"
  }
 },
 "nbformat": 4,
 "nbformat_minor": 5
}
