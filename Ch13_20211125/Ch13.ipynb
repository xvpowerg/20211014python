{
 "cells": [
  {
   "cell_type": "markdown",
   "id": "784d9bf6",
   "metadata": {},
   "source": [
    "## 回家作業：檔案存取"
   ]
  },
  {
   "cell_type": "code",
   "execution_count": 10,
   "id": "1e00ff52",
   "metadata": {},
   "outputs": [
    {
     "name": "stdout",
     "output_type": "stream",
     "text": [
      "農產推廣--農產推廣 辦理澎湖縣各界慶祝105年農民節大會活動經費 澎湖縣農會 \n",
      "\n",
      "社區發展--社區發展 第1次社區成長教室 澎湖縣西嶼鄉外垵社區發展協會 \n",
      "\n",
      "社區發展--社區發展 105年度垃圾分類暨資源回收宣導 澎湖縣西嶼鄉大池社區發展協會 \n",
      "\n",
      "社區發展--社區發展 105年年關交通安全宣導活動暨鄰長聯誼餐敘 澎湖縣西嶼鄉橫礁社區發展協會 \n",
      "\n",
      "社區發展--社區發展 年節防詐騙及安全宣導計畫 澎湖縣西嶼鄉二崁社區發展協會 \n",
      "\n",
      "社區發展--社區發展 年關慢性病防治宣導暨社區志工及老人聯誼餐敘 澎湖縣西嶼鄉橫礁社區發展協會 \n",
      "\n",
      "社區發展--社區發展 105年防詐騙住宅防竊宣導活動 澎湖縣西嶼鄉赤馬社區發展協會 \n",
      "\n",
      "社區發展--社區發展 105年垃圾分類暨資源回收宣導 澎湖縣西嶼鄉小門社區發展協會 \n",
      "\n",
      "社區發展--社區發展 內垵擊鼓表演暨村鄰長聯誼活動 澎湖縣西嶼鄉內垵社區發展協會 \n",
      "\n",
      "社區發展--社區發展 歡慶元宵聯歡晚會 澎湖縣西嶼鄉小門社區發展協會 \n",
      "\n",
      "社區發展--社區發展 第1次社區成長教室 澎湖縣西嶼鄉大池社區發展協會 \n",
      "\n",
      "社區發展--社區發展 第1次社區成長教室 澎湖縣西嶼鄉赤馬社區發展協會 \n",
      "\n",
      "社區發展--社區發展 105年池府王爺平安繞境活動 澎湖縣西嶼鄉內垵社區發展協會 \n",
      "\n",
      "社區發展--社區發展 105年平安燒境祈福活動 澎湖縣西嶼鄉赤馬社區發展協會 \n",
      "\n",
      "社區發展--社區發展 105年老人關懷據點-點心品嚐活動 澎湖縣西嶼鄉內垵社區發展協會 \n",
      "\n",
      "社區發展--社區發展 2016丙申年金猴獻瑞慶元宵民俗活動 澎湖縣西嶼鄉外垵社區發展協會 \n",
      "\n",
      "社區發展--社區發展 105年歡慶元宵猜燈謎晚會活動 澎湖縣西嶼鄉內垵社區發展協會 \n",
      "\n",
      "社區發展--社區發展 105年度聯合社區計畫 澎湖縣西嶼鄉竹灣社區發展協會 \n",
      "\n",
      "社區發展--社區發展 召開第六屆第一次會員大會暨春節聯誼活動費 澎湖視障協進會 \n",
      "\n",
      "社區發展--社區發展 第1次社區成長教室 澎湖縣西嶼鄉橫礁社區發展協會 \n",
      "\n",
      "社區發展--社區發展 第1次社區成長教室 澎湖縣西嶼鄉竹灣社區發展協會 \n",
      "\n",
      "社區發展--社區發展 福德宮鎮符遶境祈福活動 澎湖縣西嶼鄉池西社區發展協會 \n",
      "\n",
      "社區發展--社區發展 晨泳協會辦理晨泳安全講習活動 澎湖縣西嶼晨泳協會 \n",
      "\n",
      "社區發展--社區發展 辦理105年戒煙宣導暨歌唱聯誼活動 澎湖縣內塹土風舞協會 \n",
      "\n",
      "社區發展--社區發展 第1次社區成長教室 澎湖縣西嶼鄉內垵社區發展協會 \n",
      "\n",
      "社區發展--社區發展 辦理105年度社區暨大池國小聯合運動會 澎湖縣西嶼鄉大池社區發展協會 \n",
      "\n",
      "社區發展--社區發展 補助辦理防治登革熱宣導活動 澎湖縣西嶼鄉長青協進會 \n",
      "\n",
      "社區發展--社區發展 補助辦理外垵海洋隊壘球隊研習 澎湖縣西嶼鄉外垵社區發展協會 \n",
      "\n",
      "社區發展--社區發展 第2次社區成長教室 澎湖縣西嶼鄉外垵社區發展協會 \n",
      "\n",
      "社區發展--社區發展 第2次社區成長教室 澎湖縣西嶼鄉橫礁社區發展協會 \n",
      "\n",
      "社區發展--社區發展 第2次社區成長教室 澎湖縣西嶼鄉竹灣社區發展協會 \n",
      "\n",
      "社區發展--社區發展 第3次社區成長教室 澎湖縣西嶼鄉橫礁社區發展協會 \n",
      "\n",
      "社區發展--社區發展 辦理國防部藝宣大隊表演 澎湖縣西嶼鄉外垵社區發展協會 \n",
      "\n",
      "社區發展--社區發展 第1次社區成長教室 澎湖縣西嶼鄉赤馬社區發展協會 \n",
      "\n",
      "社區發展--社區發展 105年社區暨合橫、竹灣國小聯合親子運動會 澎湖縣西嶼鄉橫礁社區發展協會 \n",
      "\n",
      "社區發展--社區發展 105年社區暨池東國小聯合運動大會 澎湖縣西嶼鄉二崁社區發展協會 \n",
      "\n",
      "社區發展--社區發展 105年度拖螺絲趣味競賽 澎湖縣西嶼鄉外垵社區發展協會 \n",
      "\n",
      "社區發展--社區發展 補助辦理節能減碳地方綠能巡禮 澎湖縣西嶼鄉婦女會 \n",
      "\n",
      "社區發展--社區發展 辦理105年度聯合社區計畫 澎湖縣西嶼鄉竹灣社區發展協會 \n",
      "\n",
      "社區發展--社區發展 補助辦理105年土風舞研習活動 澎湖縣西嶼鄉土風舞協會 \n",
      "\n",
      "社區發展--社區發展 第4次社區成長教室 澎湖縣西嶼鄉橫礁社區發展協會 \n",
      "\n",
      "社區發展--社區發展 補助辦理105年端午粽飄香活動 澎湖縣內塹土風舞協會 \n",
      "\n",
      "社區發展--社區發展 辦理內垵正安宮祈安遶境活動 澎湖縣西嶼鄉橫礁社區發展協會 \n",
      "\n",
      "社區發展--社區發展 支補助竹灣社區辦理社區成長教室第三次 澎湖縣西嶼鄉竹灣社區發展協會 \n",
      "\n",
      "社區發展--社區發展 補助合界長青社區活動中心增設或改善無障礙設施費 澎湖縣西嶼鄉合界社區發展協會 \n",
      "\n",
      "社區發展--社區發展 第1次社區成長教室 澎湖縣西嶼鄉二崁社區發展協會 \n",
      "\n",
      "社區發展--社區發展 補助慈光慈善會辦理慈光之心幸福園遊會系列活動 澎湖縣慈光慈善會 \n",
      "\n",
      "社區發展--社區發展 第2、3次社區成長教室 澎湖縣西嶼鄉大池社區發展協會 \n",
      "\n",
      "社區發展--社區發展 第3次社區成長教室 澎湖縣西嶼鄉赤馬社區發展協會 \n",
      "\n",
      "社區發展--社區發展 竹灣社區守望相助隊協勤夜點費 澎湖縣西嶼鄉大池社區發展協會 \n",
      "\n",
      "社區發展--社區發展 補助惠民啟智中心辦理「愛的接力-公益路跑活動」 澎湖縣私立財團法人天主教澎湖教區附設惠民啟智中心 \n",
      "\n",
      "社區發展--社區發展 第5、6次社區成長教室 澎湖縣西嶼鄉橫礁社區發展協會 \n",
      "\n",
      "社區發展--社區發展 辦理合界粽葉飄香慶端午 澎湖縣西嶼鄉合界社區發展協會 \n",
      "\n",
      "社區發展--社區發展 補助105年上半年社區成果維護費 澎湖縣西嶼鄉赤馬社區發展協會 \n",
      "\n",
      "社區發展--社區發展 補助105年上半年社區成果維護費 澎湖縣西嶼鄉大池社區發展協會 \n",
      "\n",
      "社區發展--社區發展 補助105年上半年社區成果維護費 澎湖縣西嶼鄉竹灣社區發展協會 \n",
      "\n",
      "社區發展--社區發展 補助105年上半年社區成果維護費 澎湖縣西嶼鄉外垵社區發展協會 \n",
      "\n",
      "社區發展--社區發展 補助105年上半年社區成果維護費 澎湖縣西嶼鄉小門社區發展協會 \n",
      "\n",
      "社區發展--社區發展 補助105年上半年社區成果維護費 澎湖縣西嶼鄉橫礁社區發展協會 \n",
      "\n",
      "社區發展--社區發展 第4次社區成長教室 澎湖縣西嶼鄉竹灣社區發展協會 \n",
      "\n",
      "社區發展--社區發展 辦理105年度技藝製作教學活動 澎湖縣西嶼鄉婦女關懷協會 \n",
      "\n",
      "社區發展--社區發展 辦理105年度槌球趣味競賽 澎湖縣西嶼鄉外垵社區發展協會 \n",
      "\n",
      "社區發展--社區發展 補助105年上半年社區成果維護費 澎湖縣西嶼鄉內垵社區發展協會 \n",
      "\n",
      "社區發展--社區發展 補助105年上半年社區成果維護費 澎湖縣西嶼鄉池西社區發展協會 \n",
      "\n",
      "社區發展--社區發展 補助辦理105年投籃趣味競賽活動 澎湖縣西嶼鄉體育會 \n",
      "\n",
      "社區發展--社區發展 第4次社區成長教室 澎湖縣西嶼鄉小門社區發展協會 \n",
      "\n",
      "社區發展--社區發展 第4次社區成長教室 澎湖縣西嶼鄉赤馬社區發展協會 \n",
      "\n",
      "社區發展--社區發展 第2次社區成長教室 澎湖縣西嶼鄉小門社區發展協會 \n",
      "\n",
      "社區發展--社區發展 第7次社區成長教室 澎湖縣西嶼鄉橫礁社區發展協會 \n",
      "\n",
      "社區發展--社區發展 第8次社區成長教室 澎湖縣西嶼鄉橫礁社區發展協會 \n",
      "\n",
      "社區發展--社區發展 補助辦理海濱遊憩安全宣導活動 西嶼晨泳協會 \n",
      "\n",
      "社區發展--社區發展 補助辦理105年度活動中心冷氣購置計畫 澎湖縣西嶼鄉外垵社區發展協會 \n",
      "\n",
      "社區發展--社區發展 第5、6次社區成長教室 澎湖縣西嶼鄉竹灣社區發展協會 \n",
      "\n",
      "社區發展--社區發展 補助105年上半年社區成果維護費 澎湖縣西嶼鄉二崁社區發展協會 \n",
      "\n",
      "社區發展--社區發展 辦理105年外垵社區籃球場設置看臺白鐵棚工程計畫 澎湖縣西嶼鄉外垵社區發展協會 \n",
      "\n",
      "社區發展--社區發展 第9次社區成長教室 澎湖縣西嶼鄉橫礁社區發展協會 \n",
      "\n",
      "社區發展--社區發展 第2次社區成長教室 澎湖縣西嶼鄉內垵社區發展協會 \n",
      "\n",
      "社區發展--社區發展 補助社區發展協會參加活力菊島再造社區拔河暨趣味競賽活動 澎湖縣西嶼鄉外垵社區發展協會 \n",
      "\n",
      "社區發展--社區發展 補助社區發展協會參加活力菊島再造社區拔河暨趣味競賽活動 澎湖縣西嶼鄉池東社區發展協會 \n",
      "\n",
      "社區發展--社區發展 補助社區發展協會參加活力菊島再造社區拔河暨趣味競賽活動 澎湖縣西嶼鄉大池社區發展協會 \n",
      "\n",
      "社區發展--社區發展 補助社區發展協會參加活力菊島再造社區拔河暨趣味競賽活動 澎湖縣西嶼鄉竹灣社區發展協會 \n",
      "\n",
      "社區發展--社區發展 補助社區發展協會參加活力菊島再造社區拔河暨趣味競賽活動 澎湖縣西嶼鄉小門社區發展協會 \n",
      "\n",
      "社區發展--社區發展 補助社區發展協會辦理104年度推行社區成長教室成果獎金 澎湖縣西嶼鄉橫礁社區發展協會 \n",
      "\n",
      "社區發展--社區發展 補助社區發展協會辦理104年度推行社區成長教室成果獎金 澎湖縣西嶼鄉竹灣社區發展協會 \n",
      "\n",
      "社區發展--社區發展 補助辦理食品安全及活化教案專題演講暨聯誼活動 西嶼教育會 \n",
      "\n",
      "社區發展--社區發展 辦理105年度耆老長青健康系列活動 澎湖縣西嶼鄉長青協進會 \n",
      "\n",
      "社區發展--社區發展 第10次社區成長教室 澎湖縣西嶼鄉橫礁社區發展協會 \n",
      "\n",
      "社區發展--社區發展 第11次社區成長教室 澎湖縣西嶼鄉橫礁社區發展協會 \n",
      "\n",
      "社區發展--社區發展 補助辦理105年度民俗技藝表演活動 澎湖縣西嶼鄉竹灣社區發展協會 \n",
      "\n",
      "社區發展--社區發展 第7次社區成長教室 澎湖縣西嶼鄉竹灣社區發展協會 \n",
      "\n",
      "社區發展--社區發展 補助西嶼鄉青溪協會辦理運動會暨趣味競賽 澎湖縣西嶼鄉青溪協會 \n",
      "\n",
      "社區發展--社區發展 第12次社區成長教室 澎湖縣西嶼鄉橫礁社區發展協會 \n",
      "\n",
      "社區發展--社區發展 補助辦理105年度登革熱防治宣導 澎湖縣西嶼鄉小門社區發展協會 \n",
      "\n",
      "社區發展--社區發展 第3次社區成長教室 澎湖縣西嶼鄉外垵社區發展協會 \n",
      "\n",
      "社區發展--社區發展 第5次社區成長教室 澎湖縣西嶼鄉赤馬社區發展協會 \n",
      "\n",
      "社區發展--社區發展 補助辦理澎湖縣105年度社區發展工作人員示範觀摩活動 澎湖縣西嶼鄉竹灣社區發展協會 \n",
      "\n",
      "社區發展--社區發展 補助辦理105年度竹灣社區活動中心增購通風照明器材費 澎湖縣西嶼鄉竹灣社區發展協會 \n",
      "\n",
      "社區發展--社區發展 補助辦理105年技藝製作教學活動-拼布技藝研習 澎湖縣西嶼鄉婦女關懷協會 \n",
      "\n",
      "社區發展--社區發展 補助辦理105年度垃圾分類暨資源回收宣導 澎湖縣西嶼鄉合界社區發展協會 \n",
      "\n",
      "社區發展--社區發展 第8、9、10次社區成長教室 澎湖縣西嶼鄉竹灣社區發展協會 \n",
      "\n",
      "社區發展--社區發展 補助辦理竹灣守望相助巡守隊職員夜間值班防寒夾克 澎湖縣西嶼鄉竹灣社區發展協會 \n",
      "\n",
      "社區發展--社區發展 第4次社區成長教室 澎湖縣西嶼鄉大池社區發展協會 \n",
      "\n",
      "社區發展--社區發展 補助辦理國民年金宣導暨預防詐騙宣導活動 澎湖縣西嶼鄉內垵社區發展協會 \n",
      "\n",
      "社區發展--社區發展 補助辦理活動中心充實內部設備計畫 澎湖縣西嶼鄉小門社區發展協會 \n",
      "\n",
      "社區發展--社區發展 第1次社區成長教室 澎湖縣西嶼鄉池西社區發展協會 \n",
      "\n",
      "社區發展--社區發展 第1次社區成長教室 澎湖縣西嶼鄉池東社區發展協會 \n",
      "\n",
      "社區發展--社區發展 105年度清淨家園活動 澎湖縣西嶼鄉大池社區發展協會 \n",
      "\n",
      "社區發展--社區發展 補助辦理莫蘭蒂風災活動中心復建工程 澎湖縣西嶼鄉二崁社區發展協會 \n",
      "\n",
      "社區發展--社區發展 第1、2次社區成長教室 澎湖縣西嶼鄉合界社區發展協會 \n",
      "\n",
      "社區發展--社區發展 補助辦理梅姬風災活動中心復建工程 澎湖縣西嶼鄉合界社區發展協會 \n",
      "\n",
      "社區發展--社區發展 第13次社區成長教室 澎湖縣西嶼鄉橫礁社區發展協會 \n",
      "\n",
      "社區發展--社區發展 辦理環境清潔教育宣導 澎湖縣西嶼鄉內垵社區發展協會 \n",
      "\n",
      "社區發展--社區發展 第6次社區成長教室 澎湖縣西嶼鄉赤馬社區發展協會 \n",
      "\n",
      "社區發展--社區發展 第3次社區成長教室 澎湖縣西嶼鄉小門社區發展協會 \n",
      "\n",
      "社區發展--社區發展 補助105年下半年社區成果維護費 澎湖縣西嶼鄉池西社區發展協會 \n",
      "\n",
      "社區發展--社區發展 補助105年下半年社區成果維護費 澎湖縣西嶼鄉大池社區發展協會 \n",
      "\n",
      "社區發展--社區發展 補助105年下半年社區成果維護費 澎湖縣西嶼鄉小門社區發展協會 \n",
      "\n",
      "社區發展--社區發展 補助105年社區成果維護費 澎湖縣西嶼鄉合界社區發展協會 \n",
      "\n",
      "社區發展--社區發展 補助105年下半年社區成果維護費 澎湖縣西嶼鄉二崁社區發展協會 \n",
      "\n",
      "社區發展--社區發展 補助105年下半年社區成果維護費 澎湖縣西嶼鄉外垵社區發展協會 \n",
      "\n",
      "社區發展--社區發展 補助105年下半年社區成果維護費 澎湖縣西嶼鄉內垵社區發展協會 \n",
      "\n",
      "社區發展--社區發展 補助105年下半年社區成果維護費 澎湖縣西嶼鄉赤馬社區發展協會 \n",
      "\n",
      "社區發展--社區發展 補助105年下半年社區成果維護費 澎湖縣西嶼鄉竹灣社區發展協會 \n",
      "\n",
      "社區發展--社區發展 補助105年下半年社區成果維護費 澎湖縣西嶼鄉橫礁社區發展協會 \n",
      "\n",
      "社區發展--社區發展 補辦理105年莫蘭蒂風災修復工程 澎湖縣西嶼鄉竹灣社區發展協會 \n",
      "\n",
      "合計   \n",
      "\n"
     ]
    }
   ],
   "source": [
    "import  json, ssl, urllib.request\n",
    "url = 'http://opendataap2.penghu.gov.tw/resource/files/2021-03-31/42c8286112bff4bc191ed998df3abaf1.json'\n",
    "context = ssl._create_unverified_context()\n",
    "with urllib.request.urlopen(url,context=context) as jsondata:    \n",
    "     data = json.loads(jsondata.read())\n",
    "titleList=[*data[0].keys()][0:3] ##取得前3各columns\n",
    "#print(titleList)\n",
    "for  jsonData in data:    \n",
    "  for title in titleList:\n",
    "      print(jsonData[title],end=' ')\n",
    "  #print(jsonData)  \n",
    "  print(\"\\n\")"
   ]
  },
  {
   "cell_type": "markdown",
   "id": "35891871",
   "metadata": {},
   "source": [
    "## 陣列指定位置-給予一個整數\n",
    "+ 關於指定位置  [row,column]\n",
    "+ 假設給予一個整數為 N\n",
    " + 如果是給固定的 N，那就代表 row 或 column 等於 N。\n",
    " + 如果是 N：，那就代表 row 或 column 大於等於 N 的區域。\n",
    " + 如果是：N，那就代表 row 或 column 小於 N 的區域。 \n",
    " + 如果是：，那就代表 row 或 column 是任意欄位。"
   ]
  },
  {
   "cell_type": "code",
   "execution_count": 11,
   "id": "d8050d52",
   "metadata": {},
   "outputs": [
    {
     "name": "stdout",
     "output_type": "stream",
     "text": [
      "---1--\n",
      "[[1 2 3]\n",
      " [3 6 9]\n",
      " [2 4 6]]\n",
      "---2--\n",
      "[1 2 3]\n",
      "---3--\n",
      "9\n"
     ]
    }
   ],
   "source": [
    "import numpy as np\n",
    "a = np.array([[1,2,3],[3,6,9],[2,4,6]])\n",
    "print(\"---1--\")\n",
    "print(a)\n",
    "print(\"---2--\")\n",
    "print(a[0])\n",
    "print(\"---3--\")\n",
    "print(a[1,2])"
   ]
  },
  {
   "cell_type": "code",
   "execution_count": 15,
   "id": "49f07d40",
   "metadata": {},
   "outputs": [
    {
     "name": "stdout",
     "output_type": "stream",
     "text": [
      "[6 9]\n",
      "---------------\n",
      "[2 6 4]\n",
      "---------------\n",
      "[[1 2 3]\n",
      " [3 6 7]\n",
      " [2 4 6]]\n",
      "---------------\n",
      "[[0 2 3]\n",
      " [9 6 7]\n",
      " [8 4 6]]\n",
      "---------------\n"
     ]
    }
   ],
   "source": [
    "import numpy as np\n",
    "a = np.array([[1, 2, 3], \n",
    "              [3, 6, 9],\n",
    "              [2, 4, 6]])\n",
    "print(a[1, 1:3])\n",
    "print(\"---------------\")\n",
    "print(a[:,1])\n",
    "print(\"---------------\")\n",
    "a[1, 2] = 7\n",
    "print(a)\n",
    "print(\"---------------\")\n",
    "a[:, 0] = [0, 9, 8]\n",
    "print(a)\n",
    "print(\"---------------\")"
   ]
  },
  {
   "cell_type": "code",
   "execution_count": 16,
   "id": "a00989f6",
   "metadata": {},
   "outputs": [
    {
     "name": "stdout",
     "output_type": "stream",
     "text": [
      "---1--\n",
      "[3 4]\n",
      "---2--\n",
      "[[44 45]\n",
      " [54 55]]\n",
      "---3--\n",
      "[[ 0  1  2]\n",
      " [10 11 12]\n",
      " [20 21 22]]\n",
      "---4--\n",
      "[ 2 12 22 32 42 52]\n"
     ]
    }
   ],
   "source": [
    "import numpy as np\n",
    "a = np.array([[0,1,2,3,4,5],\n",
    "       [10,11,12,13,14,15],\n",
    "       [20,21,22,23,24,25],\n",
    "       [30,31,32,33,34,35],\n",
    "       [40,41,42,43,44,45],\n",
    "       [50,51,52,53,54,55],\n",
    "])\n",
    "print(\"---1--\")\n",
    "print(a[0,3:5])\n",
    "print(\"---2--\")\n",
    "print(a[4:,4:])\n",
    "print(\"---3--\")\n",
    "print(a[:3,:3])\n",
    "print(\"---4--\")\n",
    "print(a[:,2])\n"
   ]
  },
  {
   "cell_type": "markdown",
   "id": "fa969ae8",
   "metadata": {},
   "source": [
    "## 陣列指定位置 - tuple 或 list\n",
    "+ 如果是 tuple 方式，代表位置第一個 tuple 的每一個值為 row 的位置，第二個 tuple 的每一個值為 column 的位置。\n",
    "+ 如果是 list 方式，代表 row 或 column 要選取 index 為 list 上的數值的資料。"
   ]
  },
  {
   "cell_type": "code",
   "execution_count": 17,
   "id": "e977c178",
   "metadata": {},
   "outputs": [
    {
     "name": "stdout",
     "output_type": "stream",
     "text": [
      "---1--\n",
      "[ 1 12 23 34 45]\n",
      "---2--\n",
      "[[30 32 35]\n",
      " [40 42 45]\n",
      " [50 52 55]]\n"
     ]
    }
   ],
   "source": [
    "import numpy as np\n",
    "a = np.array([\n",
    "       [0,1, 2, 3,4,5],\n",
    "       [10,11,12,13,14,15],\n",
    "       [20,21,22,23,24,25],\n",
    "       [30,31,32,33,34,35],\n",
    "       [40,41,42,43,44,45],\n",
    "       [50,51,52,53,54,55],\n",
    "       ])\n",
    "print(\"---1--\")\n",
    "print(a[(0,1,2,3,4),(1,2,3,4,5)])\n",
    "print(\"---2--\")\n",
    "print(a[3:,[0, 2, 5]])\n"
   ]
  },
  {
   "cell_type": "markdown",
   "id": "2d1a6673",
   "metadata": {},
   "source": [
    "## 重設新陣列\n",
    "+ resize 這個動作會依據原本的陣列再設定指定大小的新陣列。 \n",
    "+ resize 動作的參數如下：\n",
    "+ numpy.resize(arr1，shape1)\n",
    "  + arr1：原本的陣列\n",
    "  + shape1：新規劃的大小\n",
    "+ 如果規劃的新陣列比較大，將會重新複製原有陣列的資料，填滿新的儲存格。\n",
    "+ resize 這個動作***建立新的陣列***，而 reshape 則是依據原有的重新規劃，仍會受到原有陣列影響。\n",
    "+ transpose()轉置"
   ]
  },
  {
   "cell_type": "markdown",
   "id": "d9d0680e",
   "metadata": {},
   "source": [
    "### 操作範例：reshape"
   ]
  },
  {
   "cell_type": "code",
   "execution_count": 23,
   "id": "ed464825",
   "metadata": {},
   "outputs": [
    {
     "name": "stdout",
     "output_type": "stream",
     "text": [
      "(2, 3)\n",
      "==================\n",
      "[[1 2]\n",
      " [3 4]\n",
      " [5 6]]\n",
      "==================\n",
      "(3, 2)\n",
      "=======a===========\n",
      "[[1 2 3]\n",
      " [4 5 6]]\n",
      "==================\n",
      "[[  1 100]\n",
      " [  3   4]\n",
      " [  5   6]]\n",
      "==================\n",
      "(3, 2)\n",
      "==================\n",
      "(2, 3)\n"
     ]
    }
   ],
   "source": [
    "import numpy as np\n",
    "a = np.array([[1,2,3],[4,5,6]])\n",
    "print(a.shape)\n",
    "print(\"==================\")\n",
    "b = a.reshape(3,2)\n",
    "print(b)\n",
    "print(\"==================\")\n",
    "print(b.shape)\n",
    "print(\"=======a===========\")\n",
    "print(a)\n",
    "a[0,1] = 100\n",
    "print(\"==================\")\n",
    "print(b) # 會改變\n",
    "print(\"==================\")\n",
    "print(b.shape)\n",
    "print(\"==================\")\n",
    "print(a.shape)"
   ]
  },
  {
   "cell_type": "markdown",
   "id": "128c477c",
   "metadata": {},
   "source": [
    "### resize"
   ]
  },
  {
   "cell_type": "code",
   "execution_count": 27,
   "id": "24ef89c8",
   "metadata": {},
   "outputs": [
    {
     "name": "stdout",
     "output_type": "stream",
     "text": [
      "[[1 2 3]\n",
      " [4 5 6]]\n",
      "(2, 3)\n",
      "==========================\n",
      "[[1 2]\n",
      " [3 4]\n",
      " [5 6]]\n",
      "(3, 2)\n",
      "==========================\n",
      "[[1 2]\n",
      " [3 4]\n",
      " [5 6]]\n",
      "(3, 2)\n",
      "(2, 3)\n",
      "[[  1 100   3   4   5   6   1 100   3   4]\n",
      " [  5   6   1 100   3   4   5   6   1 100]\n",
      " [  3   4   5   6   1 100   3   4   5   6]\n",
      " [  1 100   3   4   5   6   1 100   3   4]\n",
      " [  5   6   1 100   3   4   5   6   1 100]\n",
      " [  3   4   5   6   1 100   3   4   5   6]\n",
      " [  1 100   3   4   5   6   1 100   3   4]\n",
      " [  5   6   1 100   3   4   5   6   1 100]\n",
      " [  3   4   5   6   1 100   3   4   5   6]\n",
      " [  1 100   3   4   5   6   1 100   3   4]]\n"
     ]
    }
   ],
   "source": [
    "import numpy as np\n",
    "a = np.array([[1,2,3],[4,5,6]])\n",
    "print(a)\n",
    "print(a.shape)\n",
    "print(\"==========================\")\n",
    "b = np.resize(a,(3,2))#會複製一份資料來源\n",
    "print(b)\n",
    "print(b.shape)\n",
    "print(\"==========================\")\n",
    "a[0,1] = 100\n",
    "print(b)#不會改變\n",
    "print(b.shape)\n",
    "print(a.shape)\n",
    "b = np.resize(a,(10,10))#resize 大於原本size\n",
    "print(b)"
   ]
  },
  {
   "cell_type": "markdown",
   "id": "d7337d3d",
   "metadata": {},
   "source": [
    "### transpose"
   ]
  },
  {
   "cell_type": "code",
   "execution_count": 29,
   "id": "780a39b2",
   "metadata": {},
   "outputs": [
    {
     "name": "stdout",
     "output_type": "stream",
     "text": [
      "================\n",
      "[[0 1 2 3 4]\n",
      " [5 6 7 8 9]]\n",
      "================\n",
      "[[0 5]\n",
      " [1 6]\n",
      " [2 7]\n",
      " [3 8]\n",
      " [4 9]]\n",
      "================\n",
      "[[0 1 2 3 4]\n",
      " [5 6 7 8 9]]\n",
      "================\n",
      "[[0 5]\n",
      " [1 6]\n",
      " [2 7]\n",
      " [3 8]\n",
      " [4 9]]\n",
      "======TT==========\n",
      "[[0 1 2 3 4]\n",
      " [5 6 7 8 9]]\n",
      "================\n",
      "================\n",
      "[[ 0  1  2  3  4]\n",
      " [10 10 10 10 10]]\n",
      "================\n",
      "[[ 0  1  2  3  4]\n",
      " [10 10 10 10 10]]\n"
     ]
    }
   ],
   "source": [
    "import numpy as np\n",
    "newArray = np.arange(10).reshape(2,5)\n",
    "print(\"================\")\n",
    "print(newArray)\n",
    "print(\"================\")\n",
    "print(newArray.transpose())\n",
    "print(\"================\")\n",
    "print(newArray) ## 原始陣列部會改變\n",
    "print(\"================\")\n",
    "tArray = newArray.T\n",
    "print(tArray)\n",
    "print(\"======TT==========\")\n",
    "tArray = tArray.T\n",
    "print(tArray)\n",
    "print(\"================\")\n",
    "tArray[1] = 10\n",
    "print(\"================\")\n",
    "print(tArray)\n",
    "print(\"================\")\n",
    "print(newArray)#影響原始資料"
   ]
  },
  {
   "cell_type": "markdown",
   "id": "6858193b",
   "metadata": {},
   "source": [
    "## 數值計算\n",
    "+ 數值計算函數內放入參與計算的兩個陣列。\n",
    "+ 進行計算的陣列第一維數量必須是相同。\n",
    "+ add( ) 方法代表「加」，也可以使用「+」。\n",
    "+ subtract( ) 方法代表「減」，也可以使用「-」。\n",
    "+ multiply( )方法代表「乘」，也可以使用「*」。\n",
    "+ divide( ) 方法代表「除」，也可以使用「/」。"
   ]
  },
  {
   "cell_type": "code",
   "execution_count": 33,
   "id": "622a788b",
   "metadata": {},
   "outputs": [
    {
     "name": "stdout",
     "output_type": "stream",
     "text": [
      "a: (3, 3)\n",
      "b: (1, 3)\n",
      "[[11 12 13]\n",
      " [14 15 16]\n",
      " [17 18 19]]\n",
      "[[-9 -8 -7]\n",
      " [-6 -5 -4]\n",
      " [-3 -2 -1]]\n"
     ]
    }
   ],
   "source": [
    "import numpy as np\n",
    "a = np.array([[1,2,3],[4,5,6],[7,8,9]])\n",
    "b = np.array([[10,10,10]])\n",
    "c = np.add(a,b)\n",
    "print(c)\n",
    "d = np.subtract(a,b)\n",
    "print(d)"
   ]
  },
  {
   "cell_type": "code",
   "execution_count": 34,
   "id": "0521d58d",
   "metadata": {},
   "outputs": [
    {
     "name": "stdout",
     "output_type": "stream",
     "text": [
      "[[11 12 13]\n",
      " [14 15 16]\n",
      " [17 18 19]]\n",
      "\n",
      "[[-9 -8 -7]\n",
      " [-6 -5 -4]\n",
      " [-3 -2 -1]]\n",
      "\n"
     ]
    }
   ],
   "source": [
    "import numpy as np\n",
    "a = np.array([[1,2,3],[4,5,6],[7,8,9]])#(3,3)\n",
    "b = np.array([10,10,10])#(3)\n",
    "c=a+b\n",
    "print(c)\n",
    "print( )\n",
    "d= a-b\n",
    "print(d)\n",
    "print( )"
   ]
  },
  {
   "cell_type": "markdown",
   "id": "d33393e5",
   "metadata": {},
   "source": [
    "## 數值計算\n",
    "+ np.power(a,n) 代表 a 陣列的 n 次方。\n",
    "+ a 陣列的 n 次方也可以使用 a**n 方式表示。\n",
    "+ N 可以是陣列，但兩陣列第一維數量必須是相同。\n",
    "+ np. Reciprocal( ) 代表倒數的計算，倒數是指a*b=1，輸入 a 後求 b。 1/4的倒數是4"
   ]
  },
  {
   "cell_type": "code",
   "execution_count": 35,
   "id": "e1f15180",
   "metadata": {},
   "outputs": [
    {
     "name": "stdout",
     "output_type": "stream",
     "text": [
      "[4 5 6]\n",
      "[16 25 36]\n",
      "[  4  25 216]\n",
      "[  4  25 216]\n"
     ]
    }
   ],
   "source": [
    "import numpy as np\n",
    "a = np.array([4,5,6])\n",
    "print(a)\n",
    "b = np.power(a,2)\n",
    "print(b)\n",
    "c = np.array([1,2,3])\n",
    "d = np.power(a,c)\n",
    "print(d)\n",
    "h = a**c\n",
    "print(h)"
   ]
  },
  {
   "cell_type": "markdown",
   "id": "b8042224",
   "metadata": {},
   "source": [
    "### reciprocal求倒數"
   ]
  },
  {
   "cell_type": "code",
   "execution_count": 36,
   "id": "4ffff170",
   "metadata": {},
   "outputs": [
    {
     "name": "stdout",
     "output_type": "stream",
     "text": [
      "[  0.25   1.33   1.    -0.1  100.  ]\n",
      "\n",
      "[  4.          0.7518797   1.        -10.          0.01     ]\n",
      "\n"
     ]
    }
   ],
   "source": [
    "import numpy as np\n",
    "a = np.array([0.25, 1.33, 1, -0.1, 100])\n",
    "print(a)\n",
    "print( )\n",
    "b=np.reciprocal(a) # 求倒數\n",
    "print(b)\n",
    "print( )"
   ]
  },
  {
   "cell_type": "markdown",
   "id": "d4572736",
   "metadata": {},
   "source": [
    "## 除法計算與小數處理\n",
    "+ np.mod( ) 方法內需加入兩個資料，例如 a 與 b，代表 a除以 b 的餘數。\n",
    "+ np.remainder( ) 方法等同 np.mod( )。\n",
    "+ np.around( ) 方法代表您要將浮點數資料整數位取四捨五入到第幾個位置，小數位取最接近的偶數，這個方法內需要兩個參數：\n",
    "+ array：進行分析的陣列。\n",
    "+ decimals小數位數：\n",
    "  + 預設為 0。\n",
    "  + 如果為正數，代表小數位數有幾個位子。\n",
    "  + 如果為負數，代表小數點左邊的正整數將依序四捨五入進位。\n",
    "+ np.floor( ) 方法代表回傳不大於輸入參數的最大整數。\n",
    "+ np.ceil( ) 方法代表回傳大於輸入參數的最小整數。\n",
    "+ 對於恰好介於四舍五入後的十進製值之間的值，NumPy會四舍五入為最接近的偶數值。因此，將1.5和2.5舍入為2.0，將-0.5和0.5舍入為0.0 "
   ]
  },
  {
   "cell_type": "markdown",
   "id": "85449f90",
   "metadata": {},
   "source": [
    "### 餘數Mod"
   ]
  },
  {
   "cell_type": "code",
   "execution_count": 37,
   "id": "ba9c7683",
   "metadata": {},
   "outputs": [
    {
     "name": "stdout",
     "output_type": "stream",
     "text": [
      "[10 20 30]\n",
      "\n",
      "[1 0 2]\n",
      "\n",
      "[1 0 2]\n",
      "\n"
     ]
    }
   ],
   "source": [
    "import numpy as np\n",
    "a = np.array([10,20,30])\n",
    "b = np.array([3,5,7])\n",
    "print(a)\n",
    "print( )\n",
    "c=np.mod(a,b)\n",
    "print(c)\n",
    "print( )\n",
    "d=np.remainder(a,b)\n",
    "print(d)\n",
    "print( )"
   ]
  },
  {
   "cell_type": "markdown",
   "id": "d0cb9640",
   "metadata": {},
   "source": [
    "### around"
   ]
  },
  {
   "cell_type": "code",
   "execution_count": 43,
   "id": "7c662d87",
   "metadata": {},
   "outputs": [
    {
     "name": "stdout",
     "output_type": "stream",
     "text": [
      "[2. 2.]\n",
      "[2. 3.]\n",
      "[-0.  0.  1.]\n"
     ]
    }
   ],
   "source": [
    "import numpy as np\n",
    "print(np.around([1.5, 2.5], decimals=0))\n",
    "print(np.around([1.51, 2.51], decimals=0))\n",
    "print(np.around([-0.5, 0.5,0.567], decimals=0))"
   ]
  },
  {
   "cell_type": "code",
   "execution_count": 59,
   "id": "19eb961a",
   "metadata": {},
   "outputs": [
    {
     "name": "stdout",
     "output_type": "stream",
     "text": [
      "\n",
      "[  1.    5.    5.4 125.  165.    0.6  25.5]\n",
      "[  0.   0.  10. 120. 160.   0.  30.]\n",
      "[  0.   0.   0. 100. 200.   0.   0.]\n"
     ]
    }
   ],
   "source": [
    "import numpy as np\n",
    "a = np.array([1.0,5,5.45,125,165, 0.56, 25.532])\n",
    "#print(a)\n",
    "print()\n",
    "b=np.around(a)\n",
    "#print(b)\n",
    "print(np.around(a, decimals = 1) )\n",
    "print(np.around(a, decimals = -1))# 如果為負數，代表小數點左邊的正整數將依序四捨五入進位。\n",
    "print(np.around(a, decimals = -2))"
   ]
  },
  {
   "cell_type": "code",
   "execution_count": 62,
   "id": "0699017e",
   "metadata": {},
   "outputs": [
    {
     "name": "stdout",
     "output_type": "stream",
     "text": [
      "[-1.7  1.5 -0.2  0.6 10. ]\n",
      "\n",
      "[-2.  1. -1.  0. 10.]\n",
      "\n",
      "[-1.  2. -0.  1. 10.]\n",
      "\n"
     ]
    }
   ],
   "source": [
    "import numpy as np\n",
    "a = np.array([-1.7, 1.5, -0.2, 0.6, 10])\n",
    "print(a)\n",
    "print( )\n",
    "b=np.floor(a)\n",
    "print(b)\n",
    "print( )\n",
    "c=np.ceil(a)\n",
    "print(c)\n",
    "print( )"
   ]
  },
  {
   "cell_type": "markdown",
   "id": "9f86ce16",
   "metadata": {},
   "source": [
    "## 總和最大與最小\n",
    "+ np.sum( ) 代表某一個陣列內容的總和，也可以指定這個陣列的哪一軸 (axis) 內容總和。\n",
    "+ np.min( ) 代表某一個陣列內容的最小值，也可以指定這個陣列的哪一軸 (axis) 內容的最小值。\n",
    "+ np.max( ) 代表某一個陣列內容的最大值，也可以指定這個陣列的哪一軸 (axis) 內容的最大值。\n",
    "+ amin 與 min 是相同功能的方法。\n",
    "+ amax 與 max 是相同功能的方法。"
   ]
  },
  {
   "cell_type": "markdown",
   "id": "43f8429e",
   "metadata": {},
   "source": [
    "### 總和sum()"
   ]
  },
  {
   "cell_type": "code",
   "execution_count": 63,
   "id": "b11b7b95",
   "metadata": {},
   "outputs": [
    {
     "name": "stdout",
     "output_type": "stream",
     "text": [
      "[[ 0 30 45]\n",
      " [60 75 90]]\n",
      "---------------\n",
      "300\n",
      "---------------\n",
      "[ 60 105 135]\n",
      "---------------\n",
      "[ 75 225]\n",
      "---------------\n"
     ]
    }
   ],
   "source": [
    "import numpy as np\n",
    "a = np.array([[0, 30,45],\n",
    "              [60,75,90]])\n",
    "print(a)\n",
    "print(\"---------------\")\n",
    "b=np.sum(a)# 無選軸 每個元素相加\n",
    "print(b)\n",
    "print(\"---------------\")\n",
    "b=np.sum(a,axis=0) #拿row的陣列相加\n",
    "print(b)\n",
    "print(\"---------------\")\n",
    "b=np.sum(a,axis=1)#每個陣列的colum相加\n",
    "print(b)\n",
    "print(\"---------------\")"
   ]
  },
  {
   "cell_type": "markdown",
   "id": "13954043",
   "metadata": {},
   "source": [
    "### max() min()"
   ]
  },
  {
   "cell_type": "code",
   "execution_count": 64,
   "id": "bb68ed9d",
   "metadata": {},
   "outputs": [
    {
     "name": "stdout",
     "output_type": "stream",
     "text": [
      "[[ 0 30 45]\n",
      " [60 75 90]]\n",
      "---------------\n",
      "90\n",
      "---------------\n",
      "[60 75 90]\n",
      "---------------\n",
      "[45 90]\n",
      "---------------\n"
     ]
    }
   ],
   "source": [
    "import numpy as np\n",
    "a = np.array([[0, 30,45],\n",
    "              [60,75,90]])\n",
    "print(a)\n",
    "print(\"---------------\")\n",
    "b=np.max(a)\n",
    "print(b)\n",
    "print(\"---------------\")\n",
    "b=np.max(a,axis=0)#拿每個row的陣列找出最大值\n",
    "print(b)\n",
    "print(\"---------------\")\n",
    "b=np.max(a,axis=1)#拿每個colum內容比較找出最大值\n",
    "print(b)\n",
    "print(\"---------------\")"
   ]
  },
  {
   "cell_type": "markdown",
   "id": "ff9daac0",
   "metadata": {},
   "source": [
    "## 中位數與平均\n",
    "+ median( ) 方法可取出陣列或陣列中指定的軸之中位數。\n",
    "+ 把所有值高低排序後找出正中間的一個作爲中位數。如果資料數量為偶數，則中位數取最中間的兩個數值的平均數。\n",
    "+ 參數：\n",
    "  + array：陣列\n",
    "  + axis：軸\n",
    "+ mean( ) 方法可取出陣列或陣列中指定的軸之平均數。\n",
    "+ 平均值就是把陣列或指定軸的所有資料除以數量後的數值。\n",
    "+ 參數：\n",
    "    + array：陣列 \n",
    "    + axis：軸\n",
    "+ average( ) 方法與 mean( ) 方法相似，但可以加入權重進行計算。\n",
    "+ 計算公式為 ((資料*權重)相加)/(權重相加)\n",
    "+ 參數：\n",
    "  + array：陣列\n",
    "  + axis：軸\n",
    "  + weights：權重，若沒有則設定為 1\n",
    "  + returned：若設定為 true，代表返回計算結果跟權重相加總合兩筆資料，若沒有設定或設定  false 則只有計算結果 \n",
    "+ 沒有指定權重時與一般平均值相同。\n",
    "+ 加權平均值是由每個資料乘以權重以反映加上重要性因素後產生的平均值。\n",
    "+ average( ) 使用時若沒有指定軸，則陣列將被平坦化。\n",
    "+ 假設有個陣列資料為 [1,2,3,4]，相應的權重 [40,30,20,10]，加權平均數是這樣：\n",
    "    (1x40+2x30+3x20+4x10)/(40+30+20+10)\n",
    "  "
   ]
  },
  {
   "cell_type": "code",
   "execution_count": 65,
   "id": "f3eb1ee9",
   "metadata": {},
   "outputs": [
    {
     "name": "stdout",
     "output_type": "stream",
     "text": [
      "[[ 0 30 45]\n",
      " [60 75 90]]\n",
      "\n",
      "52.5\n",
      "\n",
      "[30.  52.5 67.5]\n",
      "\n",
      "[30. 75.]\n"
     ]
    }
   ],
   "source": [
    "import numpy as np\n",
    "a = np.array([[0, 30,45],[60,75,90]])\n",
    "print(a)\n",
    "print()\n",
    "b=np.median(a)# 6/2 = 3 取出 3與4編號的數字45與60 (45 + 60) /2\n",
    "print(b)\n",
    "print()\n",
    "b=np.median(a, axis = 0)\n",
    "print(b)\n",
    "print()\n",
    "b=np.median(a, axis = 1)\n",
    "print(b)"
   ]
  },
  {
   "cell_type": "markdown",
   "id": "6733d9fb",
   "metadata": {},
   "source": [
    "### 平均值"
   ]
  },
  {
   "cell_type": "code",
   "execution_count": 66,
   "id": "1df6ca0d",
   "metadata": {},
   "outputs": [
    {
     "name": "stdout",
     "output_type": "stream",
     "text": [
      "[[ 0 30 45]\n",
      " [60 75 90]]\n",
      "\n",
      "50.0\n",
      "\n",
      "[30.  52.5 67.5]\n",
      "\n",
      "[25. 75.]\n",
      "\n"
     ]
    }
   ],
   "source": [
    "import numpy as np\n",
    "a = np.array([[0, 30,45],[60,75,90]])\n",
    "print(a)\n",
    "print( )\n",
    "b=np.mean(a)#平均值\n",
    "print(b)\n",
    "print( )\n",
    "b=np.mean(a, axis = 0)\n",
    "print(b)\n",
    "print( )\n",
    "b=np.mean(a, axis = 1)\n",
    "print(b)\n",
    "print( )"
   ]
  },
  {
   "cell_type": "markdown",
   "id": "3797bc98",
   "metadata": {},
   "source": [
    "## average()"
   ]
  },
  {
   "cell_type": "code",
   "execution_count": 68,
   "id": "0499176c",
   "metadata": {},
   "outputs": [
    {
     "name": "stdout",
     "output_type": "stream",
     "text": [
      "2.5\n",
      "\n",
      "2.0\n",
      "\n",
      "(2.0, 10.0)\n",
      "2.0 10.0\n"
     ]
    }
   ],
   "source": [
    "import numpy as np\n",
    "a = np.array([1,2,3,4])\n",
    "b=np.average(a)\n",
    "print(b)\n",
    "print( )\n",
    "wts = np.array([4,3,2,1])\n",
    "b=np.average(a,weights = wts)\n",
    "print(b)\n",
    "print( )\n",
    "b=np.average([1,2,3,4],weights = [4,3,2,1], returned = True)\n",
    "#(1*4+2*3+3*2+4*1)/(4+3+2+1)  \n",
    "# 20/10  = 2\n",
    "#4+3+2+1 = 10\n",
    "ans,wgsum = b\n",
    "print(b)\n",
    "print(ans,wgsum)"
   ]
  },
  {
   "cell_type": "markdown",
   "id": "2371148b",
   "metadata": {},
   "source": [
    "## Numpy增減與統計"
   ]
  },
  {
   "cell_type": "markdown",
   "id": "4795ce7c",
   "metadata": {},
   "source": [
    "## 陣列附加資料\n",
    "+ 這個方法動作將在陣列末端附加資料。\n",
    "+ 若沒有指定軸 (維度) 則代表於陣列增加資料，陣列變成一維。\n",
    "+ 維度必須相同\n",
    "+ append 需要以下參數：\n",
    "  + arr：想要附加資料的陣列。\n",
    "  + values：想要附加於 arr 這個陣列後面的資料，資料的形狀必須與 arr 陣列相同。\n",
    "  + axis：可以指定附加於哪一個軸 (維度) ."
   ]
  },
  {
   "cell_type": "code",
   "execution_count": 69,
   "id": "5114a98c",
   "metadata": {},
   "outputs": [
    {
     "name": "stdout",
     "output_type": "stream",
     "text": [
      "[[1 2 3]\n",
      " [4 5 6]]\n",
      "[1 2 3 4 5 6 7 8 9]\n"
     ]
    }
   ],
   "source": [
    "import numpy as np\n",
    "a = np.array([[1,2,3],[4,5,6]])\n",
    "print(a)            \n",
    "b = np.append(a,[7,8,9])\n",
    "print(b) "
   ]
  },
  {
   "cell_type": "code",
   "execution_count": 72,
   "id": "ca5a782e",
   "metadata": {},
   "outputs": [
    {
     "name": "stdout",
     "output_type": "stream",
     "text": [
      "[[1 2 3]\n",
      " [4 5 6]]\n",
      "===================\n",
      "[[1 2 3]\n",
      " [4 5 6]\n",
      " [7 8 9]]\n",
      "===================\n",
      "[[ 1  2  3]\n",
      " [ 4  5  6]\n",
      " [ 7  8  9]\n",
      " [10 11 12]]\n"
     ]
    }
   ],
   "source": [
    "import numpy as np\n",
    "a = np.array([[1,2,3],[4,5,6]])\n",
    "print(a)       \n",
    "print(\"===================\")  \n",
    "b = np.append(a,[[7,8,9]],axis=0)\n",
    "print(b) \n",
    "print(\"===================\")  \n",
    "b = np.append(a,[[7,8,9],[10,11,12]],axis=0)\n",
    "print(b) "
   ]
  },
  {
   "cell_type": "code",
   "execution_count": 74,
   "id": "a600cf14",
   "metadata": {},
   "outputs": [
    {
     "name": "stdout",
     "output_type": "stream",
     "text": [
      "[[1 2 3]\n",
      " [4 5 6]]\n",
      "\n",
      "[[ 1  2  3  7 10]\n",
      " [ 4  5  6  8 20]]\n"
     ]
    }
   ],
   "source": [
    "import numpy as np\n",
    "a = np.array([[1,2,3],[4,5,6]])\n",
    "print(a)\n",
    "print()\n",
    "d = np.append(a,[[7,10],[8,20]],axis=1)\n",
    "print(d)"
   ]
  },
  {
   "cell_type": "markdown",
   "id": "35c9dcb9",
   "metadata": {},
   "source": [
    "## 陣列插入資料\n",
    "+ 這個動作方法會依照指定的軸 (維度) 與指定的索引的陣列插入資料。\n",
    "+ 如果沒有提到軸 (維度)，陣列將會變成一維。\n",
    "+ insert( ) 函數需要以下參數：\n",
    "  + arr：欲插入的陣列。\n",
    "  + index：插入位置的索引值編號。\n",
    "  + values：要插入的內容。\n",
    "  + axis：指定的軸 (維度)，如果沒有給這參數，則會變成一維。"
   ]
  },
  {
   "cell_type": "code",
   "execution_count": 75,
   "id": "ed782f7b",
   "metadata": {},
   "outputs": [
    {
     "name": "stdout",
     "output_type": "stream",
     "text": [
      "[[1 2]\n",
      " [3 4]\n",
      " [5 6]]\n",
      "[ 1  2  3 11 12  4  5  6]\n"
     ]
    }
   ],
   "source": [
    "import numpy as np\n",
    "a = np.array([[1,2],[3,4],[5,6]])\n",
    "print(a)\n",
    "b = np.insert(a,3,[11,12])# 因為沒指定軸展開成為一維\n",
    "print(b)"
   ]
  },
  {
   "cell_type": "code",
   "execution_count": 78,
   "id": "b3a3e59c",
   "metadata": {},
   "outputs": [
    {
     "name": "stdout",
     "output_type": "stream",
     "text": [
      "[[1 2]\n",
      " [3 4]\n",
      " [5 6]]\n",
      "\n",
      "[[ 1  2]\n",
      " [11 11]\n",
      " [ 3  4]\n",
      " [ 5  6]]\n",
      "\n",
      "[[ 1  2]\n",
      " [11 18]\n",
      " [ 3  4]\n",
      " [ 5  6]]\n"
     ]
    }
   ],
   "source": [
    "import numpy as np\n",
    "a = np.array([[1,2],\n",
    "              [3,4],\n",
    "              [5,6]])\n",
    "print(a)\n",
    "print()\n",
    "c = np.insert(a,1,[11],axis=0)\n",
    "print(c)\n",
    "print()\n",
    "c = np.insert(a,1,[11,18],axis=0)\n",
    "print(c)"
   ]
  },
  {
   "cell_type": "code",
   "execution_count": 79,
   "id": "b6236d6d",
   "metadata": {},
   "outputs": [
    {
     "name": "stdout",
     "output_type": "stream",
     "text": [
      "[[1 2]\n",
      " [3 4]\n",
      " [5 6]]\n",
      "\n",
      "[[ 1 11  2]\n",
      " [ 3 11  4]\n",
      " [ 5 11  6]]\n",
      "\n",
      "[[ 1 11  2]\n",
      " [ 3 18  4]\n",
      " [ 5 17  6]]\n"
     ]
    },
    {
     "ename": "ValueError",
     "evalue": "could not broadcast input array from shape (2,1) into shape (3,1)",
     "output_type": "error",
     "traceback": [
      "\u001b[1;31m---------------------------------------------------------------------------\u001b[0m",
      "\u001b[1;31mValueError\u001b[0m                                Traceback (most recent call last)",
      "\u001b[1;32m~\\AppData\\Local\\Temp/ipykernel_8328/755181461.py\u001b[0m in \u001b[0;36m<module>\u001b[1;34m\u001b[0m\n\u001b[0;32m     10\u001b[0m \u001b[0mprint\u001b[0m\u001b[1;33m(\u001b[0m \u001b[1;33m)\u001b[0m\u001b[1;33m\u001b[0m\u001b[1;33m\u001b[0m\u001b[0m\n\u001b[0;32m     11\u001b[0m \u001b[0mprint\u001b[0m\u001b[1;33m(\u001b[0m\u001b[0md\u001b[0m\u001b[1;33m)\u001b[0m\u001b[1;33m\u001b[0m\u001b[1;33m\u001b[0m\u001b[0m\n\u001b[1;32m---> 12\u001b[1;33m \u001b[0md\u001b[0m\u001b[1;33m=\u001b[0m\u001b[0mnp\u001b[0m\u001b[1;33m.\u001b[0m\u001b[0minsert\u001b[0m\u001b[1;33m(\u001b[0m\u001b[0ma\u001b[0m\u001b[1;33m,\u001b[0m\u001b[1;36m1\u001b[0m\u001b[1;33m,\u001b[0m\u001b[1;33m[\u001b[0m\u001b[1;36m11\u001b[0m\u001b[1;33m,\u001b[0m\u001b[1;36m18\u001b[0m\u001b[1;33m]\u001b[0m\u001b[1;33m,\u001b[0m\u001b[0maxis\u001b[0m \u001b[1;33m=\u001b[0m \u001b[1;36m1\u001b[0m\u001b[1;33m)\u001b[0m \u001b[1;31m## 錯誤 因為 欄的長度是3 插入數資料長度為2\u001b[0m\u001b[1;33m\u001b[0m\u001b[1;33m\u001b[0m\u001b[0m\n\u001b[0m\u001b[0;32m     13\u001b[0m \u001b[0mprint\u001b[0m\u001b[1;33m(\u001b[0m \u001b[1;33m)\u001b[0m\u001b[1;33m\u001b[0m\u001b[1;33m\u001b[0m\u001b[0m\n\u001b[0;32m     14\u001b[0m \u001b[0mprint\u001b[0m\u001b[1;33m(\u001b[0m\u001b[0md\u001b[0m\u001b[1;33m)\u001b[0m\u001b[1;33m\u001b[0m\u001b[1;33m\u001b[0m\u001b[0m\n",
      "\u001b[1;32m<__array_function__ internals>\u001b[0m in \u001b[0;36minsert\u001b[1;34m(*args, **kwargs)\u001b[0m\n",
      "\u001b[1;32m~\\anaconda3\\lib\\site-packages\\numpy\\lib\\function_base.py\u001b[0m in \u001b[0;36minsert\u001b[1;34m(arr, obj, values, axis)\u001b[0m\n\u001b[0;32m   4650\u001b[0m         \u001b[0mnew\u001b[0m\u001b[1;33m[\u001b[0m\u001b[0mtuple\u001b[0m\u001b[1;33m(\u001b[0m\u001b[0mslobj\u001b[0m\u001b[1;33m)\u001b[0m\u001b[1;33m]\u001b[0m \u001b[1;33m=\u001b[0m \u001b[0marr\u001b[0m\u001b[1;33m[\u001b[0m\u001b[0mtuple\u001b[0m\u001b[1;33m(\u001b[0m\u001b[0mslobj\u001b[0m\u001b[1;33m)\u001b[0m\u001b[1;33m]\u001b[0m\u001b[1;33m\u001b[0m\u001b[1;33m\u001b[0m\u001b[0m\n\u001b[0;32m   4651\u001b[0m         \u001b[0mslobj\u001b[0m\u001b[1;33m[\u001b[0m\u001b[0maxis\u001b[0m\u001b[1;33m]\u001b[0m \u001b[1;33m=\u001b[0m \u001b[0mslice\u001b[0m\u001b[1;33m(\u001b[0m\u001b[0mindex\u001b[0m\u001b[1;33m,\u001b[0m \u001b[0mindex\u001b[0m\u001b[1;33m+\u001b[0m\u001b[0mnumnew\u001b[0m\u001b[1;33m)\u001b[0m\u001b[1;33m\u001b[0m\u001b[1;33m\u001b[0m\u001b[0m\n\u001b[1;32m-> 4652\u001b[1;33m         \u001b[0mnew\u001b[0m\u001b[1;33m[\u001b[0m\u001b[0mtuple\u001b[0m\u001b[1;33m(\u001b[0m\u001b[0mslobj\u001b[0m\u001b[1;33m)\u001b[0m\u001b[1;33m]\u001b[0m \u001b[1;33m=\u001b[0m \u001b[0mvalues\u001b[0m\u001b[1;33m\u001b[0m\u001b[1;33m\u001b[0m\u001b[0m\n\u001b[0m\u001b[0;32m   4653\u001b[0m         \u001b[0mslobj\u001b[0m\u001b[1;33m[\u001b[0m\u001b[0maxis\u001b[0m\u001b[1;33m]\u001b[0m \u001b[1;33m=\u001b[0m \u001b[0mslice\u001b[0m\u001b[1;33m(\u001b[0m\u001b[0mindex\u001b[0m\u001b[1;33m+\u001b[0m\u001b[0mnumnew\u001b[0m\u001b[1;33m,\u001b[0m \u001b[1;32mNone\u001b[0m\u001b[1;33m)\u001b[0m\u001b[1;33m\u001b[0m\u001b[1;33m\u001b[0m\u001b[0m\n\u001b[0;32m   4654\u001b[0m         \u001b[0mslobj2\u001b[0m \u001b[1;33m=\u001b[0m \u001b[1;33m[\u001b[0m\u001b[0mslice\u001b[0m\u001b[1;33m(\u001b[0m\u001b[1;32mNone\u001b[0m\u001b[1;33m)\u001b[0m\u001b[1;33m]\u001b[0m \u001b[1;33m*\u001b[0m \u001b[0mndim\u001b[0m\u001b[1;33m\u001b[0m\u001b[1;33m\u001b[0m\u001b[0m\n",
      "\u001b[1;31mValueError\u001b[0m: could not broadcast input array from shape (2,1) into shape (3,1)"
     ]
    }
   ],
   "source": [
    "import numpy as np\n",
    "a = np.array([[1,2],\n",
    "              [3,4],\n",
    "              [5,6]])\n",
    "print(a)\n",
    "print( )\n",
    "d=np.insert(a,1,11,axis = 1)\n",
    "print(d)\n",
    "d=np.insert(a,1,[11,18,17],axis = 1)\n",
    "print( )\n",
    "print(d)\n",
    "d=np.insert(a,1,[11,18],axis = 1) ## 錯誤 因為 欄的長度是3 插入數資料長度為2\n",
    "print( )\n",
    "print(d)\n"
   ]
  },
  {
   "cell_type": "code",
   "execution_count": null,
   "id": "9cef104a",
   "metadata": {},
   "outputs": [],
   "source": []
  }
 ],
 "metadata": {
  "kernelspec": {
   "display_name": "Python 3 (ipykernel)",
   "language": "python",
   "name": "python3"
  },
  "language_info": {
   "codemirror_mode": {
    "name": "ipython",
    "version": 3
   },
   "file_extension": ".py",
   "mimetype": "text/x-python",
   "name": "python",
   "nbconvert_exporter": "python",
   "pygments_lexer": "ipython3",
   "version": "3.8.11"
  }
 },
 "nbformat": 4,
 "nbformat_minor": 5
}
