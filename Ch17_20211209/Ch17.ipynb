{
 "cells": [
  {
   "cell_type": "code",
   "execution_count": 9,
   "id": "a2770351",
   "metadata": {},
   "outputs": [
    {
     "name": "stdout",
     "output_type": "stream",
     "text": [
      "   Apples  Bananas  Cherries\n",
      "0       2        1         4\n",
      "1       7        5         3\n",
      "2      12        8         6\n",
      "====================\n",
      "   Apples  Bananas  Cherries\n",
      "1       7        5         3\n",
      "2      12        8         6\n",
      "====================\n",
      "   Apples  Bananas  Cherries\n",
      "0       2        1         4\n",
      "====================\n",
      "   Bananas  Cherries\n",
      "0        1         4\n",
      "1        5         3\n",
      "2        8         6\n",
      "====================\n",
      "   Bananas\n",
      "1        5\n",
      "2        8\n"
     ]
    }
   ],
   "source": [
    "import pandas as pd\n",
    "fruits=pd.read_csv(\"https://goo.gl/DOw6pe\")\n",
    "print(fruits)\n",
    "print(\"====================\")\n",
    "print(fruits[1:])#row 由第1開始取到結尾\n",
    "print(\"====================\")\n",
    "print(fruits[:1])#row 由第0開始取到0\n",
    "print(\"====================\")\n",
    "#print(fruits[:,'Bananas'])#錯誤\n",
    "print(fruits[['Bananas','Cherries']])\n",
    "print(\"====================\")\n",
    "# 由第一個row到 row的結尾  col只顯示 Bananas這一欄\n",
    "print(fruits[1:][['Bananas']])"
   ]
  },
  {
   "cell_type": "code",
   "execution_count": 14,
   "id": "506d0039",
   "metadata": {},
   "outputs": [
    {
     "name": "stdout",
     "output_type": "stream",
     "text": [
      "             a   b   c   d\n",
      "2018-05-16   0   1   2   3\n",
      "2018-05-17   4   5   6   7\n",
      "2018-05-18   8   9  10  11\n",
      "2018-05-19  12  13  14  15\n",
      "2018-05-20  16  17  18  19\n",
      "2018-05-21  20  21  22  23\n",
      "------------\n",
      "2018-05-16     1\n",
      "2018-05-17     5\n",
      "2018-05-18     9\n",
      "2018-05-19    13\n",
      "2018-05-20    17\n",
      "2018-05-21    21\n",
      "Freq: D, Name: b, dtype: int32\n",
      "------------\n",
      "             b\n",
      "2018-05-16   1\n",
      "2018-05-17   5\n",
      "2018-05-18   9\n",
      "2018-05-19  13\n",
      "2018-05-20  17\n",
      "2018-05-21  21\n",
      "------------\n",
      "2018-05-16     1\n",
      "2018-05-17     5\n",
      "2018-05-18     9\n",
      "2018-05-19    13\n",
      "2018-05-20    17\n",
      "2018-05-21    21\n",
      "Freq: D, Name: b, dtype: int32\n",
      "------------\n",
      "            a  b   c   d\n",
      "2018-05-16  0  1   2   3\n",
      "2018-05-17  4  5   6   7\n",
      "2018-05-18  8  9  10  11\n",
      "------------\n",
      "            a  b  c  d\n",
      "2018-05-16  0  1  2  3\n",
      "------------\n",
      "            a   c\n",
      "2018-05-16  0   2\n",
      "2018-05-17  4   6\n",
      "2018-05-18  8  10\n"
     ]
    }
   ],
   "source": []
  },
  {
   "cell_type": "markdown",
   "id": "12b33936",
   "metadata": {},
   "source": [
    "### 使用 loc(文字 m:n 會包含到n)\n",
    "+ .loc[ ], 中括弧裡面是先 row 後 column，以逗號分開。\n",
    "+ row 與 column 要放入的是 row 標籤與 column 標籤。\n",
    "+ 可於 row 或 column 加入「：」 ，代表指定起訖範圍。\n"
   ]
  },
  {
   "cell_type": "code",
   "execution_count": 11,
   "id": "2d802c80",
   "metadata": {},
   "outputs": [
    {
     "name": "stdout",
     "output_type": "stream",
     "text": [
      "             a   b\n",
      "2018-05-16   0   1\n",
      "2018-05-17   4   5\n",
      "2018-05-18   8   9\n",
      "2018-05-19  12  13\n",
      "2018-05-20  16  17\n",
      "2018-05-21  20  21\n",
      "------------\n",
      "             a   b\n",
      "2018-05-17   4   5\n",
      "2018-05-18   8   9\n",
      "2018-05-19  12  13\n",
      "2018-05-20  16  17\n",
      "2018-05-21  20  21\n",
      "------------\n",
      "             b\n",
      "2018-05-17   5\n",
      "2018-05-18   9\n",
      "2018-05-19  13\n",
      "2018-05-20  17\n",
      "2018-05-21  21\n",
      "------------\n",
      "             b   c   d\n",
      "2018-05-18   9  10  11\n",
      "2018-05-19  13  14  15\n",
      "2018-05-20  17  18  19\n"
     ]
    }
   ],
   "source": [
    "import pandas as pd\n",
    "import numpy as np\n",
    "dates=pd.date_range('20180516',periods=6)\n",
    "df=pd.DataFrame(np.arange(24).reshape(6,4),index=dates,columns=['a','b','c','d'])\n",
    "print(df.loc[:,['a','b']])\n",
    "print(\"------------\")\n",
    "print(df.loc['20180517':,['a','b']])\n",
    "print(\"------------\")\n",
    "print(df.loc['20180517':,['b']])\n",
    "print(\"------------\")\n",
    "print(df.loc['20180518':'20180520','b':'d']) #會包含到20180520"
   ]
  },
  {
   "cell_type": "markdown",
   "id": "a2803f1a",
   "metadata": {},
   "source": [
    "### 使用 iloc 與 ix"
   ]
  },
  {
   "cell_type": "markdown",
   "id": "1b7906e5",
   "metadata": {},
   "source": [
    "+ iloc[ ] 與 loc 一樣，中括弧裡面也是先 row 後 column，行列標籤用逗號分開。\n",
    "+ 與 loc 不同的之處是，.iloc 是根據隱含索引來進行選擇。\n",
    "+ .ix 代表可以混用 loc 的標籤也可以使用 iloc 的索引編號。 不建議用"
   ]
  },
  {
   "cell_type": "code",
   "execution_count": 12,
   "id": "459d15b6",
   "metadata": {},
   "outputs": [
    {
     "name": "stdout",
     "output_type": "stream",
     "text": [
      "     groups  numbers\n",
      "0    Python       59\n",
      "1    Django        9\n",
      "2    Sqlite       19\n",
      "3     Numpy       14\n",
      "4  Security        6\n",
      "5    Pandas       77\n",
      "--------------\n",
      "0    59\n",
      "Name: numbers, dtype: int64\n",
      "------------\n",
      "   groups  numbers\n",
      "0  Python       59\n",
      "<class 'pandas.core.frame.DataFrame'>\n",
      "------------\n",
      "0    59\n",
      "1     9\n",
      "2    19\n",
      "3    14\n",
      "4     6\n",
      "5    77\n",
      "Name: numbers, dtype: int64\n",
      "<class 'pandas.core.series.Series'>\n",
      "------------\n",
      "0    59\n",
      "1     9\n",
      "2    19\n",
      "3    14\n",
      "4     6\n",
      "5    77\n",
      "Name: numbers, dtype: int64\n",
      "<class 'pandas.core.series.Series'>\n",
      "------------\n",
      "groups     Sqlite\n",
      "numbers        19\n",
      "Name: 2, dtype: object\n"
     ]
    }
   ],
   "source": [
    "import pandas as pd\n",
    "groups = [\"Python\", \"Django\", \"Sqlite\", \"Numpy\", \"Security\", \"Pandas\"]\n",
    "numbers = [59, 9, 19, 14, 6, 77]\n",
    "group_dict = {\n",
    "\"groups\": groups,\n",
    "\"numbers\": numbers\n",
    "}\n",
    "df1 = pd.DataFrame(group_dict)\n",
    "print(df1)\n",
    "print(\"--------------\")\n",
    "print(df1.iloc[0:1, 1])\n",
    "print(\"------------\")\n",
    "print(df1.iloc[0:1,:])\n",
    "print(type(df1.iloc[0:1,:]))#DataFrame\n",
    "print(\"------------\")\n",
    "d1 = df1.iloc[:,1] \n",
    "print(d1)\n",
    "print(type(d1))#Series\n",
    "print(\"------------\")\n",
    "d1 = df1[\"numbers\"]\n",
    "print(df1.numbers)\n",
    "print(type(d1))#Series\n",
    "print(\"------------\")\n",
    "print(df1.iloc[2])"
   ]
  },
  {
   "cell_type": "code",
   "execution_count": 15,
   "id": "fcf980ef",
   "metadata": {},
   "outputs": [
    {
     "name": "stdout",
     "output_type": "stream",
     "text": [
      "   ID  Views  Clicks\n",
      "a   1   1000     300\n",
      "b   2   1200     800\n",
      "c   3    800     500\n",
      "------------\n",
      "Index(['a', 'b', 'c'], dtype='object')\n",
      "------------\n",
      "   Views  Clicks\n",
      "a   1000     300\n",
      "c    800     500\n",
      "------------\n",
      "ID           2\n",
      "Views     1200\n",
      "Clicks     800\n",
      "Name: b, dtype: int64\n",
      "------------\n",
      "   Views  Clicks\n",
      "a   1000     300\n",
      "b   1200     800\n",
      "------------\n",
      "   ID  Views  Clicks\n",
      "b   2   1200     800\n",
      "------------\n",
      "   ID  Views  Clicks\n",
      "a   1   1000     300\n",
      "c   3    800     500\n",
      "------------\n",
      "   ID  Clicks\n",
      "a   1     300\n",
      "b   2     800\n",
      "c   3     500\n",
      "------------\n",
      "   ID  Clicks\n",
      "a   1     300\n",
      "b   2     800\n",
      "c   3     500\n",
      "------------\n",
      "   ID  Clicks\n",
      "a   1     300\n",
      "b   2     800\n",
      "------------\n"
     ]
    }
   ],
   "source": [
    "import pandas as pd\n",
    "marketing=pd.read_csv(\"https://goo.gl/6A6Qe2\")\n",
    "print(marketing)\n",
    "print(\"------------\")\n",
    "print(marketing.index)\n",
    "print(\"------------\")\n",
    "print(marketing.loc[['a','c'],['Views','Clicks']])\n",
    "print(\"------------\")\n",
    "print(marketing.loc['b',:])\n",
    "print(\"------------\")\n",
    "print(marketing.loc[:'b','Views':]) # 會包含到'b'\n",
    "print(\"------------\")\n",
    "print(marketing.loc[['b']])\n",
    "print(\"------------\")\n",
    "print(marketing.loc[['a','c']]) #使用index來選取row\n",
    "print(\"------------\")\n",
    "df = marketing.loc[:, ['ID', 'Clicks']]\n",
    "print(df)\n",
    "print(\"------------\")\n",
    "df = marketing.iloc[:, [0, 2]]\n",
    "print(df)\n",
    "print(\"------------\")\n",
    "df =marketing.iloc[0:2, [0, 2]]\n",
    "print(df)\n",
    "print(\"------------\")"
   ]
  },
  {
   "cell_type": "markdown",
   "id": "b37c8971",
   "metadata": {},
   "source": [
    "# 關於跳脫字元符號\n",
    "+ 由於正規表示式使用\\符號針對特殊字元進行轉換，例如若想要查詢這個字串 'pcschool.com'，我們使用的正規表示式方式為 'pcschool\\.com'。\n",
    "+ Python 的字串也是使用\\符號進行特殊字元轉換，上述的正規表示式於Python 內可寫成 'pcschool\\\\.com' ，如此寫法會有很多 \\ 符號出現的困擾。\n",
    "+ 建議可於字串前面加上 r 的前導符號就可以，所以上面的範例可改為：\n",
    " 'r'python\\.com' "
   ]
  },
  {
   "attachments": {
    "image-2.png": {
     "image/png": "[encoded data removed]"
    },
    "image.png": {
     "image/png": "[encoded data removed]"
    }
   },
   "cell_type": "markdown",
   "id": "c29f3c72",
   "metadata": {},
   "source": [
    "## findall 方法\n",
    "+ findall(搜尋字串,起始位置,結束位置)\n",
    "  + 找到所有符合正則表達式的內容\n",
    "  + 起始位置與結束位置是可選擇的參數，預設值分別為 0 與字串長度。\n",
    "  + findall 將以 list 方式傳回所有可以比對的資料，若找不到可以比對的資料則會傳回一個空的 list。\n",
    "  ![image.png](attachment:image.png)\n",
    "  ![image-2.png](attachment:image-2.png)"
   ]
  },
  {
   "cell_type": "code",
   "execution_count": 16,
   "id": "a9a99c3b",
   "metadata": {},
   "outputs": [
    {
     "name": "stdout",
     "output_type": "stream",
     "text": [
      "['1', '2', '3', '4', '5', '4', '1', '5', '2', '1', '7', '8', '9', '6', '3', '8', '5', '2', '1', '4']\n"
     ]
    }
   ],
   "source": [
    "import re\n",
    "s = \"Tim's phone numbers are 12345-41521 and 78963-85214\"\n",
    "match = re.findall(r'\\d', s)\n",
    "if match:\n",
    "    print(match)"
   ]
  },
  {
   "cell_type": "markdown",
   "id": "23c63856",
   "metadata": {},
   "source": [
    "## 計算字元數"
   ]
  },
  {
   "attachments": {
    "image.png": {
     "image/png": "[encoded data removed]"
    }
   },
   "cell_type": "markdown",
   "id": "0a9c5a6f",
   "metadata": {},
   "source": [
    "![image.png](attachment:image.png)"
   ]
  },
  {
   "cell_type": "code",
   "execution_count": 17,
   "id": "8c394ba7",
   "metadata": {},
   "outputs": [
    {
     "name": "stdout",
     "output_type": "stream",
     "text": [
      "['12345', '41521', '78963', '85214']\n"
     ]
    }
   ],
   "source": [
    "import re\n",
    "s = \"Tim's phone numbers are 12345-41521 and 78963-85214\"\n",
    "match = re.findall(r'\\d{5}', s)\n",
    "if match:\n",
    "    print(match)\n"
   ]
  },
  {
   "attachments": {
    "image.png": {
     "image/png": "[encoded data removed]"
    }
   },
   "cell_type": "markdown",
   "id": "71cff930",
   "metadata": {},
   "source": [
    "## 依據尋找的字元範圍\n",
    "![image.png](attachment:image.png)"
   ]
  },
  {
   "cell_type": "code",
   "execution_count": 22,
   "id": "d5af74d8",
   "metadata": {},
   "outputs": [
    {
     "name": "stdout",
     "output_type": "stream",
     "text": [
      "['ran ']\n"
     ]
    }
   ],
   "source": [
    "import re\n",
    "ptn = r\"r[au]n \" #空格是否會影響? 找到\"ran \"\" r到n中間可以是a或u其中一個 再接一個空白\n",
    "#ptn = r\"r[au]n\" # 找到 ran與run r到n中間可以是a或u其中一個\n",
    "#ptn = r\"r[a-u]n\" #['ran', 'run', 'rin']r到n中間可以是a b c d e f g h i j h l m n o p q r s t u v之間的任意一個\n",
    "#ptn = r\"r[a-u]{1,3}n\" #['ran', 'run', 'rain', 'rin']r到n中間可以是a b c d e f g h i j h l m n o p q r s t u v數量為1或3各\n",
    "print(re.findall(ptn, \"dog ran  runs to cat rain rin\"))\n"
   ]
  },
  {
   "cell_type": "code",
   "execution_count": 25,
   "id": "0942b0f7",
   "metadata": {},
   "outputs": [
    {
     "name": "stdout",
     "output_type": "stream",
     "text": [
      "[]\n",
      "['c', 'a', 'a', 'b', 'b']\n",
      "['1', '2', '3']\n",
      "['1', 'd', 'o', 'g', ' ', ' ', 't', '2', ' ', ' ', '3', 'r', 'i', 't', ' ']\n"
     ]
    }
   ],
   "source": [
    "import re\n",
    "string1=\"1dog  cat2  3rabbit \"\n",
    "print(re.findall(r\"[A-Z]\",string1))\n",
    "print(re.findall(r\"[a-c]\",string1))\n",
    "print(re.findall(r\"[0-9]\",string1))\n",
    "print(re.findall(r\"[^a-c]\",string1)) #除了a~c之外的"
   ]
  },
  {
   "attachments": {
    "image.png": {
     "image/png": "[encoded data removed]"
    }
   },
   "cell_type": "markdown",
   "id": "15e71bf9",
   "metadata": {},
   "source": [
    "## 計算重複數量\n",
    "![image.png](attachment:image.png)"
   ]
  },
  {
   "cell_type": "code",
   "execution_count": 26,
   "id": "daff23e3",
   "metadata": {},
   "outputs": [
    {
     "name": "stdout",
     "output_type": "stream",
     "text": [
      "['123456', '789']\n",
      "['1', '2']\n"
     ]
    }
   ],
   "source": [
    "import re\n",
    "pattern = re.compile(r'\\d+')  \n",
    "result1 = pattern.findall('hello 123456 789')\n",
    "result2 = pattern.findall('one1two2three3four4', 0, 13)\n",
    "print(result1  )#['123456', '789']\n",
    "print(result2  )#['1', '2'] 0~不包含13的區間搜尋數字"
   ]
  },
  {
   "cell_type": "code",
   "execution_count": 31,
   "id": "72afe5eb",
   "metadata": {},
   "outputs": [
    {
     "name": "stdout",
     "output_type": "stream",
     "text": [
      "['abcd', 'abcd', 'abc', 'abc']\n",
      "['abcd', 'abcdd', 'abc', 'abc']\n",
      "['abcd', 'abcdd']\n",
      "['abc', 'abc', 'abc', 'abc']\n",
      "['abc', 'abc', 'abcb', 'abc']\n",
      "['abcb']\n"
     ]
    }
   ],
   "source": [
    "import re\n",
    "str1=\"abcd abcdd abcb abc\"\n",
    "print(re.findall(r\"abcd?\", str1))\n",
    "print(re.findall(r\"abcd*\",str1))\n",
    "print(re.findall(r\"abcd+\",str1))\n",
    "print(re.findall(r\"[a-c]{3}\", str1))#abc任意字母組合必須出現3次\n",
    "print(re.findall(r\"[a-c]{1,4}\", str1))#abc任意字母組合必須出現1~3次\n",
    "print(re.findall(r\"[a-c]{4,}\",str1))#abc任意字母組合最少4次最多無限"
   ]
  },
  {
   "cell_type": "markdown",
   "id": "a41f7c1a",
   "metadata": {},
   "source": [
    "## 請問執行後的結果是哪幾個？"
   ]
  },
  {
   "cell_type": "code",
   "execution_count": 32,
   "id": "50c278fe",
   "metadata": {},
   "outputs": [
    {
     "name": "stdout",
     "output_type": "stream",
     "text": [
      "['t', 'q', 't', 'p', 's']\n"
     ]
    }
   ],
   "source": [
    "import re\n",
    "string1=\"C++ Python Java C# Sqlite Django Numpy Pandas \"\n",
    "print(re.findall(r\"[p-t]\",string1))#p q r s t "
   ]
  },
  {
   "cell_type": "markdown",
   "id": "8849bb5f",
   "metadata": {},
   "source": [
    "## split 方法\n",
    "+ split 方法能以比對規則針對字串進行切割後產生 list。\n",
    "+ split 它的使用形式如下：\n",
    "+ split(字串,最大分割次數)\n",
    "   + 若不指定最大分割次數則全部分割"
   ]
  },
  {
   "cell_type": "code",
   "execution_count": 33,
   "id": "496bdc98",
   "metadata": {},
   "outputs": [
    {
     "name": "stdout",
     "output_type": "stream",
     "text": [
      "['one', 'two', 'ten']\n",
      "['one', 'two...ten']\n"
     ]
    }
   ],
   "source": [
    "import re\n",
    "text = 'one, two...ten'\n",
    "re1=re.split('[,. ]+', text)#碰到,或.或 空白 1次或多次都需要分割\n",
    "print(re1)\n",
    "re1=re.split('[,. ]+', text, maxsplit=1)\n",
    "print(re1)"
   ]
  },
  {
   "cell_type": "markdown",
   "id": "c2a64d1a",
   "metadata": {},
   "source": [
    "## sub 方法\n",
    "+ sub 方法用於替換，它的使用形式如下\n",
    "  + sub(取代的字串或函數,來源字串,可設定被取代的數量)\n",
    "+ 可設定被取代的數量若不指定時全部替換。"
   ]
  },
  {
   "cell_type": "markdown",
   "id": "db79c660",
   "metadata": {},
   "source": [
    "## 字串取代\n",
    "+ inputStr = \"hello 111 world 111\"\t\n",
    "+ replacedStr = inputStr.replace(\"111\", \"222\")\n",
    "+ 可是假設所有數字都想換成 222，而字串內的數值可能改變，例如\n",
    "+ inputStr = \"hello 123 world 456\"\n",
    "+ 那該如何進行?"
   ]
  },
  {
   "cell_type": "code",
   "execution_count": 34,
   "id": "70de4834",
   "metadata": {},
   "outputs": [
    {
     "name": "stdout",
     "output_type": "stream",
     "text": [
      "hello 222 world 222\n",
      "hello 222  world 456\n"
     ]
    }
   ],
   "source": [
    "import re\n",
    "inputStr = \"hello 123 world 456\"\n",
    "replacedStr = re.sub('\\d+',\"222\",inputStr)\n",
    "print(replacedStr)\n",
    "replacedStr = re.sub(\"\\d+\", \"222 \", inputStr,count=1) \n",
    "print(replacedStr)"
   ]
  },
  {
   "cell_type": "markdown",
   "id": "c453d402",
   "metadata": {},
   "source": [
    "## 請問執行後的結果是哪幾個？"
   ]
  },
  {
   "cell_type": "code",
   "execution_count": 35,
   "id": "4ac50ee3",
   "metadata": {},
   "outputs": [
    {
     "name": "stdout",
     "output_type": "stream",
     "text": [
      "2018,C language,2018,python\n"
     ]
    }
   ],
   "source": [
    "import re\n",
    "inputStr = \"1970,C language,1990,python\"\n",
    "replacedStr = re.sub(\"\\d+\", \"2018\", inputStr)\n",
    "print(replacedStr)"
   ]
  },
  {
   "cell_type": "markdown",
   "id": "8e80f1a6",
   "metadata": {},
   "source": [
    "# 切割與合併"
   ]
  },
  {
   "cell_type": "markdown",
   "id": "8ca3651a",
   "metadata": {},
   "source": [
    "## row 的切割與合併\n",
    "+ row 代表第一維，代表 axis=0，也可說水平的一列一列。\n",
    "+ 可使用 vsplit 方式進行切割，可指定要切割的數量。\n",
    "   + 回傳一組list內包含 ndArray\n",
    "+ 可使用 vstack 方式進行合併。"
   ]
  },
  {
   "cell_type": "code",
   "execution_count": 36,
   "id": "0a4f595d",
   "metadata": {},
   "outputs": [
    {
     "name": "stdout",
     "output_type": "stream",
     "text": [
      "[[ 0  1  2  3]\n",
      " [ 4  5  6  7]\n",
      " [ 8  9 10 11]]\n",
      "---------------\n",
      "[array([[0, 1, 2, 3]]), array([[4, 5, 6, 7]]), array([[ 8,  9, 10, 11]])]\n",
      "---------------\n",
      "[[4 5 6 7]]\n",
      "---------------\n",
      "<class 'list'>\n",
      "---------------\n",
      "[[12 13 14 15]\n",
      " [16 17 18 19]\n",
      " [20 21 22 23]]\n",
      "---------------\n",
      "[[ 0  1  2  3]\n",
      " [ 4  5  6  7]\n",
      " [ 8  9 10 11]\n",
      " [12 13 14 15]\n",
      " [16 17 18 19]\n",
      " [20 21 22 23]]\n",
      "---------------\n"
     ]
    }
   ],
   "source": [
    "import numpy as np\n",
    "a = np.arange(12).reshape(3, 4)\n",
    "print(a)\n",
    "print(\"---------------\")\n",
    "print(np.vsplit(a,3))\n",
    "print(\"---------------\")\n",
    "print(np.vsplit(a,3)[1])\n",
    "print(\"---------------\")\n",
    "print(type(np.vsplit(a,3)))\n",
    "print(\"---------------\")\n",
    "b=np.arange(12,24).reshape(3, 4)\n",
    "print(b)\n",
    "print(\"---------------\")\n",
    "c=np.vstack((a,b))\n",
    "print(c)\n",
    "print(\"---------------\")"
   ]
  },
  {
   "cell_type": "markdown",
   "id": "d956845a",
   "metadata": {},
   "source": [
    "## column 的切割與合併\n",
    "+ column 代表第二維，代表 axis=1，也可說垂直的一行一行。\n",
    "+ 可使用 hsplit 方式進行切割，可指定要切割的數量。\n",
    "+ 可使用 hstack 方式進行合併。"
   ]
  },
  {
   "cell_type": "code",
   "execution_count": 37,
   "id": "df77bebc",
   "metadata": {},
   "outputs": [
    {
     "name": "stdout",
     "output_type": "stream",
     "text": [
      "[[ 0  1  2  3]\n",
      " [ 4  5  6  7]\n",
      " [ 8  9 10 11]]\n",
      "---------------\n",
      "[array([[0],\n",
      "       [4],\n",
      "       [8]]), array([[1],\n",
      "       [5],\n",
      "       [9]]), array([[ 2],\n",
      "       [ 6],\n",
      "       [10]]), array([[ 3],\n",
      "       [ 7],\n",
      "       [11]])]\n",
      "---------------\n",
      "[array([[0, 1],\n",
      "       [4, 5],\n",
      "       [8, 9]]), array([[ 2,  3],\n",
      "       [ 6,  7],\n",
      "       [10, 11]])]\n",
      "---------------\n",
      "[[12 13 14 15]\n",
      " [16 17 18 19]\n",
      " [20 21 22 23]]\n",
      "---------------\n",
      "[[ 0  1  2  3 12 13 14 15]\n",
      " [ 4  5  6  7 16 17 18 19]\n",
      " [ 8  9 10 11 20 21 22 23]]\n",
      "---------------\n"
     ]
    }
   ],
   "source": [
    "import numpy as np\n",
    "a = np.arange(12).reshape(3, 4)\n",
    "print(a)\n",
    "print(\"---------------\")\n",
    "print(np.hsplit(a,4))#切分為4組array\n",
    "# 12/4 = 3 因為是3x4的Array的 所以3/3 = 1 \n",
    "# 每組Array包含 3x1的陣列  row=3是因為原始陣列為3x4  col=1\n",
    "print(\"---------------\")\n",
    "print(np.hsplit(a,2))#切分為2組array\n",
    "print(\"---------------\")\n",
    "# 12/2 = 6 因為是3x4的Array的 所以6/3 = 2\n",
    "# 每組Array包含 3x2的陣列  row=3是因為原始陣列為3x4  col=2\n",
    "b=np.arange(12,24).reshape(3, 4)\n",
    "print(b)\n",
    "print(\"---------------\")\n",
    "c=np.hstack((a,b))\n",
    "print(c)\n",
    "print(\"---------------\")"
   ]
  },
  {
   "cell_type": "markdown",
   "id": "9299cff7",
   "metadata": {},
   "source": [
    "## 可選擇行列分合\n",
    "+ split 代表切割的動作：\n",
    "  + 若 axis 為 0 代表 row 切割，等同於 vsplit。\n",
    "  + 若 axis 為 1 代表 column 切割，等同於 hsplit。\n",
    "  + np.split(a,3,axis=0) #3 代表切割數。\n",
    "+ concatenate 代表進行合併：\n",
    "  + 若 axis 為 0 代表 row 合併，等同於 vstack。\n",
    "  + 若 axis 為 1 代表 column 合併，等同於 hstack。"
   ]
  },
  {
   "cell_type": "code",
   "execution_count": 40,
   "id": "ac6e9a7f",
   "metadata": {},
   "outputs": [
    {
     "name": "stdout",
     "output_type": "stream",
     "text": [
      "[[ 0  1  2  3]\n",
      " [ 4  5  6  7]\n",
      " [ 8  9 10 11]]\n",
      "---------------\n",
      "[array([[0, 1, 2, 3]]), array([[4, 5, 6, 7]]), array([[ 8,  9, 10, 11]])]\n",
      "---------------\n",
      "[array([[0, 1],\n",
      "       [4, 5],\n",
      "       [8, 9]]), array([[ 2,  3],\n",
      "       [ 6,  7],\n",
      "       [10, 11]])]\n",
      "---------------\n"
     ]
    }
   ],
   "source": [
    "import numpy as np\n",
    "a = np.arange(12).reshape(3, 4)\n",
    "print(a)\n",
    "print(\"---------------\")\n",
    "print(np.split(a,3,axis=0))\n",
    "print(\"---------------\")\n",
    "print(np.split(a,2,axis=1))\n",
    "print(\"---------------\")"
   ]
  },
  {
   "cell_type": "code",
   "execution_count": 41,
   "id": "c73417e7",
   "metadata": {},
   "outputs": [
    {
     "name": "stdout",
     "output_type": "stream",
     "text": [
      "[[ 0  1  2  3]\n",
      " [ 4  5  6  7]\n",
      " [ 8  9 10 11]\n",
      " [12 13 14 15]\n",
      " [16 17 18 19]\n",
      " [20 21 22 23]]\n",
      "---------------\n",
      "[[ 0  1  2  3 12 13 14 15]\n",
      " [ 4  5  6  7 16 17 18 19]\n",
      " [ 8  9 10 11 20 21 22 23]]\n",
      "---------------\n"
     ]
    }
   ],
   "source": [
    "import numpy as np\n",
    "a = np.arange(12).reshape(3, 4)\n",
    "b = np.arange(12,24).reshape(3, 4)\n",
    "c = np.concatenate((a,b),axis=0)\n",
    "print(c)\n",
    "print(\"---------------\")\n",
    "c=np.concatenate((a,b),axis=1)\n",
    "print(c)\n",
    "print(\"---------------\")"
   ]
  },
  {
   "cell_type": "markdown",
   "id": "0f2796e7",
   "metadata": {},
   "source": [
    "## 不等量切割\n",
    "+ 利用 array_split 方法進行不等量的切割。\n",
    "+ 例如：\n",
    "  + np.array_split(a,3,axis=1) 3 代表切割數\n",
    "  + 對於長度為x的Array，分割成n個部分，它返回x % n個大小為(x // n) + 1的子Array，以及其他大小為(x // n)的子Array。"
   ]
  },
  {
   "cell_type": "code",
   "execution_count": 42,
   "id": "2856f357",
   "metadata": {},
   "outputs": [
    {
     "name": "stdout",
     "output_type": "stream",
     "text": [
      "[[ 0  1  2  3]\n",
      " [ 4  5  6  7]\n",
      " [ 8  9 10 11]]\n",
      "[array([[0, 1, 2, 3],\n",
      "       [4, 5, 6, 7]]), array([[ 8,  9, 10, 11]])]\n",
      "-------------------\n",
      "[array([[0, 1],\n",
      "       [4, 5],\n",
      "       [8, 9]]), array([[ 2],\n",
      "       [ 6],\n",
      "       [10]]), array([[ 3],\n",
      "       [ 7],\n",
      "       [11]])]\n"
     ]
    }
   ],
   "source": [
    "import numpy as np\n",
    "a = np.arange(12).reshape(3,4)\n",
    "print(a)\n",
    "print(np.array_split(a,2,axis=0))\n",
    "# 軸0的長度為3 \n",
    "# 3%2 = 1 \n",
    "# 3/2取整數 + 1 = 2\n",
    "#由以上得知 會產生一1組在axis=0的位置放入長度為2的子陣列 \n",
    "# 剩下的子陣列為3/2 = 1 產生長度為1的子陣列\n",
    "\n",
    "print(\"-------------------\")\n",
    "print(np.array_split(a,3,axis=1))\n",
    "#axis 1的長度為4 \n",
    "# 4 % 3 = 1\n",
    "# 4 / 3 = 1 + 1 = 2 \n",
    "#會產生一1組在axis=1的位置 放入長度為2的子陣列 \n",
    "# 剩下的子陣列為4/3=1 產生長度為1的子陣列\n",
    "#axis 0的長度為3 所以每組陣列產生3各row"
   ]
  },
  {
   "cell_type": "markdown",
   "id": "d84f6c31",
   "metadata": {},
   "source": [
    "# 遺失與重複值處理"
   ]
  },
  {
   "cell_type": "markdown",
   "id": "13df9f21",
   "metadata": {},
   "source": [
    "## 判斷遺失值產生原因\n",
    "+ 有些資訊是暫時無法讀取。\n",
    "+ 有些資訊是被遺漏。\n",
    "+ 有些對象的某些屬性特徵是不存在。\n",
    "+ 有些資訊被認為不重要。\n",
    "+ 操作這些資訊的代價太大而被遺棄。"
   ]
  },
  {
   "cell_type": "markdown",
   "id": "5537b49d",
   "metadata": {},
   "source": [
    "## 遺失值處理\n",
    "+ 使用 reindexing，我們創建了一個缺失值的 DataFrame。在輸出中，NaN 表示不是數字。\n",
    "檢查缺失值\n",
    "+ 為了更容易地檢測缺失值以及避免受到資料類型干擾，Pandas 提供了 isnull( ) 和 notnull( ) 函數。"
   ]
  },
  {
   "cell_type": "code",
   "execution_count": 43,
   "id": "36e6f1d0",
   "metadata": {},
   "outputs": [
    {
     "name": "stdout",
     "output_type": "stream",
     "text": [
      "      A     B     C    D\n",
      "0   1.0   2.0   3.5  4.0\n",
      "1   5.5  34.0   3.4  NaN\n",
      "2  10.0   NaN  11.5  8.5\n"
     ]
    }
   ],
   "source": [
    "import pandas as pd\n",
    "import  numpy as np\n",
    "from io import  StringIO\n",
    "csv_data='''\n",
    "A,B,C,D\n",
    "1.0,2.0,3.5,4\n",
    "5.5,34,3.4\n",
    "10,,11.5,8.5\n",
    "'''\n",
    "df=pd.read_csv(StringIO(csv_data))\n",
    "print(df)"
   ]
  },
  {
   "cell_type": "markdown",
   "id": "4e650243",
   "metadata": {},
   "source": [
    "## 忽略遺失值\n",
    "+ 忽略丟棄\n",
    "  + 如果你直接把具有遺漏值的資料丟掉，那麼很可能你的訓練資料量或是維度會下降。\n",
    "  + 你在未來預測資料時，也可能會遇到資料不全的狀況。\n",
    "+ 缺少資料的計算\n",
    "  + 計算數值資料總和時 NA 將被視為零。\n",
    "  + 如果數值資料全部是 NA，那麼結果將是 NA。"
   ]
  },
  {
   "cell_type": "code",
   "execution_count": 44,
   "id": "b49a087c",
   "metadata": {},
   "outputs": [
    {
     "name": "stdout",
     "output_type": "stream",
     "text": [
      "    A     B   C    D\n",
      "0   2   3.0   4  5.0\n",
      "1   6  34.0   6  NaN\n",
      "2  10   NaN  11  8.0\n",
      "A    18\n",
      "dtype: int64\n",
      "B    37.0\n",
      "dtype: float64\n",
      "A    6.0\n",
      "dtype: float64\n",
      "B    18.5\n",
      "dtype: float64\n",
      "A    3\n",
      "dtype: int64\n",
      "B    2\n",
      "dtype: int64\n",
      "A    0\n",
      "B    1\n",
      "C    0\n",
      "D    1\n",
      "dtype: int64\n"
     ]
    }
   ],
   "source": [
    "import pandas as pd\n",
    "import  numpy as np\n",
    "from io import  StringIO\n",
    "csv_data='''\n",
    "A,B,C,D\n",
    "2,3,4,5\n",
    "6,34,6\n",
    "10,,11,8\n",
    "'''\n",
    "df=pd.read_csv(StringIO(csv_data))\n",
    "print(df)\n",
    "print(df[['A']].sum())\n",
    "print(df[['B']].sum())\n",
    "print(df[['A']].mean())\n",
    "print(df[['B']].mean())# 數量算2筆\n",
    "print(df[['A']].count())\n",
    "print(df[['B']].count())\n",
    "print(df.isnull().sum())"
   ]
  },
  {
   "cell_type": "markdown",
   "id": "5c073e13",
   "metadata": {},
   "source": [
    "## 丟棄遺失值\n",
    "+ 您可以使用 dropna 方法再搭配 axis 參數方式進行搭配。\n",
    "+ 默認情況下，預設為 axis = 0，也就是會沿著 Rows 進行，當發現到任何值為 NA 就會整個 Row 刪除。\n",
    "+ 若加入參數 how=‘all’ 代表整個 Row 資料都是遺失值情況下才可以刪除丟棄。\n",
    "+ 加入參數 thresh=N 代表刪除包含少於 N 個觀察值的 row。\n"
   ]
  },
  {
   "cell_type": "code",
   "execution_count": 45,
   "id": "ceb582f8",
   "metadata": {},
   "outputs": [
    {
     "name": "stdout",
     "output_type": "stream",
     "text": [
      "      A     B     C    D\n",
      "0   2.0   3.0   4.0  5.0\n",
      "1   6.0  34.0   6.0  NaN\n",
      "2  10.0   NaN  11.0  8.0\n",
      "3   NaN   NaN   NaN  NaN\n",
      "4   3.0   3.0   NaN  NaN\n",
      "5   NaN   5.0   NaN  NaN\n",
      "============\n",
      "     A    B    C    D\n",
      "0  2.0  3.0  4.0  5.0\n",
      "============\n",
      "Empty DataFrame\n",
      "Columns: []\n",
      "Index: [0, 1, 2, 3, 4, 5]\n",
      "============\n",
      "      A     B     C    D\n",
      "0   2.0   3.0   4.0  5.0\n",
      "1   6.0  34.0   6.0  NaN\n",
      "2  10.0   NaN  11.0  8.0\n",
      "4   3.0   3.0   NaN  NaN\n",
      "5   NaN   5.0   NaN  NaN\n",
      "============\n",
      "      A     B     C    D\n",
      "0   2.0   3.0   4.0  5.0\n",
      "1   6.0  34.0   6.0  NaN\n",
      "2  10.0   NaN  11.0  8.0\n",
      "3   3.0   3.0   NaN  NaN\n",
      "4   NaN   5.0   NaN  NaN\n"
     ]
    }
   ],
   "source": [
    "import pandas as pd\n",
    "import  numpy as np\n",
    "from io import  StringIO\n",
    "csv_data='''\n",
    "A,B,C,D\n",
    "2,3,4,5\n",
    "6,34,6\n",
    "10,,11,8\n",
    ",,,\n",
    "3,3,,\n",
    ",5,,\n",
    "'''\n",
    "df=pd.read_csv(StringIO(csv_data))\n",
    "print(df)\n",
    "print(\"============\")\n",
    "df1=df.dropna(axis=0)#只要一個Row是Nan就移除\n",
    "print(df1)\n",
    "print(\"============\")\n",
    "df2=df.dropna(axis=1) #因為每一欄都有NaN所以沒資料\n",
    "print(df2)\n",
    "print(\"============\")\n",
    "df3=df.dropna(axis=0,how='all')# 所有都是Nan才移除\n",
    "print(df3)\n",
    "print(\"============\")\n",
    "print(df3.reset_index(drop=True)) #重置index"
   ]
  },
  {
   "cell_type": "code",
   "execution_count": 46,
   "id": "2ceb2593",
   "metadata": {},
   "outputs": [
    {
     "name": "stdout",
     "output_type": "stream",
     "text": [
      "      A     B     C    D   E\n",
      "0   2.0   3.0   4.0  5.0 NaN\n",
      "1   6.0  34.0   6.0  NaN NaN\n",
      "2  10.0   NaN  11.0  8.0 NaN\n",
      "3   NaN   NaN   NaN  NaN NaN\n",
      "4   3.0   NaN   3.0  NaN NaN\n",
      "5   NaN   5.0   NaN  NaN NaN\n",
      "============\n",
      "      A     B     C    D   E\n",
      "0   2.0   3.0   4.0  5.0 NaN\n",
      "1   6.0  34.0   6.0  NaN NaN\n",
      "2  10.0   NaN  11.0  8.0 NaN\n",
      "============\n",
      "      A    B     C    D   E\n",
      "0   2.0  3.0   4.0  5.0 NaN\n",
      "2  10.0  NaN  11.0  8.0 NaN\n"
     ]
    }
   ],
   "source": [
    "import pandas as pd\n",
    "import  numpy as np\n",
    "from io import  StringIO\n",
    "csv_data='''\n",
    "A,B,C,D,E\n",
    "2,3,4,5,\n",
    "6,34,6,\n",
    "10,,11,8,\n",
    ",,,\n",
    "3,,3,,\n",
    ",5,,,\n",
    "'''\n",
    "df=pd.read_csv(StringIO(csv_data))\n",
    "print(df)\n",
    "print(\"============\")\n",
    "df1=df.dropna(thresh=3) # 每一各row有3各NaN的移除\n",
    "print(df1)\n",
    "print(\"============\")\n",
    "df2=df.dropna(subset=['C','D']) # c跟d欄位都不是NaN的顯示\n",
    "print(df2)"
   ]
  },
  {
   "cell_type": "markdown",
   "id": "b56c8923",
   "metadata": {},
   "source": [
    "## 填充遺失值\n",
    "+ 可使用 fillna 函數進行填充\n",
    "  + 輸入要填充的數值\n",
    "    + 補上中位數：建議補上中位數而非平均值，這樣相對來說不會受到極端值的影響。\n",
    "    + 根據原本的資料分布補上亂數。\n",
    "+ 以下兩種方式可以向後或者向前進行填充\n",
    "   + pad/ffill          代表向後填充\n",
    "   + bfill/backfill   代表向前填充"
   ]
  },
  {
   "cell_type": "code",
   "execution_count": 47,
   "id": "5ffa3fdf",
   "metadata": {},
   "outputs": [
    {
     "name": "stdout",
     "output_type": "stream",
     "text": [
      "      A     B     C    D\n",
      "0   2.0   3.0   4.0  5.0\n",
      "1   6.0  34.0   6.0  NaN\n",
      "2  10.0   NaN  11.0  8.0\n",
      "3   NaN   NaN   NaN  NaN\n",
      "4   3.0   3.0   NaN  NaN\n",
      "5   NaN   5.0   NaN  NaN\n",
      "============\n",
      "      A     B     C    D\n",
      "0   2.0   3.0   4.0  5.0\n",
      "1   6.0  34.0   6.0  0.0\n",
      "2  10.0   0.0  11.0  8.0\n",
      "3   0.0   0.0   0.0  0.0\n",
      "4   3.0   3.0   0.0  0.0\n",
      "5   0.0   5.0   0.0  0.0\n",
      "============\n",
      "A    4.5\n",
      "B    4.0\n",
      "C    6.0\n",
      "D    6.5\n",
      "dtype: float64\n",
      "============\n",
      "      A     B     C    D\n",
      "0   2.0   3.0   4.0  5.0\n",
      "1   6.0  34.0   6.0  6.5\n",
      "2  10.0   4.0  11.0  8.0\n",
      "3   4.5   4.0   6.0  6.5\n",
      "4   3.0   3.0   6.0  6.5\n",
      "5   4.5   5.0   6.0  6.5\n"
     ]
    }
   ],
   "source": [
    "import pandas as pd\n",
    "import  numpy as np\n",
    "from io import  StringIO\n",
    "csv_data='''\n",
    "A,B,C,D\n",
    "2,3,4,5\n",
    "6,34,6\n",
    "10,,11,8\n",
    ",,,\n",
    "3,3,,\n",
    ",5,,\n",
    "'''\n",
    "df=pd.read_csv(StringIO(csv_data))\n",
    "print(df)\n",
    "print(\"============\")\n",
    "df1=df.fillna(0)\n",
    "print(df1)\n",
    "print(\"============\")\n",
    "median1=df.median()#中位數\n",
    "print(median1)\n",
    "print(\"============\")\n",
    "df2=df.fillna(median1)\n",
    "print(df2)"
   ]
  },
  {
   "cell_type": "code",
   "execution_count": 48,
   "id": "56fae686",
   "metadata": {},
   "outputs": [
    {
     "name": "stdout",
     "output_type": "stream",
     "text": [
      "      A     B     C    D\n",
      "0   2.0   3.0   4.0  5.0\n",
      "1   6.0  34.0   6.0  NaN\n",
      "2  10.0   NaN  11.0  8.0\n",
      "3   NaN   NaN   NaN  NaN\n",
      "4   3.0   3.0   NaN  NaN\n",
      "5   NaN   5.0   NaN  NaN\n",
      "========================\n",
      "      A     B     C    D\n",
      "0   2.0   3.0   4.0  5.0\n",
      "1   6.0  34.0   6.0  0.0\n",
      "2  10.0   0.0  11.0  8.0\n",
      "3   0.0   NaN   0.0  NaN\n",
      "4   3.0   3.0   NaN  NaN\n",
      "5   NaN   5.0   NaN  NaN\n",
      "========================\n",
      "A    4.5\n",
      "B    4.0\n",
      "C    6.0\n",
      "D    6.5\n",
      "dtype: float64\n",
      "========================\n",
      "      A     B     C    D\n",
      "0   2.0   3.0   4.0  5.0\n",
      "1   6.0  34.0   6.0  6.5\n",
      "2  10.0   4.0  11.0  8.0\n",
      "3   4.5   NaN   6.0  NaN\n",
      "4   3.0   3.0   NaN  NaN\n",
      "5   NaN   5.0   NaN  NaN\n"
     ]
    }
   ],
   "source": [
    "import pandas as pd\n",
    "import  numpy as np\n",
    "from io import  StringIO\n",
    "csv_data='''\n",
    "A,B,C,D\n",
    "2,3,4,5\n",
    "6,34,6\n",
    "10,,11,8\n",
    ",,,\n",
    "3,3,,\n",
    ",5,,\n",
    "'''\n",
    "df=pd.read_csv(StringIO(csv_data))\n",
    "print(df)\n",
    "print(\"========================\")\n",
    "df1=df.fillna(0,limit=1) #限制每一欄只補一個數\n",
    "print(df1)\n",
    "print(\"========================\")\n",
    "median1=df.median()\n",
    "print(median1)\n",
    "print(\"========================\")\n",
    "df2=df.fillna(median1,limit=1)\n",
    "print(df2)"
   ]
  },
  {
   "cell_type": "markdown",
   "id": "44dbc1ab",
   "metadata": {},
   "source": [
    "### 以下兩種方式可以向後或者向前進行填充\n",
    "   + pad/ffill          代表向後填充\n",
    "   + bfill/backfill   代表向前填充"
   ]
  },
  {
   "cell_type": "code",
   "execution_count": 49,
   "id": "72d4440b",
   "metadata": {},
   "outputs": [
    {
     "name": "stdout",
     "output_type": "stream",
     "text": [
      "      A     B     C    D\n",
      "0   2.0   3.0   4.0  5.0\n",
      "1   6.0  34.0   6.0  NaN\n",
      "2  10.0   NaN  11.0  8.0\n",
      "3   NaN   NaN   NaN  NaN\n",
      "4   3.0   NaN   NaN  NaN\n",
      "5   NaN   5.0   NaN  NaN\n",
      "=============\n",
      "      A     B     C    D\n",
      "0   2.0   3.0   4.0  5.0\n",
      "1   6.0  34.0   6.0  5.0\n",
      "2  10.0  34.0  11.0  8.0\n",
      "3  10.0  34.0  11.0  8.0\n",
      "4   3.0  34.0  11.0  8.0\n",
      "5   3.0   5.0  11.0  8.0\n",
      "=============\n",
      "      A     B     C    D\n",
      "0   2.0   3.0   4.0  5.0\n",
      "1   6.0  34.0   6.0  8.0\n",
      "2  10.0   5.0  11.0  8.0\n",
      "3   3.0   5.0   NaN  NaN\n",
      "4   3.0   5.0   NaN  NaN\n",
      "5   NaN   5.0   NaN  NaN\n",
      "=============\n",
      "      A     B     C    D\n",
      "0   2.0   3.0   4.0  5.0\n",
      "1   6.0  34.0   6.0  5.0\n",
      "2  10.0  34.0  11.0  8.0\n",
      "3  10.0   NaN  11.0  8.0\n",
      "4   3.0   NaN   NaN  NaN\n",
      "5   3.0   5.0   NaN  NaN\n",
      "=============\n",
      "      A     B     C    D\n",
      "0   2.0   3.0   4.0  5.0\n",
      "1   6.0  34.0   6.0  8.0\n",
      "2  10.0   NaN  11.0  8.0\n",
      "3   3.0   NaN   NaN  NaN\n",
      "4   3.0   5.0   NaN  NaN\n",
      "5   NaN   5.0   NaN  NaN\n",
      "=============\n"
     ]
    }
   ],
   "source": [
    "import pandas as pd\n",
    "import  numpy as np\n",
    "from io import  StringIO\n",
    "csv_data='''\n",
    "A,B,C,D\n",
    "2,3,4,5\n",
    "6,34,6\n",
    "10,,11,8\n",
    ",,,\n",
    "3,,,\n",
    ",5,,\n",
    "'''\n",
    "df=pd.read_csv(StringIO(csv_data))\n",
    "print(df)\n",
    "print(\"=============\")\n",
    "df1=df.fillna(method='pad') # 如果當前欄位是NaN  向上一筆同欄直到非NaN的值 寫入目前欄位\n",
    "print(df1)\n",
    "print(\"=============\")\n",
    "df2=df.fillna(method='backfill') # 如果當前欄位是NaN  向下一筆同欄直到非NaN的值 寫入目前欄位\n",
    "print(df2)\n",
    "print(\"=============\")\n",
    "df1=df.fillna(method='pad',limit=1) #因為limit為1 當前欄位是NaN 向上找1筆 寫入目前欄位\n",
    "print(df1)\n",
    "print(\"=============\")\n",
    "df2=df.fillna(method='backfill',limit=1)# 因為limit為1 當前欄位是NaN 向下找1筆 寫入目前欄位\n",
    "print(df2)\n",
    "print(\"=============\")"
   ]
  },
  {
   "cell_type": "markdown",
   "id": "8caf4337",
   "metadata": {},
   "source": [
    "## 重複值偵測\n",
    "+ 可利用 duplicated( ) 方法檢查 dataframe 內的 row 是否有完整重複值資料。\n",
    "+ 若 duplicated( ) 方法內加入欄位名稱代表檢查某欄位是否有重複資料。\n",
    "+ drop_duplicates( ) 方法將會丟棄重複值：\n",
    "  + 預設保留第一個。\n",
    "  + 若加入 keep=‘first’ 將得到相同結果。\n",
    "  + 若加入 keep=‘last’ 將保留最後一個。\n",
    "  + 若加入 keep=False 代表不保留。\n",
    "+ 站在 row 的角度，若有多個重複的資料，那 row 也會執行多個重複值的檢查與刪除。\n",
    "+ 站在 column 角度，若要進行重複值的檢查與刪除，必須告訴他column 名稱，若是兩個欄位以上，請加入 subset=[‘欄位1’,‘欄位2’]。"
   ]
  },
  {
   "cell_type": "code",
   "execution_count": 50,
   "id": "76af1011",
   "metadata": {},
   "outputs": [
    {
     "name": "stdout",
     "output_type": "stream",
     "text": [
      "    A   B  C  D\n",
      "0   2   3  5  5\n",
      "1   5   5  5  5\n",
      "2   5   5  5  5\n",
      "3  13  23  5  5\n"
     ]
    }
   ],
   "source": [
    "import pandas as pd\n",
    "import  numpy as np\n",
    "from io import  StringIO\n",
    "csv_data='''\n",
    "A,B,C,D\n",
    "2,3,5,5\n",
    "5,5,5,5\n",
    "5,5,5,5\n",
    "13,23,5,5\n",
    "'''\n",
    "df=pd.read_csv(StringIO(csv_data))\n",
    "print(df)"
   ]
  },
  {
   "cell_type": "markdown",
   "id": "40964c08",
   "metadata": {},
   "source": [
    "### 檢查重複"
   ]
  },
  {
   "cell_type": "code",
   "execution_count": 53,
   "id": "6b32988a",
   "metadata": {},
   "outputs": [
    {
     "name": "stdout",
     "output_type": "stream",
     "text": [
      "    A   B  C  D\n",
      "0   2   3  5  5\n",
      "1   5   5  5  5\n",
      "2   5   5  5  5\n",
      "3  13  23  5  5\n",
      "------0----\n",
      "0    False\n",
      "1    False\n",
      "2     True\n",
      "3    False\n",
      "dtype: bool\n",
      "-------1---------\n",
      "0    False\n",
      "1    False\n",
      "2     True\n",
      "3    False\n",
      "dtype: bool\n",
      "-------2---------\n",
      "0    False\n",
      "1     True\n",
      "2     True\n",
      "3     True\n",
      "dtype: bool\n",
      "-------3---------\n"
     ]
    }
   ],
   "source": [
    "import pandas as pd\n",
    "import  numpy as np\n",
    "from io import  StringIO\n",
    "csv_data='''\n",
    "A,B,C,D\n",
    "2,3,5,5\n",
    "5,5,5,5\n",
    "5,5,5,5\n",
    "13,23,5,5\n",
    "'''\n",
    "df=pd.read_csv(StringIO(csv_data))\n",
    "print(df)\n",
    "print(\"------0----\")\n",
    "print(df.duplicated()) #因為index 2的row 5 5 5 與 index 1的row 5 5 5 一模一樣所以重複\n",
    "print(\"-------1---------\")\n",
    "print(df.duplicated('A')) # 單獨查A欄的數值是否重複\n",
    "print(\"-------2---------\")\n",
    "print(df.duplicated('D'))\n",
    "print(\"-------3---------\")"
   ]
  },
  {
   "cell_type": "code",
   "execution_count": null,
   "id": "00d5e93c",
   "metadata": {},
   "outputs": [],
   "source": []
  }
 ],
 "metadata": {
  "kernelspec": {
   "display_name": "Python 3 (ipykernel)",
   "language": "python",
   "name": "python3"
  },
  "language_info": {
   "codemirror_mode": {
    "name": "ipython",
    "version": 3
   },
   "file_extension": ".py",
   "mimetype": "text/x-python",
   "name": "python",
   "nbconvert_exporter": "python",
   "pygments_lexer": "ipython3",
   "version": "3.8.11"
  }
 },
 "nbformat": 4,
 "nbformat_minor": 5
}
